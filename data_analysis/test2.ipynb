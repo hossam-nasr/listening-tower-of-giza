{
 "metadata": {
  "language_info": {
   "codemirror_mode": {
    "name": "ipython",
    "version": 3
   },
   "file_extension": ".py",
   "mimetype": "text/x-python",
   "name": "python",
   "nbconvert_exporter": "python",
   "pygments_lexer": "ipython3",
   "version": "3.8.2-final"
  },
  "orig_nbformat": 2,
  "kernelspec": {
   "name": "python3",
   "display_name": "Python 3.8.2 64-bit",
   "metadata": {
    "interpreter": {
     "hash": "31f2aee4e71d21fbe5cf8b01ff0e069b9275f58929596ceb00d14d90e3e16cd6"
    }
   }
  }
 },
 "nbformat": 4,
 "nbformat_minor": 2,
 "cells": [
  {
   "cell_type": "code",
   "execution_count": 2,
   "metadata": {},
   "outputs": [],
   "source": [
    "import pandas as pd"
   ]
  },
  {
   "cell_type": "code",
   "execution_count": 3,
   "metadata": {},
   "outputs": [
    {
     "output_type": "execute_result",
     "data": {
      "text/plain": [
       "       experiment_id   run_number  experiment_count     timestamp  \\\n",
       "count    6513.000000  6513.000000       6513.000000  6.513000e+03   \n",
       "mean     2956.234915     2.262552         14.526793  1.616400e+12   \n",
       "std      1856.232904     0.952579          8.698555  7.791336e+07   \n",
       "min         0.000000     0.000000          0.000000  1.616234e+12   \n",
       "25%      1313.000000     2.000000         10.000000  1.616334e+12   \n",
       "50%      2941.000000     3.000000         20.000000  1.616439e+12   \n",
       "75%      4569.000000     3.000000         21.000000  1.616471e+12   \n",
       "max      6197.000000     3.000000         32.000000  1.616503e+12   \n",
       "\n",
       "       timezone_offset  default_lookup_success  cloudflare_lookup_success  \\\n",
       "count           6513.0             6513.000000                6513.000000   \n",
       "mean            -120.0                0.957470                   0.974513   \n",
       "std                0.0                0.201811                   0.157612   \n",
       "min             -120.0                0.000000                   0.000000   \n",
       "25%             -120.0                1.000000                   1.000000   \n",
       "50%             -120.0                1.000000                   1.000000   \n",
       "75%             -120.0                1.000000                   1.000000   \n",
       "max             -120.0                1.000000                   1.000000   \n",
       "\n",
       "       page_load_success  \n",
       "count        6513.000000  \n",
       "mean            0.791033  \n",
       "std             0.406602  \n",
       "min             0.000000  \n",
       "25%             1.000000  \n",
       "50%             1.000000  \n",
       "75%             1.000000  \n",
       "max             1.000000  "
      ],
      "text/html": "<div>\n<style scoped>\n    .dataframe tbody tr th:only-of-type {\n        vertical-align: middle;\n    }\n\n    .dataframe tbody tr th {\n        vertical-align: top;\n    }\n\n    .dataframe thead th {\n        text-align: right;\n    }\n</style>\n<table border=\"1\" class=\"dataframe\">\n  <thead>\n    <tr style=\"text-align: right;\">\n      <th></th>\n      <th>experiment_id</th>\n      <th>run_number</th>\n      <th>experiment_count</th>\n      <th>timestamp</th>\n      <th>timezone_offset</th>\n      <th>default_lookup_success</th>\n      <th>cloudflare_lookup_success</th>\n      <th>page_load_success</th>\n    </tr>\n  </thead>\n  <tbody>\n    <tr>\n      <th>count</th>\n      <td>6513.000000</td>\n      <td>6513.000000</td>\n      <td>6513.000000</td>\n      <td>6.513000e+03</td>\n      <td>6513.0</td>\n      <td>6513.000000</td>\n      <td>6513.000000</td>\n      <td>6513.000000</td>\n    </tr>\n    <tr>\n      <th>mean</th>\n      <td>2956.234915</td>\n      <td>2.262552</td>\n      <td>14.526793</td>\n      <td>1.616400e+12</td>\n      <td>-120.0</td>\n      <td>0.957470</td>\n      <td>0.974513</td>\n      <td>0.791033</td>\n    </tr>\n    <tr>\n      <th>std</th>\n      <td>1856.232904</td>\n      <td>0.952579</td>\n      <td>8.698555</td>\n      <td>7.791336e+07</td>\n      <td>0.0</td>\n      <td>0.201811</td>\n      <td>0.157612</td>\n      <td>0.406602</td>\n    </tr>\n    <tr>\n      <th>min</th>\n      <td>0.000000</td>\n      <td>0.000000</td>\n      <td>0.000000</td>\n      <td>1.616234e+12</td>\n      <td>-120.0</td>\n      <td>0.000000</td>\n      <td>0.000000</td>\n      <td>0.000000</td>\n    </tr>\n    <tr>\n      <th>25%</th>\n      <td>1313.000000</td>\n      <td>2.000000</td>\n      <td>10.000000</td>\n      <td>1.616334e+12</td>\n      <td>-120.0</td>\n      <td>1.000000</td>\n      <td>1.000000</td>\n      <td>1.000000</td>\n    </tr>\n    <tr>\n      <th>50%</th>\n      <td>2941.000000</td>\n      <td>3.000000</td>\n      <td>20.000000</td>\n      <td>1.616439e+12</td>\n      <td>-120.0</td>\n      <td>1.000000</td>\n      <td>1.000000</td>\n      <td>1.000000</td>\n    </tr>\n    <tr>\n      <th>75%</th>\n      <td>4569.000000</td>\n      <td>3.000000</td>\n      <td>21.000000</td>\n      <td>1.616471e+12</td>\n      <td>-120.0</td>\n      <td>1.000000</td>\n      <td>1.000000</td>\n      <td>1.000000</td>\n    </tr>\n    <tr>\n      <th>max</th>\n      <td>6197.000000</td>\n      <td>3.000000</td>\n      <td>32.000000</td>\n      <td>1.616503e+12</td>\n      <td>-120.0</td>\n      <td>1.000000</td>\n      <td>1.000000</td>\n      <td>1.000000</td>\n    </tr>\n  </tbody>\n</table>\n</div>"
     },
     "metadata": {},
     "execution_count": 3
    }
   ],
   "source": [
    "egypt_control = pd.read_csv(\"../data/egypt_control/experiments.csv\")\n",
    "us_control = pd.read_csv(\"../data/us_control/experiments.csv\")\n",
    "us_control.describe()\n",
    "egypt_control.describe()"
   ]
  },
  {
   "cell_type": "code",
   "execution_count": 4,
   "metadata": {},
   "outputs": [],
   "source": [
    "clean_urls_csv = pd.read_csv(\"../data_collection/urls_to_test.txt\", header=None)\n",
    "clean_urls = list(clean_urls_csv[0])\n",
    "us_broken_indices = range(6753,6793)"
   ]
  },
  {
   "cell_type": "code",
   "execution_count": 5,
   "metadata": {},
   "outputs": [],
   "source": [
    "us_control_clean = us_control[(us_control.url.isin(clean_urls) & ~(us_control.experiment_id.isin(us_broken_indices)))]\n",
    "egypt_control_clean = egypt_control[(egypt_control.url.isin(clean_urls))]"
   ]
  },
  {
   "cell_type": "code",
   "execution_count": 6,
   "metadata": {},
   "outputs": [
    {
     "output_type": "execute_result",
     "data": {
      "text/plain": [
       "       experiment_id   run_number  experiment_count     timestamp  \\\n",
       "count    8469.000000  8469.000000       8469.000000  8.469000e+03   \n",
       "mean     4565.876727    24.650018          6.757468  1.616367e+12   \n",
       "std      2864.808267     1.535467          5.402722  8.719841e+07   \n",
       "min        24.000000    20.000000          0.000000  1.616236e+12   \n",
       "25%      1582.000000    24.000000          0.000000  1.616303e+12   \n",
       "50%      4809.000000    25.000000         10.000000  1.616343e+12   \n",
       "75%      7079.000000    26.000000         11.000000  1.616462e+12   \n",
       "max      9196.000000    26.000000         28.000000  1.616490e+12   \n",
       "\n",
       "       timezone_offset  default_lookup_success  cloudflare_lookup_success  \\\n",
       "count           8469.0             8469.000000                8469.000000   \n",
       "mean             240.0                0.989727                   0.989137   \n",
       "std                0.0                0.100839                   0.103665   \n",
       "min              240.0                0.000000                   0.000000   \n",
       "25%              240.0                1.000000                   1.000000   \n",
       "50%              240.0                1.000000                   1.000000   \n",
       "75%              240.0                1.000000                   1.000000   \n",
       "max              240.0                1.000000                   1.000000   \n",
       "\n",
       "       page_load_success  \n",
       "count        8469.000000  \n",
       "mean            0.986775  \n",
       "std             0.114243  \n",
       "min             0.000000  \n",
       "25%             1.000000  \n",
       "50%             1.000000  \n",
       "75%             1.000000  \n",
       "max             1.000000  "
      ],
      "text/html": "<div>\n<style scoped>\n    .dataframe tbody tr th:only-of-type {\n        vertical-align: middle;\n    }\n\n    .dataframe tbody tr th {\n        vertical-align: top;\n    }\n\n    .dataframe thead th {\n        text-align: right;\n    }\n</style>\n<table border=\"1\" class=\"dataframe\">\n  <thead>\n    <tr style=\"text-align: right;\">\n      <th></th>\n      <th>experiment_id</th>\n      <th>run_number</th>\n      <th>experiment_count</th>\n      <th>timestamp</th>\n      <th>timezone_offset</th>\n      <th>default_lookup_success</th>\n      <th>cloudflare_lookup_success</th>\n      <th>page_load_success</th>\n    </tr>\n  </thead>\n  <tbody>\n    <tr>\n      <th>count</th>\n      <td>8469.000000</td>\n      <td>8469.000000</td>\n      <td>8469.000000</td>\n      <td>8.469000e+03</td>\n      <td>8469.0</td>\n      <td>8469.000000</td>\n      <td>8469.000000</td>\n      <td>8469.000000</td>\n    </tr>\n    <tr>\n      <th>mean</th>\n      <td>4565.876727</td>\n      <td>24.650018</td>\n      <td>6.757468</td>\n      <td>1.616367e+12</td>\n      <td>240.0</td>\n      <td>0.989727</td>\n      <td>0.989137</td>\n      <td>0.986775</td>\n    </tr>\n    <tr>\n      <th>std</th>\n      <td>2864.808267</td>\n      <td>1.535467</td>\n      <td>5.402722</td>\n      <td>8.719841e+07</td>\n      <td>0.0</td>\n      <td>0.100839</td>\n      <td>0.103665</td>\n      <td>0.114243</td>\n    </tr>\n    <tr>\n      <th>min</th>\n      <td>24.000000</td>\n      <td>20.000000</td>\n      <td>0.000000</td>\n      <td>1.616236e+12</td>\n      <td>240.0</td>\n      <td>0.000000</td>\n      <td>0.000000</td>\n      <td>0.000000</td>\n    </tr>\n    <tr>\n      <th>25%</th>\n      <td>1582.000000</td>\n      <td>24.000000</td>\n      <td>0.000000</td>\n      <td>1.616303e+12</td>\n      <td>240.0</td>\n      <td>1.000000</td>\n      <td>1.000000</td>\n      <td>1.000000</td>\n    </tr>\n    <tr>\n      <th>50%</th>\n      <td>4809.000000</td>\n      <td>25.000000</td>\n      <td>10.000000</td>\n      <td>1.616343e+12</td>\n      <td>240.0</td>\n      <td>1.000000</td>\n      <td>1.000000</td>\n      <td>1.000000</td>\n    </tr>\n    <tr>\n      <th>75%</th>\n      <td>7079.000000</td>\n      <td>26.000000</td>\n      <td>11.000000</td>\n      <td>1.616462e+12</td>\n      <td>240.0</td>\n      <td>1.000000</td>\n      <td>1.000000</td>\n      <td>1.000000</td>\n    </tr>\n    <tr>\n      <th>max</th>\n      <td>9196.000000</td>\n      <td>26.000000</td>\n      <td>28.000000</td>\n      <td>1.616490e+12</td>\n      <td>240.0</td>\n      <td>1.000000</td>\n      <td>1.000000</td>\n      <td>1.000000</td>\n    </tr>\n  </tbody>\n</table>\n</div>"
     },
     "metadata": {},
     "execution_count": 6
    }
   ],
   "source": [
    "us_control_clean.describe()"
   ]
  },
  {
   "cell_type": "code",
   "execution_count": 7,
   "metadata": {},
   "outputs": [
    {
     "output_type": "execute_result",
     "data": {
      "text/plain": [
       "       experiment_id   run_number  experiment_count     timestamp  \\\n",
       "count    6208.000000  6208.000000       6208.000000  6.208000e+03   \n",
       "mean     3039.117429     2.307990         14.589562  1.616404e+12   \n",
       "std      1849.818877     0.933345          8.697299  7.710359e+07   \n",
       "min         0.000000     0.000000          0.000000  1.616234e+12   \n",
       "25%      1411.750000     2.000000         10.000000  1.616336e+12   \n",
       "50%      3093.500000     3.000000         20.000000  1.616442e+12   \n",
       "75%      4645.250000     3.000000         21.000000  1.616473e+12   \n",
       "max      6197.000000     3.000000         32.000000  1.616503e+12   \n",
       "\n",
       "       timezone_offset  default_lookup_success  cloudflare_lookup_success  \\\n",
       "count           6208.0             6208.000000                6208.000000   \n",
       "mean            -120.0                0.971166                   0.989691   \n",
       "std                0.0                0.167353                   0.101018   \n",
       "min             -120.0                0.000000                   0.000000   \n",
       "25%             -120.0                1.000000                   1.000000   \n",
       "50%             -120.0                1.000000                   1.000000   \n",
       "75%             -120.0                1.000000                   1.000000   \n",
       "max             -120.0                1.000000                   1.000000   \n",
       "\n",
       "       page_load_success  \n",
       "count        6208.000000  \n",
       "mean            0.826353  \n",
       "std             0.378836  \n",
       "min             0.000000  \n",
       "25%             1.000000  \n",
       "50%             1.000000  \n",
       "75%             1.000000  \n",
       "max             1.000000  "
      ],
      "text/html": "<div>\n<style scoped>\n    .dataframe tbody tr th:only-of-type {\n        vertical-align: middle;\n    }\n\n    .dataframe tbody tr th {\n        vertical-align: top;\n    }\n\n    .dataframe thead th {\n        text-align: right;\n    }\n</style>\n<table border=\"1\" class=\"dataframe\">\n  <thead>\n    <tr style=\"text-align: right;\">\n      <th></th>\n      <th>experiment_id</th>\n      <th>run_number</th>\n      <th>experiment_count</th>\n      <th>timestamp</th>\n      <th>timezone_offset</th>\n      <th>default_lookup_success</th>\n      <th>cloudflare_lookup_success</th>\n      <th>page_load_success</th>\n    </tr>\n  </thead>\n  <tbody>\n    <tr>\n      <th>count</th>\n      <td>6208.000000</td>\n      <td>6208.000000</td>\n      <td>6208.000000</td>\n      <td>6.208000e+03</td>\n      <td>6208.0</td>\n      <td>6208.000000</td>\n      <td>6208.000000</td>\n      <td>6208.000000</td>\n    </tr>\n    <tr>\n      <th>mean</th>\n      <td>3039.117429</td>\n      <td>2.307990</td>\n      <td>14.589562</td>\n      <td>1.616404e+12</td>\n      <td>-120.0</td>\n      <td>0.971166</td>\n      <td>0.989691</td>\n      <td>0.826353</td>\n    </tr>\n    <tr>\n      <th>std</th>\n      <td>1849.818877</td>\n      <td>0.933345</td>\n      <td>8.697299</td>\n      <td>7.710359e+07</td>\n      <td>0.0</td>\n      <td>0.167353</td>\n      <td>0.101018</td>\n      <td>0.378836</td>\n    </tr>\n    <tr>\n      <th>min</th>\n      <td>0.000000</td>\n      <td>0.000000</td>\n      <td>0.000000</td>\n      <td>1.616234e+12</td>\n      <td>-120.0</td>\n      <td>0.000000</td>\n      <td>0.000000</td>\n      <td>0.000000</td>\n    </tr>\n    <tr>\n      <th>25%</th>\n      <td>1411.750000</td>\n      <td>2.000000</td>\n      <td>10.000000</td>\n      <td>1.616336e+12</td>\n      <td>-120.0</td>\n      <td>1.000000</td>\n      <td>1.000000</td>\n      <td>1.000000</td>\n    </tr>\n    <tr>\n      <th>50%</th>\n      <td>3093.500000</td>\n      <td>3.000000</td>\n      <td>20.000000</td>\n      <td>1.616442e+12</td>\n      <td>-120.0</td>\n      <td>1.000000</td>\n      <td>1.000000</td>\n      <td>1.000000</td>\n    </tr>\n    <tr>\n      <th>75%</th>\n      <td>4645.250000</td>\n      <td>3.000000</td>\n      <td>21.000000</td>\n      <td>1.616473e+12</td>\n      <td>-120.0</td>\n      <td>1.000000</td>\n      <td>1.000000</td>\n      <td>1.000000</td>\n    </tr>\n    <tr>\n      <th>max</th>\n      <td>6197.000000</td>\n      <td>3.000000</td>\n      <td>32.000000</td>\n      <td>1.616503e+12</td>\n      <td>-120.0</td>\n      <td>1.000000</td>\n      <td>1.000000</td>\n      <td>1.000000</td>\n    </tr>\n  </tbody>\n</table>\n</div>"
     },
     "metadata": {},
     "execution_count": 7
    }
   ],
   "source": [
    "egypt_control_clean.describe()"
   ]
  },
  {
   "cell_type": "code",
   "execution_count": 90,
   "metadata": {},
   "outputs": [
    {
     "output_type": "execute_result",
     "data": {
      "text/plain": [
       "36"
      ]
     },
     "metadata": {},
     "execution_count": 90
    }
   ],
   "source": [
    "potential_dns_poisoning = egypt_control_clean[((egypt_control_clean.default_lookup_success == 0) & (egypt_control_clean.cloudflare_lookup_success == 1))]\n",
    "potential_dns_poisoning_domains = potential_dns_poisoning.domain.unique()\n",
    "broken_dns_us = us_control_clean[(us_control_clean.domain.isin(potential_dns_poisoning_domains) & (us_control_clean.default_lookup_success == 0))]\n",
    "dns_poisoned = potential_dns_poisoning[~(potential_dns_poisoning.domain.isin(broken_dns_us.domain))]\n",
    "dns_poisoned_domains = list(set(potential_dns_poisoning_domains) - set(broken_dns_us.domain))\n",
    "dns_poisoned_domains\n",
    "potential_dns_poisoning.domain.unique()\n"
   ]
  },
  {
   "cell_type": "code",
   "execution_count": 12,
   "metadata": {},
   "outputs": [
    {
     "output_type": "execute_result",
     "data": {
      "text/plain": [
       "array(['ahmedgamalziada.blogspot.com.eg_0', 'alarab.qa_0', 'alaraby.tv_0',\n",
       "       'almesryoon.com_0', 'elsharq.web.tv_0', 'fakartany.com_0',\n",
       "       'hrw.org_0', 'madamasr.com_2', 'qalyubiagate.com_0',\n",
       "       'sasapost.com_0', 'turk.life_0', 'alscene.com_0', 'al-watan.com_0',\n",
       "       'amlalommah.net_1', 'ansarportsaed.com_1', 'arabsolaa.com_0',\n",
       "       'cairoportal.com_1', 'dailysabah.com_0', 'elshaab.org_0',\n",
       "       'essada.net_0', 'jatoeg.org_0', 'korabia.com_0', 'manalaa.net_0',\n",
       "       'masrmix.com_0', 'moheet.com_0', 'huffpost.com_0',\n",
       "       'vvv.almanassa.net_0', 'mada23.appspot.com_0',\n",
       "       'mada22.appspot.com_0', 'mada21.appspot.com_0',\n",
       "       'madamirror20.appspot.com_0', 'madamirror18.appspot.com_0',\n",
       "       'madamirror17.appspot.com_0', 'madamirror16.appspot.com_0',\n",
       "       'madamirror15.appspot.com_0', 'madamirror14.appspot.com_0',\n",
       "       'madamirror13.appspot.com_0', 'madamirror12.appspot.com_0',\n",
       "       'madamirror10.appspot.com_0', 'madamirror9.appspot.com_0',\n",
       "       'madamirror8.appspot.com_0', 'madamirror7.appspot.com_0',\n",
       "       'madamirrorreloaded.appspot.com_0',\n",
       "       'madamasrmirrored.appspot.com_0', 'madamasrmirror.appspot.com_0',\n",
       "       'voxer.com_0', 'cairoscene.com_0', 'gwady.net_0',\n",
       "       'alwasatparty.com_0', 'waraa-elahdath.com_0', 'farfeshplus.com_0',\n",
       "       'akhbarak.net_0', 'elwehda.com_0', 'egyptwindow.net_0',\n",
       "       'arabi21.com_0', 'alborsanews.com_0', 'al-watan.com_1',\n",
       "       'hrw.org_1', 'hrw.org_2', 'gamaltaha.wordpress.com_10',\n",
       "       'almodon.com_10', 'panet.co.il_10', 'yenisafak.com_10',\n",
       "       'arabicpost.net_10', 'series4watch.online_10',\n",
       "       'tv.series4watch.online_10', 'tv.mycima.tv_10',\n",
       "       'movizland.online_10', 'egy.best_10', 'genderation.xyz_10',\n",
       "       'al-gornal.com_10', 'motamemservice.com_10', 'elbadil.com_10',\n",
       "       'trtarabi.com_10', 'ultrasawt.com_10', 'raya.com_11',\n",
       "       'masr11.com_10', 'gulf-times.com_10', 'madamasr.com_10',\n",
       "       'arabsolaa.com_20', 'alaraby.tv_20', 'alarab.co.uk_20',\n",
       "       'alamatonline.com_21', 'safervpn.com_20', 'dailysabah.com_20',\n",
       "       'purevpn.com_20', 'kraken.com_20', 'huffingtonpost.com_20',\n",
       "       'hrw.org_20', 'hotspotshield.com_20', 'coinbase.com_20',\n",
       "       'bitfinex.com_20', 'binance.com_20', 'waraa-elahdath.com_20',\n",
       "       'umayyapress.com_20', 'ultrasawt.com_11', 'safervpn.com_21',\n",
       "       'purevpn.com_21', 'hurriyetdailynews.com_20', 'elwehda.com_20',\n",
       "       'dailysabah.com_21', 'ansarportsaed.com_21', 'al-watan.com_20',\n",
       "       'al-sharq.com_21', 'alscene.com_11', 'aljazeera.com_11',\n",
       "       'alarab.qa_21', 'steadyproxy.ga_20', 'qalyubiagate.com_20',\n",
       "       'masralekhbaria.com_11', 'marsadpress.net_20', 'madamasr.com_11',\n",
       "       'hrw.org_21', 'harmees.com_21', 'fakartany.com_20',\n",
       "       'elsharq.web.tv_20', 'arab-turkey.com_20', 'arabi21.com_20',\n",
       "       'ansarportsaed.com_22', 'almesryoon.com_20', 'alaraby.tv_21',\n",
       "       'alarab.qa_22', 'akhbarturkiya.com_20', 'qalyubiagate.com_21',\n",
       "       'korabia.com_12', 'trtarabi.com_11', 'asrararabiya.com_21',\n",
       "       'raya.com_14', 'qalyubiagate.com_22', 'ultrasawt.com_12',\n",
       "       'tv.series4watch.online_11', 'hrw.org_22', 'nordvpn.com_22',\n",
       "       'turk.life_22', 'al-watan.com_21', 'alscene.com_12',\n",
       "       'egybest.com_0', 'al-watan.com_22', 'bitfinex.com_21',\n",
       "       'kraken.com_21', 'dailysabah.com_22', 'madamasr.com_12',\n",
       "       'binance.com_21', 'arabyexpressnews.com_12', 'egyrep.com_21',\n",
       "       'safervpn.com_22', 'elshaab.org_21', 'hrw.org_23',\n",
       "       'albedaiah.com_12', 'umayyapress.com_21', 'motamemservice.com_13',\n",
       "       '7iber.com_11', 'ultrasurf.us_25', 'moheet.com_22',\n",
       "       'arabsolaa.com_22', 'madamirror11.appspot.com_0',\n",
       "       'egyptwindow.net_21', 'alarab.co.uk_21', 'godaddy.com_21',\n",
       "       'hrw.org_24', 'almodon.com_11', 'yenisafak.com_11',\n",
       "       'safervpn.com_23', 'thepeninsulaqatar.com_12', 'alquds.co.uk_11',\n",
       "       'hrw.org_25', 'masress.com_11', 'alkessa.com_12',\n",
       "       'al-gornal.com_12', 'akhbarturkiya.com_21', 'arabsolaa.com_23',\n",
       "       'hurriyetdailynews.com_21', 'egybest.co_0', 'essada.net_21',\n",
       "       'watanserb.com_12', 'gwady.net_21', 'rsf.org_21', 'alaraby.tv_22',\n",
       "       'alarab.qa_24', 'elcinema.com_0', 'ansarportsaed.com_23',\n",
       "       'binance.com_22', 'sasapost.com_23', 'mohp.gov.eg_0',\n",
       "       'elsharq.web.tv_21', 'egy.best_11', 'jatoeg.org_21',\n",
       "       'madamasr.com_13', 'thepeninsulaqatar.com_13', 'purevpn.com_22',\n",
       "       'waraa-elahdath.com_21', 'series4watch.online_11',\n",
       "       'alborsanews.com_23', 'egybest.me_0',\n",
       "       'reporter-ohne-grenzen.de_23', 'koorabia.com_0', 'ekb.eg_0',\n",
       "       'arab-turkey.com_22', 'almesryoon.com_22', 'elwehda.com_22',\n",
       "       'hotspotshield.com_22', 'masralekhbaria.com_13',\n",
       "       'al-gornal.com_13', 'ultrasawt.com_13', 'alaraby.tv_23',\n",
       "       'hasamegypt.com_21', 'fakartany.com_21', 'elbadil.com_13',\n",
       "       'movizland.online_11', 'coinbase.com_21', 'elsharq.web.tv_22',\n",
       "       'hrw.org_26', 'al-watan.com_23', 'waraa-elahdath.com_22',\n",
       "       'khatab38.blogspot.com_11', 'alscene.com_13',\n",
       "       'hurriyetdailynews.com_22', 'huffingtonpost.com_21',\n",
       "       'masrmix.com_13', 'hotspotshield.com_23', 'movizland.online_12',\n",
       "       'fakartany.com_22', 'tournews.ar.nf_11', 'almanassa.com_22',\n",
       "       'alarab.qa_26', 'egybest.film_0', 'amlalommah.net_25',\n",
       "       'hamas.ps_15', 'alamatonline.com_22', 'watanserb.com_13'],\n",
       "      dtype=object)"
      ]
     },
     "metadata": {},
     "execution_count": 12
    }
   ],
   "source": [
    "potential_blocked = egypt_control_clean[(egypt_control_clean.page_load_success == 0)]\n",
    "potential_rst = potential_blocked[(potential_blocked.page_load_status.str.startswith('net::ERR_CONNECTION_RESET'))]\n",
    "potential_rst.experiment_code.unique()"
   ]
  },
  {
   "cell_type": "code",
   "execution_count": 53,
   "metadata": {},
   "outputs": [
    {
     "output_type": "execute_result",
     "data": {
      "text/plain": [
       "60"
      ]
     },
     "metadata": {},
     "execution_count": 53
    }
   ],
   "source": [
    "empty_resp = potential_blocked[potential_blocked.page_load_status.str.startswith('net::ERR_EMPTY_RESPONSE')]\n",
    "len(empty_resp.url.unique())"
   ]
  },
  {
   "cell_type": "code",
   "execution_count": 11,
   "metadata": {},
   "outputs": [
    {
     "output_type": "execute_result",
     "data": {
      "text/plain": [
       "      experiment_id  run_number         policy                    domain  \\\n",
       "25               25           0  egypt_control        dailynewsegypt.com   \n",
       "1029            714           1  egypt_control                cencos.org   \n",
       "3337           3022           3  egypt_control                cencos.org   \n",
       "3739           3424           3  egypt_control  madamirror18.appspot.com   \n",
       "3923           3608           3  egypt_control               jiameng.com   \n",
       "4140           3825           3  egypt_control                   payu.in   \n",
       "4467           4152           3  egypt_control                toolur.com   \n",
       "4481           4166           3  egypt_control                toolur.com   \n",
       "6472           6157           3  egypt_control         myworkdayjobs.com   \n",
       "\n",
       "                                                    url  experiment_count  \\\n",
       "25                            http://dailynewsegypt.com                 0   \n",
       "1029                                 http://cencos.org/                10   \n",
       "3337                                 http://cencos.org/                11   \n",
       "3739  https://madamirror18.appspot.com/www.madamasr....                 0   \n",
       "3923                                 http://jiameng.com                 0   \n",
       "4140                                     http://payu.in                 0   \n",
       "4467                              http://www.toolur.com                21   \n",
       "4481                             http://www.toolur.com/                22   \n",
       "6472                           http://myworkdayjobs.com                 0   \n",
       "\n",
       "                 experiment_code      timestamp  timezone_offset  \\\n",
       "25          dailynewsegypt.com_0  1616234294264             -120   \n",
       "1029               cencos.org_10  1616314116152             -120   \n",
       "3337               cencos.org_11  1616440379897             -120   \n",
       "3739  madamirror18.appspot.com_0  1616448145838             -120   \n",
       "3923               jiameng.com_0  1616451498863             -120   \n",
       "4140                   payu.in_0  1616455500989             -120   \n",
       "4467               toolur.com_21  1616462935640             -120   \n",
       "4481               toolur.com_22  1616463226412             -120   \n",
       "6472         myworkdayjobs.com_0  1616502320389             -120   \n",
       "\n",
       "                  local_time default_dns_servers default_lookup_status  \\\n",
       "25    3/20/2021, 11:58:14 AM    [\"172.23.176.1\"]               success   \n",
       "1029  3/21/2021, 10:08:36 AM    [\"172.23.176.1\"]               success   \n",
       "3337   3/22/2021, 9:12:59 PM     [\"172.30.48.1\"]               success   \n",
       "3739  3/22/2021, 11:22:25 PM     [\"172.30.48.1\"]               success   \n",
       "3923  3/23/2021, 12:18:18 AM     [\"172.30.48.1\"]               success   \n",
       "4140   3/23/2021, 1:25:00 AM     [\"172.30.48.1\"]               success   \n",
       "4467   3/23/2021, 3:28:55 AM     [\"172.30.48.1\"]               success   \n",
       "4481   3/23/2021, 3:33:46 AM     [\"172.30.48.1\"]               success   \n",
       "6472   3/23/2021, 2:25:20 PM     [\"172.30.48.1\"]               success   \n",
       "\n",
       "      default_lookup_success              default_lookup_ips  \\\n",
       "25                         1               [\"151.139.243.1\"]   \n",
       "1029                       1               [\"159.203.8.241\"]   \n",
       "3337                       1               [\"159.203.8.241\"]   \n",
       "3739                       1              [\"172.217.18.244\"]   \n",
       "3923                       1                   [\"127.0.0.1\"]   \n",
       "4140                       1  [\"65.1.34.99\",\"13.232.230.23\"]   \n",
       "4467                       1              [\"195.201.209.26\"]   \n",
       "4481                       1              [\"195.201.209.26\"]   \n",
       "6472                       1                   [\"127.0.0.1\"]   \n",
       "\n",
       "     cloudflare_lookup_status  cloudflare_lookup_success  \\\n",
       "25                    success                          1   \n",
       "1029                  success                          1   \n",
       "3337                  success                          1   \n",
       "3739                  success                          1   \n",
       "3923                  success                          1   \n",
       "4140                  success                          1   \n",
       "4467                  success                          1   \n",
       "4481                  success                          1   \n",
       "6472                  success                          1   \n",
       "\n",
       "               cloudflare_lookup_ips                             all_ips  \\\n",
       "25                 [\"151.139.243.1\"]                   [\"151.139.243.1\"]   \n",
       "1029               [\"159.203.8.241\"]                   [\"159.203.8.241\"]   \n",
       "3337               [\"159.203.8.241\"]                   [\"159.203.8.241\"]   \n",
       "3739               [\"216.58.198.84\"]  [\"172.217.18.244\",\"216.58.198.84\"]   \n",
       "3923                   [\"127.0.0.1\"]                       [\"127.0.0.1\"]   \n",
       "4140  [\"13.232.230.23\",\"65.1.34.99\"]      [\"65.1.34.99\",\"13.232.230.23\"]   \n",
       "4467              [\"195.201.209.26\"]                  [\"195.201.209.26\"]   \n",
       "4481              [\"195.201.209.26\"]                  [\"195.201.209.26\"]   \n",
       "6472                   [\"127.0.0.1\"]                       [\"127.0.0.1\"]   \n",
       "\n",
       "      page_load_success                                   page_load_status  \n",
       "25                    0  net::ERR_CONNECTION_REFUSED at http://dailynew...  \n",
       "1029                  0  net::ERR_CONNECTION_REFUSED at http://cencos.org/  \n",
       "3337                  0  net::ERR_CONNECTION_REFUSED at http://cencos.org/  \n",
       "3739                  0  net::ERR_CONNECTION_REFUSED at https://madamir...  \n",
       "3923                  0  net::ERR_CONNECTION_REFUSED at http://jiameng.com  \n",
       "4140                  0      net::ERR_CONNECTION_REFUSED at http://payu.in  \n",
       "4467                  0  net::ERR_CONNECTION_REFUSED at http://www.tool...  \n",
       "4481                  0  net::ERR_CONNECTION_REFUSED at http://www.tool...  \n",
       "6472                  0  net::ERR_CONNECTION_REFUSED at http://myworkda...  "
      ],
      "text/html": "<div>\n<style scoped>\n    .dataframe tbody tr th:only-of-type {\n        vertical-align: middle;\n    }\n\n    .dataframe tbody tr th {\n        vertical-align: top;\n    }\n\n    .dataframe thead th {\n        text-align: right;\n    }\n</style>\n<table border=\"1\" class=\"dataframe\">\n  <thead>\n    <tr style=\"text-align: right;\">\n      <th></th>\n      <th>experiment_id</th>\n      <th>run_number</th>\n      <th>policy</th>\n      <th>domain</th>\n      <th>url</th>\n      <th>experiment_count</th>\n      <th>experiment_code</th>\n      <th>timestamp</th>\n      <th>timezone_offset</th>\n      <th>local_time</th>\n      <th>default_dns_servers</th>\n      <th>default_lookup_status</th>\n      <th>default_lookup_success</th>\n      <th>default_lookup_ips</th>\n      <th>cloudflare_lookup_status</th>\n      <th>cloudflare_lookup_success</th>\n      <th>cloudflare_lookup_ips</th>\n      <th>all_ips</th>\n      <th>page_load_success</th>\n      <th>page_load_status</th>\n    </tr>\n  </thead>\n  <tbody>\n    <tr>\n      <th>25</th>\n      <td>25</td>\n      <td>0</td>\n      <td>egypt_control</td>\n      <td>dailynewsegypt.com</td>\n      <td>http://dailynewsegypt.com</td>\n      <td>0</td>\n      <td>dailynewsegypt.com_0</td>\n      <td>1616234294264</td>\n      <td>-120</td>\n      <td>3/20/2021, 11:58:14 AM</td>\n      <td>[\"172.23.176.1\"]</td>\n      <td>success</td>\n      <td>1</td>\n      <td>[\"151.139.243.1\"]</td>\n      <td>success</td>\n      <td>1</td>\n      <td>[\"151.139.243.1\"]</td>\n      <td>[\"151.139.243.1\"]</td>\n      <td>0</td>\n      <td>net::ERR_CONNECTION_REFUSED at http://dailynew...</td>\n    </tr>\n    <tr>\n      <th>1029</th>\n      <td>714</td>\n      <td>1</td>\n      <td>egypt_control</td>\n      <td>cencos.org</td>\n      <td>http://cencos.org/</td>\n      <td>10</td>\n      <td>cencos.org_10</td>\n      <td>1616314116152</td>\n      <td>-120</td>\n      <td>3/21/2021, 10:08:36 AM</td>\n      <td>[\"172.23.176.1\"]</td>\n      <td>success</td>\n      <td>1</td>\n      <td>[\"159.203.8.241\"]</td>\n      <td>success</td>\n      <td>1</td>\n      <td>[\"159.203.8.241\"]</td>\n      <td>[\"159.203.8.241\"]</td>\n      <td>0</td>\n      <td>net::ERR_CONNECTION_REFUSED at http://cencos.org/</td>\n    </tr>\n    <tr>\n      <th>3337</th>\n      <td>3022</td>\n      <td>3</td>\n      <td>egypt_control</td>\n      <td>cencos.org</td>\n      <td>http://cencos.org/</td>\n      <td>11</td>\n      <td>cencos.org_11</td>\n      <td>1616440379897</td>\n      <td>-120</td>\n      <td>3/22/2021, 9:12:59 PM</td>\n      <td>[\"172.30.48.1\"]</td>\n      <td>success</td>\n      <td>1</td>\n      <td>[\"159.203.8.241\"]</td>\n      <td>success</td>\n      <td>1</td>\n      <td>[\"159.203.8.241\"]</td>\n      <td>[\"159.203.8.241\"]</td>\n      <td>0</td>\n      <td>net::ERR_CONNECTION_REFUSED at http://cencos.org/</td>\n    </tr>\n    <tr>\n      <th>3739</th>\n      <td>3424</td>\n      <td>3</td>\n      <td>egypt_control</td>\n      <td>madamirror18.appspot.com</td>\n      <td>https://madamirror18.appspot.com/www.madamasr....</td>\n      <td>0</td>\n      <td>madamirror18.appspot.com_0</td>\n      <td>1616448145838</td>\n      <td>-120</td>\n      <td>3/22/2021, 11:22:25 PM</td>\n      <td>[\"172.30.48.1\"]</td>\n      <td>success</td>\n      <td>1</td>\n      <td>[\"172.217.18.244\"]</td>\n      <td>success</td>\n      <td>1</td>\n      <td>[\"216.58.198.84\"]</td>\n      <td>[\"172.217.18.244\",\"216.58.198.84\"]</td>\n      <td>0</td>\n      <td>net::ERR_CONNECTION_REFUSED at https://madamir...</td>\n    </tr>\n    <tr>\n      <th>3923</th>\n      <td>3608</td>\n      <td>3</td>\n      <td>egypt_control</td>\n      <td>jiameng.com</td>\n      <td>http://jiameng.com</td>\n      <td>0</td>\n      <td>jiameng.com_0</td>\n      <td>1616451498863</td>\n      <td>-120</td>\n      <td>3/23/2021, 12:18:18 AM</td>\n      <td>[\"172.30.48.1\"]</td>\n      <td>success</td>\n      <td>1</td>\n      <td>[\"127.0.0.1\"]</td>\n      <td>success</td>\n      <td>1</td>\n      <td>[\"127.0.0.1\"]</td>\n      <td>[\"127.0.0.1\"]</td>\n      <td>0</td>\n      <td>net::ERR_CONNECTION_REFUSED at http://jiameng.com</td>\n    </tr>\n    <tr>\n      <th>4140</th>\n      <td>3825</td>\n      <td>3</td>\n      <td>egypt_control</td>\n      <td>payu.in</td>\n      <td>http://payu.in</td>\n      <td>0</td>\n      <td>payu.in_0</td>\n      <td>1616455500989</td>\n      <td>-120</td>\n      <td>3/23/2021, 1:25:00 AM</td>\n      <td>[\"172.30.48.1\"]</td>\n      <td>success</td>\n      <td>1</td>\n      <td>[\"65.1.34.99\",\"13.232.230.23\"]</td>\n      <td>success</td>\n      <td>1</td>\n      <td>[\"13.232.230.23\",\"65.1.34.99\"]</td>\n      <td>[\"65.1.34.99\",\"13.232.230.23\"]</td>\n      <td>0</td>\n      <td>net::ERR_CONNECTION_REFUSED at http://payu.in</td>\n    </tr>\n    <tr>\n      <th>4467</th>\n      <td>4152</td>\n      <td>3</td>\n      <td>egypt_control</td>\n      <td>toolur.com</td>\n      <td>http://www.toolur.com</td>\n      <td>21</td>\n      <td>toolur.com_21</td>\n      <td>1616462935640</td>\n      <td>-120</td>\n      <td>3/23/2021, 3:28:55 AM</td>\n      <td>[\"172.30.48.1\"]</td>\n      <td>success</td>\n      <td>1</td>\n      <td>[\"195.201.209.26\"]</td>\n      <td>success</td>\n      <td>1</td>\n      <td>[\"195.201.209.26\"]</td>\n      <td>[\"195.201.209.26\"]</td>\n      <td>0</td>\n      <td>net::ERR_CONNECTION_REFUSED at http://www.tool...</td>\n    </tr>\n    <tr>\n      <th>4481</th>\n      <td>4166</td>\n      <td>3</td>\n      <td>egypt_control</td>\n      <td>toolur.com</td>\n      <td>http://www.toolur.com/</td>\n      <td>22</td>\n      <td>toolur.com_22</td>\n      <td>1616463226412</td>\n      <td>-120</td>\n      <td>3/23/2021, 3:33:46 AM</td>\n      <td>[\"172.30.48.1\"]</td>\n      <td>success</td>\n      <td>1</td>\n      <td>[\"195.201.209.26\"]</td>\n      <td>success</td>\n      <td>1</td>\n      <td>[\"195.201.209.26\"]</td>\n      <td>[\"195.201.209.26\"]</td>\n      <td>0</td>\n      <td>net::ERR_CONNECTION_REFUSED at http://www.tool...</td>\n    </tr>\n    <tr>\n      <th>6472</th>\n      <td>6157</td>\n      <td>3</td>\n      <td>egypt_control</td>\n      <td>myworkdayjobs.com</td>\n      <td>http://myworkdayjobs.com</td>\n      <td>0</td>\n      <td>myworkdayjobs.com_0</td>\n      <td>1616502320389</td>\n      <td>-120</td>\n      <td>3/23/2021, 2:25:20 PM</td>\n      <td>[\"172.30.48.1\"]</td>\n      <td>success</td>\n      <td>1</td>\n      <td>[\"127.0.0.1\"]</td>\n      <td>success</td>\n      <td>1</td>\n      <td>[\"127.0.0.1\"]</td>\n      <td>[\"127.0.0.1\"]</td>\n      <td>0</td>\n      <td>net::ERR_CONNECTION_REFUSED at http://myworkda...</td>\n    </tr>\n  </tbody>\n</table>\n</div>"
     },
     "metadata": {},
     "execution_count": 11
    }
   ],
   "source": [
    "connection_refused = potential_blocked[potential_blocked.page_load_status.str.startswith('net::ERR_CONNECTION_REFUSED')]\n",
    "connection_refused"
   ]
  },
  {
   "cell_type": "code",
   "execution_count": 13,
   "metadata": {},
   "outputs": [
    {
     "output_type": "execute_result",
     "data": {
      "text/plain": [
       "      experiment_id  run_number         policy             domain  \\\n",
       "115             115           0  egypt_control  activewebproxy.cf   \n",
       "159             159           0  egypt_control      bypasstool.gq   \n",
       "2721           2406           2  egypt_control     topnewproxy.gq   \n",
       "3540           3225           3  egypt_control  freshfreeproxy.ga   \n",
       "4659           4344           3  egypt_control         akproxy.gq   \n",
       "5550           5235           3  egypt_control      bypasstool.gq   \n",
       "6062           5747           3  egypt_control        takesper.gq   \n",
       "6432           6117           3  egypt_control     steadyproxy.ga   \n",
       "\n",
       "                               url  experiment_count       experiment_code  \\\n",
       "115   http://www.activewebproxy.cf                 0   activewebproxy.cf_0   \n",
       "159       http://www.bypasstool.gq                 0       bypasstool.gq_0   \n",
       "2721     http://www.topnewproxy.gq                20     topnewproxy.gq_20   \n",
       "3540  http://www.freshfreeproxy.ga                21  freshfreeproxy.ga_21   \n",
       "4659         http://www.akproxy.gq                21         akproxy.gq_21   \n",
       "5550         http://bypasstool.gq/                22      bypasstool.gq_22   \n",
       "6062        http://www.takesper.gq                22        takesper.gq_22   \n",
       "6432         http://steadyproxy.ga                21     steadyproxy.ga_21   \n",
       "\n",
       "          timestamp  timezone_offset              local_time  \\\n",
       "115   1616235700865             -120  3/20/2021, 12:21:40 PM   \n",
       "159   1616236367310             -120  3/20/2021, 12:32:47 PM   \n",
       "2721  1616354052613             -120   3/21/2021, 9:14:12 PM   \n",
       "3540  1616444243547             -120  3/22/2021, 10:17:23 PM   \n",
       "4659  1616466884975             -120   3/23/2021, 4:34:44 AM   \n",
       "5550  1616484799671             -120   3/23/2021, 9:33:19 AM   \n",
       "6062  1616494883340             -120  3/23/2021, 12:21:23 PM   \n",
       "6432  1616501460821             -120   3/23/2021, 2:11:00 PM   \n",
       "\n",
       "     default_dns_servers default_lookup_status  default_lookup_success  \\\n",
       "115     [\"172.23.176.1\"]               success                       1   \n",
       "159     [\"172.23.176.1\"]               success                       1   \n",
       "2721    [\"172.22.160.1\"]               success                       1   \n",
       "3540     [\"172.30.48.1\"]               success                       1   \n",
       "4659     [\"172.30.48.1\"]               success                       1   \n",
       "5550     [\"172.30.48.1\"]               success                       1   \n",
       "6062     [\"172.30.48.1\"]               success                       1   \n",
       "6432     [\"172.30.48.1\"]               success                       1   \n",
       "\n",
       "     default_lookup_ips cloudflare_lookup_status  cloudflare_lookup_success  \\\n",
       "115    [\"195.20.51.56\"]                  success                          1   \n",
       "159   [\"195.20.50.134\"]                  success                          1   \n",
       "2721  [\"195.20.48.217\"]                  success                          1   \n",
       "3540  [\"195.20.54.104\"]                  success                          1   \n",
       "4659  [\"195.20.52.148\"]                  success                          1   \n",
       "5550  [\"195.20.50.134\"]                  success                          1   \n",
       "6062   [\"195.20.48.69\"]                  success                          1   \n",
       "6432  [\"195.20.52.203\"]                  success                          1   \n",
       "\n",
       "     cloudflare_lookup_ips            all_ips  page_load_success  \\\n",
       "115       [\"195.20.51.56\"]   [\"195.20.51.56\"]                  0   \n",
       "159      [\"195.20.50.134\"]  [\"195.20.50.134\"]                  0   \n",
       "2721     [\"195.20.48.217\"]  [\"195.20.48.217\"]                  0   \n",
       "3540     [\"195.20.54.104\"]  [\"195.20.54.104\"]                  0   \n",
       "4659     [\"195.20.52.148\"]  [\"195.20.52.148\"]                  0   \n",
       "5550     [\"195.20.50.134\"]  [\"195.20.50.134\"]                  0   \n",
       "6062      [\"195.20.48.69\"]   [\"195.20.48.69\"]                  0   \n",
       "6432     [\"195.20.52.203\"]  [\"195.20.52.203\"]                  0   \n",
       "\n",
       "                                       page_load_status  \n",
       "115   net::ERR_ADDRESS_UNREACHABLE at http://www.act...  \n",
       "159   net::ERR_ADDRESS_UNREACHABLE at http://www.byp...  \n",
       "2721  net::ERR_ADDRESS_UNREACHABLE at http://www.top...  \n",
       "3540  net::ERR_ADDRESS_UNREACHABLE at http://www.fre...  \n",
       "4659  net::ERR_ADDRESS_UNREACHABLE at http://www.akp...  \n",
       "5550  net::ERR_ADDRESS_UNREACHABLE at http://bypasst...  \n",
       "6062  net::ERR_ADDRESS_UNREACHABLE at http://www.tak...  \n",
       "6432  net::ERR_ADDRESS_UNREACHABLE at http://steadyp...  "
      ],
      "text/html": "<div>\n<style scoped>\n    .dataframe tbody tr th:only-of-type {\n        vertical-align: middle;\n    }\n\n    .dataframe tbody tr th {\n        vertical-align: top;\n    }\n\n    .dataframe thead th {\n        text-align: right;\n    }\n</style>\n<table border=\"1\" class=\"dataframe\">\n  <thead>\n    <tr style=\"text-align: right;\">\n      <th></th>\n      <th>experiment_id</th>\n      <th>run_number</th>\n      <th>policy</th>\n      <th>domain</th>\n      <th>url</th>\n      <th>experiment_count</th>\n      <th>experiment_code</th>\n      <th>timestamp</th>\n      <th>timezone_offset</th>\n      <th>local_time</th>\n      <th>default_dns_servers</th>\n      <th>default_lookup_status</th>\n      <th>default_lookup_success</th>\n      <th>default_lookup_ips</th>\n      <th>cloudflare_lookup_status</th>\n      <th>cloudflare_lookup_success</th>\n      <th>cloudflare_lookup_ips</th>\n      <th>all_ips</th>\n      <th>page_load_success</th>\n      <th>page_load_status</th>\n    </tr>\n  </thead>\n  <tbody>\n    <tr>\n      <th>115</th>\n      <td>115</td>\n      <td>0</td>\n      <td>egypt_control</td>\n      <td>activewebproxy.cf</td>\n      <td>http://www.activewebproxy.cf</td>\n      <td>0</td>\n      <td>activewebproxy.cf_0</td>\n      <td>1616235700865</td>\n      <td>-120</td>\n      <td>3/20/2021, 12:21:40 PM</td>\n      <td>[\"172.23.176.1\"]</td>\n      <td>success</td>\n      <td>1</td>\n      <td>[\"195.20.51.56\"]</td>\n      <td>success</td>\n      <td>1</td>\n      <td>[\"195.20.51.56\"]</td>\n      <td>[\"195.20.51.56\"]</td>\n      <td>0</td>\n      <td>net::ERR_ADDRESS_UNREACHABLE at http://www.act...</td>\n    </tr>\n    <tr>\n      <th>159</th>\n      <td>159</td>\n      <td>0</td>\n      <td>egypt_control</td>\n      <td>bypasstool.gq</td>\n      <td>http://www.bypasstool.gq</td>\n      <td>0</td>\n      <td>bypasstool.gq_0</td>\n      <td>1616236367310</td>\n      <td>-120</td>\n      <td>3/20/2021, 12:32:47 PM</td>\n      <td>[\"172.23.176.1\"]</td>\n      <td>success</td>\n      <td>1</td>\n      <td>[\"195.20.50.134\"]</td>\n      <td>success</td>\n      <td>1</td>\n      <td>[\"195.20.50.134\"]</td>\n      <td>[\"195.20.50.134\"]</td>\n      <td>0</td>\n      <td>net::ERR_ADDRESS_UNREACHABLE at http://www.byp...</td>\n    </tr>\n    <tr>\n      <th>2721</th>\n      <td>2406</td>\n      <td>2</td>\n      <td>egypt_control</td>\n      <td>topnewproxy.gq</td>\n      <td>http://www.topnewproxy.gq</td>\n      <td>20</td>\n      <td>topnewproxy.gq_20</td>\n      <td>1616354052613</td>\n      <td>-120</td>\n      <td>3/21/2021, 9:14:12 PM</td>\n      <td>[\"172.22.160.1\"]</td>\n      <td>success</td>\n      <td>1</td>\n      <td>[\"195.20.48.217\"]</td>\n      <td>success</td>\n      <td>1</td>\n      <td>[\"195.20.48.217\"]</td>\n      <td>[\"195.20.48.217\"]</td>\n      <td>0</td>\n      <td>net::ERR_ADDRESS_UNREACHABLE at http://www.top...</td>\n    </tr>\n    <tr>\n      <th>3540</th>\n      <td>3225</td>\n      <td>3</td>\n      <td>egypt_control</td>\n      <td>freshfreeproxy.ga</td>\n      <td>http://www.freshfreeproxy.ga</td>\n      <td>21</td>\n      <td>freshfreeproxy.ga_21</td>\n      <td>1616444243547</td>\n      <td>-120</td>\n      <td>3/22/2021, 10:17:23 PM</td>\n      <td>[\"172.30.48.1\"]</td>\n      <td>success</td>\n      <td>1</td>\n      <td>[\"195.20.54.104\"]</td>\n      <td>success</td>\n      <td>1</td>\n      <td>[\"195.20.54.104\"]</td>\n      <td>[\"195.20.54.104\"]</td>\n      <td>0</td>\n      <td>net::ERR_ADDRESS_UNREACHABLE at http://www.fre...</td>\n    </tr>\n    <tr>\n      <th>4659</th>\n      <td>4344</td>\n      <td>3</td>\n      <td>egypt_control</td>\n      <td>akproxy.gq</td>\n      <td>http://www.akproxy.gq</td>\n      <td>21</td>\n      <td>akproxy.gq_21</td>\n      <td>1616466884975</td>\n      <td>-120</td>\n      <td>3/23/2021, 4:34:44 AM</td>\n      <td>[\"172.30.48.1\"]</td>\n      <td>success</td>\n      <td>1</td>\n      <td>[\"195.20.52.148\"]</td>\n      <td>success</td>\n      <td>1</td>\n      <td>[\"195.20.52.148\"]</td>\n      <td>[\"195.20.52.148\"]</td>\n      <td>0</td>\n      <td>net::ERR_ADDRESS_UNREACHABLE at http://www.akp...</td>\n    </tr>\n    <tr>\n      <th>5550</th>\n      <td>5235</td>\n      <td>3</td>\n      <td>egypt_control</td>\n      <td>bypasstool.gq</td>\n      <td>http://bypasstool.gq/</td>\n      <td>22</td>\n      <td>bypasstool.gq_22</td>\n      <td>1616484799671</td>\n      <td>-120</td>\n      <td>3/23/2021, 9:33:19 AM</td>\n      <td>[\"172.30.48.1\"]</td>\n      <td>success</td>\n      <td>1</td>\n      <td>[\"195.20.50.134\"]</td>\n      <td>success</td>\n      <td>1</td>\n      <td>[\"195.20.50.134\"]</td>\n      <td>[\"195.20.50.134\"]</td>\n      <td>0</td>\n      <td>net::ERR_ADDRESS_UNREACHABLE at http://bypasst...</td>\n    </tr>\n    <tr>\n      <th>6062</th>\n      <td>5747</td>\n      <td>3</td>\n      <td>egypt_control</td>\n      <td>takesper.gq</td>\n      <td>http://www.takesper.gq</td>\n      <td>22</td>\n      <td>takesper.gq_22</td>\n      <td>1616494883340</td>\n      <td>-120</td>\n      <td>3/23/2021, 12:21:23 PM</td>\n      <td>[\"172.30.48.1\"]</td>\n      <td>success</td>\n      <td>1</td>\n      <td>[\"195.20.48.69\"]</td>\n      <td>success</td>\n      <td>1</td>\n      <td>[\"195.20.48.69\"]</td>\n      <td>[\"195.20.48.69\"]</td>\n      <td>0</td>\n      <td>net::ERR_ADDRESS_UNREACHABLE at http://www.tak...</td>\n    </tr>\n    <tr>\n      <th>6432</th>\n      <td>6117</td>\n      <td>3</td>\n      <td>egypt_control</td>\n      <td>steadyproxy.ga</td>\n      <td>http://steadyproxy.ga</td>\n      <td>21</td>\n      <td>steadyproxy.ga_21</td>\n      <td>1616501460821</td>\n      <td>-120</td>\n      <td>3/23/2021, 2:11:00 PM</td>\n      <td>[\"172.30.48.1\"]</td>\n      <td>success</td>\n      <td>1</td>\n      <td>[\"195.20.52.203\"]</td>\n      <td>success</td>\n      <td>1</td>\n      <td>[\"195.20.52.203\"]</td>\n      <td>[\"195.20.52.203\"]</td>\n      <td>0</td>\n      <td>net::ERR_ADDRESS_UNREACHABLE at http://steadyp...</td>\n    </tr>\n  </tbody>\n</table>\n</div>"
     },
     "metadata": {},
     "execution_count": 13
    }
   ],
   "source": [
    "address_unreachable = potential_blocked[potential_blocked.page_load_status.str.startswith('net::ERR_ADDRESS_UNREACHABLE')]\n",
    "address_unreachable"
   ]
  },
  {
   "cell_type": "code",
   "execution_count": 17,
   "metadata": {},
   "outputs": [
    {
     "output_type": "execute_result",
     "data": {
      "text/plain": [
       "array(['madamirror19.appspot.com_0', 'madamirror11.appspot.com_0',\n",
       "       'madamirrored.appspot.com_0', 'al-sharq.com_0',\n",
       "       'akhbaralsabah.com_0', 'khatab38.blogspot.com_10',\n",
       "       'baheyya.blogspot.com_10', 'raseef22.com_10', 'shahidwbas.com_10',\n",
       "       'eg.arblionz.com_10', 'tv.arblionz.com_10',\n",
       "       'thepeninsulaqatar.com_10', 'alborsanews.com_20',\n",
       "       'sasapost.com_20', 'amlalommah.net_20', 'alarab.qa_20',\n",
       "       'shadowsocks.org_20', 'cdn.ampproject.org_20', 'medium.com_11',\n",
       "       'baheyya.blogspot.com_11', 'shadowsocks.org_21', 'ida2at.com_22',\n",
       "       'sasapost.com_22', 'madamirror16.appspot.com_0',\n",
       "       'arabicpost.net_11', 'elbadil.com_12', 'mada23.appspot.com_0',\n",
       "       'madamirror14.appspot.com_0', 'amlalommah.net_23',\n",
       "       'cdn.ampproject.org_21', 'tunnelbear.com_24', 'halacima.net_11',\n",
       "       'harmees.com_22', 'al-sharq.com_25', 'eipss-eg.org_11',\n",
       "       'madamirror7.appspot.com_0', 'gamaltaha.wordpress.com_11',\n",
       "       'shahidwbas.com_11', 'raseef22.com_11', 'tv.arblionz.com_11',\n",
       "       'raya.com_16', 'arabi21.com_21', 'medium.com_12',\n",
       "       'eg.arblionz.com_11', 'alarab.qa_25', 'alborsanews.com_24',\n",
       "       'rsf.org_22', 'akhbaralsabah.com_21', 'ultrasurf.us_26',\n",
       "       'gulf-times.com_13', 'madamirror20.appspot.com_0',\n",
       "       'tv.mycima.tv_11', 'thenewkhalij.org_23', 'raya.com_17',\n",
       "       'medanelakhbar.com_11', 'masr11.com_13', 'arabseed.tv_11',\n",
       "       'medium.com_13'], dtype=object)"
      ]
     },
     "metadata": {},
     "execution_count": 17
    }
   ],
   "source": [
    "connection_closed = potential_blocked[potential_blocked.page_load_status.str.startswith('net::ERR_CONNECTION_CLOSED')]\n",
    "connection_closed.experiment_code.unique()"
   ]
  },
  {
   "cell_type": "code",
   "execution_count": 51,
   "metadata": {},
   "outputs": [
    {
     "output_type": "execute_result",
     "data": {
      "text/plain": [
       "      experiment_id  run_number         policy                       domain  \\\n",
       "3118           2803           3  egypt_control                   odaily.com   \n",
       "3124           2809           3  egypt_control                    cites.org   \n",
       "3147           2832           3  egypt_control                   fhi360.org   \n",
       "3153           2838           3  egypt_control  anonymous-proxy-servers.net   \n",
       "3158           2843           3  egypt_control         childrensdefense.org   \n",
       "...             ...         ...            ...                          ...   \n",
       "6448           6133           3  egypt_control                     setn.com   \n",
       "6466           6151           3  egypt_control                      ozon.ru   \n",
       "6476           6161           3  egypt_control             alahlynet.com.eg   \n",
       "6489           6174           3  egypt_control              eluniversal.com   \n",
       "6494           6179           3  egypt_control                 beinmatch.tv   \n",
       "\n",
       "                                      url  experiment_count  \\\n",
       "3118                    http://odaily.com                 0   \n",
       "3124                   https://cites.org/                21   \n",
       "3147              https://www.fhi360.org/                21   \n",
       "3153  http://anonymous-proxy-servers.net/                 0   \n",
       "3158     http://www.childrensdefense.org/                21   \n",
       "...                                   ...               ...   \n",
       "6448                      http://setn.com                 0   \n",
       "6466                       http://ozon.ru                 0   \n",
       "6476              http://alahlynet.com.eg                 0   \n",
       "6489          http://www.eluniversal.com/                21   \n",
       "6494                  http://beinmatch.tv                 0   \n",
       "\n",
       "                    experiment_code      timestamp  timezone_offset  \\\n",
       "3118                   odaily.com_0  1616436633228             -120   \n",
       "3124                   cites.org_21  1616436763288             -120   \n",
       "3147                  fhi360.org_21  1616437208284             -120   \n",
       "3153  anonymous-proxy-servers.net_0  1616437332433             -120   \n",
       "3158        childrensdefense.org_21  1616437446358             -120   \n",
       "...                             ...            ...              ...   \n",
       "6448                     setn.com_0  1616501818519             -120   \n",
       "6466                      ozon.ru_0  1616502188933             -120   \n",
       "6476             alahlynet.com.eg_0  1616502372180             -120   \n",
       "6489             eluniversal.com_21  1616502633577             -120   \n",
       "6494                 beinmatch.tv_0  1616502752342             -120   \n",
       "\n",
       "                 local_time default_dns_servers default_lookup_status  \\\n",
       "3118  3/22/2021, 8:10:33 PM     [\"172.30.48.1\"]               success   \n",
       "3124  3/22/2021, 8:12:43 PM     [\"172.30.48.1\"]               success   \n",
       "3147  3/22/2021, 8:20:08 PM     [\"172.30.48.1\"]               success   \n",
       "3153  3/22/2021, 8:22:12 PM     [\"172.30.48.1\"]               success   \n",
       "3158  3/22/2021, 8:24:06 PM     [\"172.30.48.1\"]               success   \n",
       "...                     ...                 ...                   ...   \n",
       "6448  3/23/2021, 2:16:58 PM     [\"172.30.48.1\"]               success   \n",
       "6466  3/23/2021, 2:23:08 PM     [\"172.30.48.1\"]               success   \n",
       "6476  3/23/2021, 2:26:12 PM     [\"172.30.48.1\"]               success   \n",
       "6489  3/23/2021, 2:30:33 PM     [\"172.30.48.1\"]               success   \n",
       "6494  3/23/2021, 2:32:32 PM     [\"172.30.48.1\"]               success   \n",
       "\n",
       "      default_lookup_success                               default_lookup_ips  \\\n",
       "3118                       1                               [\"39.107.149.215\"]   \n",
       "3124                       1  [\"104.22.46.86\",\"104.22.47.86\",\"172.67.25.202\"]   \n",
       "3147                       1                                   [\"23.185.0.3\"]   \n",
       "3153                       1                                [\"78.129.207.59\"]   \n",
       "3158                       1                                 [\"50.115.17.19\"]   \n",
       "...                      ...                                              ...   \n",
       "6448                       1                                [\"54.238.119.86\"]   \n",
       "6466                       1                  [\"45.60.40.164\",\"45.60.34.164\"]   \n",
       "6476                       1                                 [\"41.33.192.20\"]   \n",
       "6489                       1                              [\"144.217.180.146\"]   \n",
       "6494                       1                [\"172.67.141.244\",\"104.21.57.49\"]   \n",
       "\n",
       "     cloudflare_lookup_status  cloudflare_lookup_success  \\\n",
       "3118                  success                          1   \n",
       "3124                  success                          1   \n",
       "3147                  success                          1   \n",
       "3153                  success                          1   \n",
       "3158                  success                          1   \n",
       "...                       ...                        ...   \n",
       "6448                  success                          1   \n",
       "6466                  success                          1   \n",
       "6476                  success                          1   \n",
       "6489                  success                          1   \n",
       "6494                  success                          1   \n",
       "\n",
       "                                cloudflare_lookup_ips  \\\n",
       "3118                               [\"39.107.149.215\"]   \n",
       "3124  [\"104.22.46.86\",\"104.22.47.86\",\"172.67.25.202\"]   \n",
       "3147                                   [\"23.185.0.3\"]   \n",
       "3153                                [\"78.129.207.59\"]   \n",
       "3158                                 [\"50.115.17.19\"]   \n",
       "...                                               ...   \n",
       "6448                                [\"54.238.119.86\"]   \n",
       "6466                  [\"45.60.34.164\",\"45.60.40.164\"]   \n",
       "6476                                 [\"41.33.192.20\"]   \n",
       "6489                              [\"144.217.180.146\"]   \n",
       "6494                [\"104.21.57.49\",\"172.67.141.244\"]   \n",
       "\n",
       "                                              all_ips  page_load_success  \\\n",
       "3118                               [\"39.107.149.215\"]                  0   \n",
       "3124  [\"104.22.46.86\",\"104.22.47.86\",\"172.67.25.202\"]                  0   \n",
       "3147                                   [\"23.185.0.3\"]                  0   \n",
       "3153                                [\"78.129.207.59\"]                  0   \n",
       "3158                                 [\"50.115.17.19\"]                  0   \n",
       "...                                               ...                ...   \n",
       "6448                                [\"54.238.119.86\"]                  0   \n",
       "6466                  [\"45.60.40.164\",\"45.60.34.164\"]                  0   \n",
       "6476                                 [\"41.33.192.20\"]                  0   \n",
       "6489                              [\"144.217.180.146\"]                  0   \n",
       "6494                [\"172.67.141.244\",\"104.21.57.49\"]                  0   \n",
       "\n",
       "                             page_load_status  \n",
       "3118  Navigation timeout of 60000 ms exceeded  \n",
       "3124  Navigation timeout of 60000 ms exceeded  \n",
       "3147  Navigation timeout of 60000 ms exceeded  \n",
       "3153  Navigation timeout of 60000 ms exceeded  \n",
       "3158  Navigation timeout of 60000 ms exceeded  \n",
       "...                                       ...  \n",
       "6448  Navigation timeout of 60000 ms exceeded  \n",
       "6466  Navigation timeout of 60000 ms exceeded  \n",
       "6476  Navigation timeout of 60000 ms exceeded  \n",
       "6489  Navigation timeout of 60000 ms exceeded  \n",
       "6494  Navigation timeout of 60000 ms exceeded  \n",
       "\n",
       "[185 rows x 20 columns]"
      ],
      "text/html": "<div>\n<style scoped>\n    .dataframe tbody tr th:only-of-type {\n        vertical-align: middle;\n    }\n\n    .dataframe tbody tr th {\n        vertical-align: top;\n    }\n\n    .dataframe thead th {\n        text-align: right;\n    }\n</style>\n<table border=\"1\" class=\"dataframe\">\n  <thead>\n    <tr style=\"text-align: right;\">\n      <th></th>\n      <th>experiment_id</th>\n      <th>run_number</th>\n      <th>policy</th>\n      <th>domain</th>\n      <th>url</th>\n      <th>experiment_count</th>\n      <th>experiment_code</th>\n      <th>timestamp</th>\n      <th>timezone_offset</th>\n      <th>local_time</th>\n      <th>default_dns_servers</th>\n      <th>default_lookup_status</th>\n      <th>default_lookup_success</th>\n      <th>default_lookup_ips</th>\n      <th>cloudflare_lookup_status</th>\n      <th>cloudflare_lookup_success</th>\n      <th>cloudflare_lookup_ips</th>\n      <th>all_ips</th>\n      <th>page_load_success</th>\n      <th>page_load_status</th>\n    </tr>\n  </thead>\n  <tbody>\n    <tr>\n      <th>3118</th>\n      <td>2803</td>\n      <td>3</td>\n      <td>egypt_control</td>\n      <td>odaily.com</td>\n      <td>http://odaily.com</td>\n      <td>0</td>\n      <td>odaily.com_0</td>\n      <td>1616436633228</td>\n      <td>-120</td>\n      <td>3/22/2021, 8:10:33 PM</td>\n      <td>[\"172.30.48.1\"]</td>\n      <td>success</td>\n      <td>1</td>\n      <td>[\"39.107.149.215\"]</td>\n      <td>success</td>\n      <td>1</td>\n      <td>[\"39.107.149.215\"]</td>\n      <td>[\"39.107.149.215\"]</td>\n      <td>0</td>\n      <td>Navigation timeout of 60000 ms exceeded</td>\n    </tr>\n    <tr>\n      <th>3124</th>\n      <td>2809</td>\n      <td>3</td>\n      <td>egypt_control</td>\n      <td>cites.org</td>\n      <td>https://cites.org/</td>\n      <td>21</td>\n      <td>cites.org_21</td>\n      <td>1616436763288</td>\n      <td>-120</td>\n      <td>3/22/2021, 8:12:43 PM</td>\n      <td>[\"172.30.48.1\"]</td>\n      <td>success</td>\n      <td>1</td>\n      <td>[\"104.22.46.86\",\"104.22.47.86\",\"172.67.25.202\"]</td>\n      <td>success</td>\n      <td>1</td>\n      <td>[\"104.22.46.86\",\"104.22.47.86\",\"172.67.25.202\"]</td>\n      <td>[\"104.22.46.86\",\"104.22.47.86\",\"172.67.25.202\"]</td>\n      <td>0</td>\n      <td>Navigation timeout of 60000 ms exceeded</td>\n    </tr>\n    <tr>\n      <th>3147</th>\n      <td>2832</td>\n      <td>3</td>\n      <td>egypt_control</td>\n      <td>fhi360.org</td>\n      <td>https://www.fhi360.org/</td>\n      <td>21</td>\n      <td>fhi360.org_21</td>\n      <td>1616437208284</td>\n      <td>-120</td>\n      <td>3/22/2021, 8:20:08 PM</td>\n      <td>[\"172.30.48.1\"]</td>\n      <td>success</td>\n      <td>1</td>\n      <td>[\"23.185.0.3\"]</td>\n      <td>success</td>\n      <td>1</td>\n      <td>[\"23.185.0.3\"]</td>\n      <td>[\"23.185.0.3\"]</td>\n      <td>0</td>\n      <td>Navigation timeout of 60000 ms exceeded</td>\n    </tr>\n    <tr>\n      <th>3153</th>\n      <td>2838</td>\n      <td>3</td>\n      <td>egypt_control</td>\n      <td>anonymous-proxy-servers.net</td>\n      <td>http://anonymous-proxy-servers.net/</td>\n      <td>0</td>\n      <td>anonymous-proxy-servers.net_0</td>\n      <td>1616437332433</td>\n      <td>-120</td>\n      <td>3/22/2021, 8:22:12 PM</td>\n      <td>[\"172.30.48.1\"]</td>\n      <td>success</td>\n      <td>1</td>\n      <td>[\"78.129.207.59\"]</td>\n      <td>success</td>\n      <td>1</td>\n      <td>[\"78.129.207.59\"]</td>\n      <td>[\"78.129.207.59\"]</td>\n      <td>0</td>\n      <td>Navigation timeout of 60000 ms exceeded</td>\n    </tr>\n    <tr>\n      <th>3158</th>\n      <td>2843</td>\n      <td>3</td>\n      <td>egypt_control</td>\n      <td>childrensdefense.org</td>\n      <td>http://www.childrensdefense.org/</td>\n      <td>21</td>\n      <td>childrensdefense.org_21</td>\n      <td>1616437446358</td>\n      <td>-120</td>\n      <td>3/22/2021, 8:24:06 PM</td>\n      <td>[\"172.30.48.1\"]</td>\n      <td>success</td>\n      <td>1</td>\n      <td>[\"50.115.17.19\"]</td>\n      <td>success</td>\n      <td>1</td>\n      <td>[\"50.115.17.19\"]</td>\n      <td>[\"50.115.17.19\"]</td>\n      <td>0</td>\n      <td>Navigation timeout of 60000 ms exceeded</td>\n    </tr>\n    <tr>\n      <th>...</th>\n      <td>...</td>\n      <td>...</td>\n      <td>...</td>\n      <td>...</td>\n      <td>...</td>\n      <td>...</td>\n      <td>...</td>\n      <td>...</td>\n      <td>...</td>\n      <td>...</td>\n      <td>...</td>\n      <td>...</td>\n      <td>...</td>\n      <td>...</td>\n      <td>...</td>\n      <td>...</td>\n      <td>...</td>\n      <td>...</td>\n      <td>...</td>\n      <td>...</td>\n    </tr>\n    <tr>\n      <th>6448</th>\n      <td>6133</td>\n      <td>3</td>\n      <td>egypt_control</td>\n      <td>setn.com</td>\n      <td>http://setn.com</td>\n      <td>0</td>\n      <td>setn.com_0</td>\n      <td>1616501818519</td>\n      <td>-120</td>\n      <td>3/23/2021, 2:16:58 PM</td>\n      <td>[\"172.30.48.1\"]</td>\n      <td>success</td>\n      <td>1</td>\n      <td>[\"54.238.119.86\"]</td>\n      <td>success</td>\n      <td>1</td>\n      <td>[\"54.238.119.86\"]</td>\n      <td>[\"54.238.119.86\"]</td>\n      <td>0</td>\n      <td>Navigation timeout of 60000 ms exceeded</td>\n    </tr>\n    <tr>\n      <th>6466</th>\n      <td>6151</td>\n      <td>3</td>\n      <td>egypt_control</td>\n      <td>ozon.ru</td>\n      <td>http://ozon.ru</td>\n      <td>0</td>\n      <td>ozon.ru_0</td>\n      <td>1616502188933</td>\n      <td>-120</td>\n      <td>3/23/2021, 2:23:08 PM</td>\n      <td>[\"172.30.48.1\"]</td>\n      <td>success</td>\n      <td>1</td>\n      <td>[\"45.60.40.164\",\"45.60.34.164\"]</td>\n      <td>success</td>\n      <td>1</td>\n      <td>[\"45.60.34.164\",\"45.60.40.164\"]</td>\n      <td>[\"45.60.40.164\",\"45.60.34.164\"]</td>\n      <td>0</td>\n      <td>Navigation timeout of 60000 ms exceeded</td>\n    </tr>\n    <tr>\n      <th>6476</th>\n      <td>6161</td>\n      <td>3</td>\n      <td>egypt_control</td>\n      <td>alahlynet.com.eg</td>\n      <td>http://alahlynet.com.eg</td>\n      <td>0</td>\n      <td>alahlynet.com.eg_0</td>\n      <td>1616502372180</td>\n      <td>-120</td>\n      <td>3/23/2021, 2:26:12 PM</td>\n      <td>[\"172.30.48.1\"]</td>\n      <td>success</td>\n      <td>1</td>\n      <td>[\"41.33.192.20\"]</td>\n      <td>success</td>\n      <td>1</td>\n      <td>[\"41.33.192.20\"]</td>\n      <td>[\"41.33.192.20\"]</td>\n      <td>0</td>\n      <td>Navigation timeout of 60000 ms exceeded</td>\n    </tr>\n    <tr>\n      <th>6489</th>\n      <td>6174</td>\n      <td>3</td>\n      <td>egypt_control</td>\n      <td>eluniversal.com</td>\n      <td>http://www.eluniversal.com/</td>\n      <td>21</td>\n      <td>eluniversal.com_21</td>\n      <td>1616502633577</td>\n      <td>-120</td>\n      <td>3/23/2021, 2:30:33 PM</td>\n      <td>[\"172.30.48.1\"]</td>\n      <td>success</td>\n      <td>1</td>\n      <td>[\"144.217.180.146\"]</td>\n      <td>success</td>\n      <td>1</td>\n      <td>[\"144.217.180.146\"]</td>\n      <td>[\"144.217.180.146\"]</td>\n      <td>0</td>\n      <td>Navigation timeout of 60000 ms exceeded</td>\n    </tr>\n    <tr>\n      <th>6494</th>\n      <td>6179</td>\n      <td>3</td>\n      <td>egypt_control</td>\n      <td>beinmatch.tv</td>\n      <td>http://beinmatch.tv</td>\n      <td>0</td>\n      <td>beinmatch.tv_0</td>\n      <td>1616502752342</td>\n      <td>-120</td>\n      <td>3/23/2021, 2:32:32 PM</td>\n      <td>[\"172.30.48.1\"]</td>\n      <td>success</td>\n      <td>1</td>\n      <td>[\"172.67.141.244\",\"104.21.57.49\"]</td>\n      <td>success</td>\n      <td>1</td>\n      <td>[\"104.21.57.49\",\"172.67.141.244\"]</td>\n      <td>[\"172.67.141.244\",\"104.21.57.49\"]</td>\n      <td>0</td>\n      <td>Navigation timeout of 60000 ms exceeded</td>\n    </tr>\n  </tbody>\n</table>\n<p>185 rows × 20 columns</p>\n</div>"
     },
     "metadata": {},
     "execution_count": 51
    }
   ],
   "source": [
    "navigation_timeout_exceeded = potential_blocked[potential_blocked.page_load_status.str.startswith('Navigation timeout')]\n",
    "navigation_timeout_exceeded_run3 = navigation_timeout_exceeded[navigation_timeout_exceeded.run_number == 3]\n",
    "us_navigation_timeout = us_control_clean[us_control_clean.page_load_status.str.startswith('Navigation timeout')]\n",
    "navigation_timeout_exceeded_run3[~(navigation_timeout_exceeded_run3.url.isin(us_navigation_timeout.url))]"
   ]
  },
  {
   "source": [],
   "cell_type": "markdown",
   "metadata": {}
  },
  {
   "cell_type": "code",
   "execution_count": 31,
   "metadata": {},
   "outputs": [
    {
     "output_type": "execute_result",
     "data": {
      "text/plain": [
       "3139                    opera.com_21\n",
       "3210                  manalaa.net_12\n",
       "3218              arab-turkey.com_21\n",
       "3367                     hamas.ps_13\n",
       "3391               tunnelbear.com_23\n",
       "3471                         ok.ru_0\n",
       "3505              genderation.xyz_11\n",
       "3538                  tigervpn.com_0\n",
       "3643                aljazeera.com_13\n",
       "3687                hidemyass.com_22\n",
       "3743                   mormon.org_21\n",
       "3760                     hola.org_23\n",
       "3819                    turk.life_23\n",
       "3855                 alalamtv.net_11\n",
       "3860             vvv.almanassa.net_0\n",
       "3910                   alhurra.com_0\n",
       "3940                usacasino.com_21\n",
       "3956                 ipvanish.com_22\n",
       "3961                securevpn.com_21\n",
       "3966                 f-secure.com_21\n",
       "4034    privateinternetaccess.com_21\n",
       "4078               online.wsj.com_21\n",
       "4135             vwv.almanassa.net_0\n",
       "4494               tunnelbear.com_25\n",
       "4669                    katib.net_11\n",
       "4690                shahidlive.co_11\n",
       "4702     reporter-ohne-grenzen.de_22\n",
       "4788                goldenfrog.com_0\n",
       "4937             on.arbcinema.com_11\n",
       "4968               torproject.org_12\n",
       "5021                       jeem.me_0\n",
       "5037                    anhri.net_21\n",
       "5047                   zenvpn.net_21\n",
       "5061                    ibvpn.com_22\n",
       "5081                     hola.org_24\n",
       "5199                almanassa.com_21\n",
       "5209                  zenmate.com_21\n",
       "5291                surfshark.com_21\n",
       "5395                 diwan.gov.qa_11\n",
       "5806                 hsselite.com_21\n",
       "5980                     hamas.ps_14\n",
       "6033             vvw.almanassa.net_0\n",
       "6094               ampproject.org_11\n",
       "6111                  nordvpn.com_23\n",
       "6379            cyberghostvpn.com_25\n",
       "6406                healthline.com_0\n",
       "6416      liberties.aljazeera.com_22\n",
       "6462                almanassa.com_23\n",
       "Name: experiment_code, dtype: object"
      ]
     },
     "metadata": {},
     "execution_count": 31
    }
   ],
   "source": [
    "timeout = potential_blocked[potential_blocked.page_load_status.str.startswith('net::ERR_TIMED_OUT')]\n",
    "timeout.experiment_code"
   ]
  },
  {
   "cell_type": "code",
   "execution_count": 35,
   "metadata": {},
   "outputs": [
    {
     "output_type": "execute_result",
     "data": {
      "text/plain": [
       "      experiment_id  run_number         policy           domain  \\\n",
       "3600           3285           3  egypt_control  kickstarter.com   \n",
       "\n",
       "                         url  experiment_count    experiment_code  \\\n",
       "3600  http://kickstarter.com                 0  kickstarter.com_0   \n",
       "\n",
       "          timestamp  timezone_offset              local_time  \\\n",
       "3600  1616445334801             -120  3/22/2021, 10:35:34 PM   \n",
       "\n",
       "     default_dns_servers default_lookup_status  default_lookup_success  \\\n",
       "3600     [\"172.30.48.1\"]               success                       1   \n",
       "\n",
       "                                     default_lookup_ips  \\\n",
       "3600  [\"151.101.2.217\",\"151.101.66.217\",\"151.101.130...   \n",
       "\n",
       "     cloudflare_lookup_status  cloudflare_lookup_success  \\\n",
       "3600                  success                          1   \n",
       "\n",
       "                                  cloudflare_lookup_ips  \\\n",
       "3600  [\"151.101.66.217\",\"151.101.194.217\",\"151.101.1...   \n",
       "\n",
       "                                                all_ips  page_load_success  \\\n",
       "3600  [\"151.101.2.217\",\"151.101.66.217\",\"151.101.130...                  0   \n",
       "\n",
       "                                       page_load_status  \n",
       "3600  net::ERR_CERT_DATE_INVALID at http://kickstart...  "
      ],
      "text/html": "<div>\n<style scoped>\n    .dataframe tbody tr th:only-of-type {\n        vertical-align: middle;\n    }\n\n    .dataframe tbody tr th {\n        vertical-align: top;\n    }\n\n    .dataframe thead th {\n        text-align: right;\n    }\n</style>\n<table border=\"1\" class=\"dataframe\">\n  <thead>\n    <tr style=\"text-align: right;\">\n      <th></th>\n      <th>experiment_id</th>\n      <th>run_number</th>\n      <th>policy</th>\n      <th>domain</th>\n      <th>url</th>\n      <th>experiment_count</th>\n      <th>experiment_code</th>\n      <th>timestamp</th>\n      <th>timezone_offset</th>\n      <th>local_time</th>\n      <th>default_dns_servers</th>\n      <th>default_lookup_status</th>\n      <th>default_lookup_success</th>\n      <th>default_lookup_ips</th>\n      <th>cloudflare_lookup_status</th>\n      <th>cloudflare_lookup_success</th>\n      <th>cloudflare_lookup_ips</th>\n      <th>all_ips</th>\n      <th>page_load_success</th>\n      <th>page_load_status</th>\n    </tr>\n  </thead>\n  <tbody>\n    <tr>\n      <th>3600</th>\n      <td>3285</td>\n      <td>3</td>\n      <td>egypt_control</td>\n      <td>kickstarter.com</td>\n      <td>http://kickstarter.com</td>\n      <td>0</td>\n      <td>kickstarter.com_0</td>\n      <td>1616445334801</td>\n      <td>-120</td>\n      <td>3/22/2021, 10:35:34 PM</td>\n      <td>[\"172.30.48.1\"]</td>\n      <td>success</td>\n      <td>1</td>\n      <td>[\"151.101.2.217\",\"151.101.66.217\",\"151.101.130...</td>\n      <td>success</td>\n      <td>1</td>\n      <td>[\"151.101.66.217\",\"151.101.194.217\",\"151.101.1...</td>\n      <td>[\"151.101.2.217\",\"151.101.66.217\",\"151.101.130...</td>\n      <td>0</td>\n      <td>net::ERR_CERT_DATE_INVALID at http://kickstart...</td>\n    </tr>\n  </tbody>\n</table>\n</div>"
     },
     "metadata": {},
     "execution_count": 35
    }
   ],
   "source": [
    "cert_date_invalid = potential_blocked[potential_blocked.page_load_status.str.startswith('net::ERR_CERT_DATE_INVALID')]\n",
    "cert_date_invalid"
   ]
  },
  {
   "source": [
    "too_many_redirects = potential_blocked[potential_blocked.page_load_status.str.startswith('net::ERR_TOO_MANY_REDIRECTS')]\n",
    "too_many_redirects"
   ],
   "cell_type": "code",
   "metadata": {},
   "execution_count": 39,
   "outputs": [
    {
     "output_type": "execute_result",
     "data": {
      "text/plain": [
       "      experiment_id  run_number         policy     domain  \\\n",
       "4333           4018           3  egypt_control  state.gov   \n",
       "\n",
       "                               url  experiment_count experiment_code  \\\n",
       "4333  https://www.state.gov/j/drl/                23    state.gov_23   \n",
       "\n",
       "          timestamp  timezone_offset             local_time  \\\n",
       "4333  1616459879718             -120  3/23/2021, 2:37:59 AM   \n",
       "\n",
       "     default_dns_servers default_lookup_status  default_lookup_success  \\\n",
       "4333     [\"172.30.48.1\"]               success                       1   \n",
       "\n",
       "     default_lookup_ips cloudflare_lookup_status  cloudflare_lookup_success  \\\n",
       "4333  [\"34.233.79.178\"]                  success                          1   \n",
       "\n",
       "     cloudflare_lookup_ips            all_ips  page_load_success  \\\n",
       "4333     [\"34.233.79.178\"]  [\"34.233.79.178\"]                  0   \n",
       "\n",
       "                                       page_load_status  \n",
       "4333  net::ERR_TOO_MANY_REDIRECTS at https://www.sta...  "
      ],
      "text/html": "<div>\n<style scoped>\n    .dataframe tbody tr th:only-of-type {\n        vertical-align: middle;\n    }\n\n    .dataframe tbody tr th {\n        vertical-align: top;\n    }\n\n    .dataframe thead th {\n        text-align: right;\n    }\n</style>\n<table border=\"1\" class=\"dataframe\">\n  <thead>\n    <tr style=\"text-align: right;\">\n      <th></th>\n      <th>experiment_id</th>\n      <th>run_number</th>\n      <th>policy</th>\n      <th>domain</th>\n      <th>url</th>\n      <th>experiment_count</th>\n      <th>experiment_code</th>\n      <th>timestamp</th>\n      <th>timezone_offset</th>\n      <th>local_time</th>\n      <th>default_dns_servers</th>\n      <th>default_lookup_status</th>\n      <th>default_lookup_success</th>\n      <th>default_lookup_ips</th>\n      <th>cloudflare_lookup_status</th>\n      <th>cloudflare_lookup_success</th>\n      <th>cloudflare_lookup_ips</th>\n      <th>all_ips</th>\n      <th>page_load_success</th>\n      <th>page_load_status</th>\n    </tr>\n  </thead>\n  <tbody>\n    <tr>\n      <th>4333</th>\n      <td>4018</td>\n      <td>3</td>\n      <td>egypt_control</td>\n      <td>state.gov</td>\n      <td>https://www.state.gov/j/drl/</td>\n      <td>23</td>\n      <td>state.gov_23</td>\n      <td>1616459879718</td>\n      <td>-120</td>\n      <td>3/23/2021, 2:37:59 AM</td>\n      <td>[\"172.30.48.1\"]</td>\n      <td>success</td>\n      <td>1</td>\n      <td>[\"34.233.79.178\"]</td>\n      <td>success</td>\n      <td>1</td>\n      <td>[\"34.233.79.178\"]</td>\n      <td>[\"34.233.79.178\"]</td>\n      <td>0</td>\n      <td>net::ERR_TOO_MANY_REDIRECTS at https://www.sta...</td>\n    </tr>\n  </tbody>\n</table>\n</div>"
     },
     "metadata": {},
     "execution_count": 39
    }
   ]
  },
  {
   "cell_type": "code",
   "execution_count": 43,
   "metadata": {},
   "outputs": [
    {
     "output_type": "execute_result",
     "data": {
      "text/plain": [
       "      experiment_id  run_number      policy        domain  \\\n",
       "7418           7605          26  us_control  denetsuk.com   \n",
       "\n",
       "                      url  experiment_count experiment_code      timestamp  \\\n",
       "7418  http://denetsuk.com                 0  denetsuk.com_0  1616469105823   \n",
       "\n",
       "      timezone_offset              local_time default_dns_servers  \\\n",
       "7418              240  3/22/2021, 11:11:45 PM     [\"172.27.64.1\"]   \n",
       "\n",
       "     default_lookup_status  default_lookup_success  \\\n",
       "7418               success                       1   \n",
       "\n",
       "                      default_lookup_ips cloudflare_lookup_status  \\\n",
       "7418  [\"139.45.197.101\",\"139.45.197.90\"]                  success   \n",
       "\n",
       "      cloudflare_lookup_success               cloudflare_lookup_ips  \\\n",
       "7418                          1  [\"139.45.197.101\",\"139.45.197.90\"]   \n",
       "\n",
       "                                 all_ips  page_load_success  \\\n",
       "7418  [\"139.45.197.101\",\"139.45.197.90\"]                  0   \n",
       "\n",
       "                             page_load_status  \n",
       "7418  net::ERR_ABORTED at http://denetsuk.com  "
      ],
      "text/html": "<div>\n<style scoped>\n    .dataframe tbody tr th:only-of-type {\n        vertical-align: middle;\n    }\n\n    .dataframe tbody tr th {\n        vertical-align: top;\n    }\n\n    .dataframe thead th {\n        text-align: right;\n    }\n</style>\n<table border=\"1\" class=\"dataframe\">\n  <thead>\n    <tr style=\"text-align: right;\">\n      <th></th>\n      <th>experiment_id</th>\n      <th>run_number</th>\n      <th>policy</th>\n      <th>domain</th>\n      <th>url</th>\n      <th>experiment_count</th>\n      <th>experiment_code</th>\n      <th>timestamp</th>\n      <th>timezone_offset</th>\n      <th>local_time</th>\n      <th>default_dns_servers</th>\n      <th>default_lookup_status</th>\n      <th>default_lookup_success</th>\n      <th>default_lookup_ips</th>\n      <th>cloudflare_lookup_status</th>\n      <th>cloudflare_lookup_success</th>\n      <th>cloudflare_lookup_ips</th>\n      <th>all_ips</th>\n      <th>page_load_success</th>\n      <th>page_load_status</th>\n    </tr>\n  </thead>\n  <tbody>\n    <tr>\n      <th>7418</th>\n      <td>7605</td>\n      <td>26</td>\n      <td>us_control</td>\n      <td>denetsuk.com</td>\n      <td>http://denetsuk.com</td>\n      <td>0</td>\n      <td>denetsuk.com_0</td>\n      <td>1616469105823</td>\n      <td>240</td>\n      <td>3/22/2021, 11:11:45 PM</td>\n      <td>[\"172.27.64.1\"]</td>\n      <td>success</td>\n      <td>1</td>\n      <td>[\"139.45.197.101\",\"139.45.197.90\"]</td>\n      <td>success</td>\n      <td>1</td>\n      <td>[\"139.45.197.101\",\"139.45.197.90\"]</td>\n      <td>[\"139.45.197.101\",\"139.45.197.90\"]</td>\n      <td>0</td>\n      <td>net::ERR_ABORTED at http://denetsuk.com</td>\n    </tr>\n  </tbody>\n</table>\n</div>"
     },
     "metadata": {},
     "execution_count": 43
    }
   ],
   "source": [
    "aborted = potential_blocked[potential_blocked.page_load_status.str.startswith('net::ERR_ABORTED')]\n",
    "us_control_clean[us_control_clean.domain == 'denetsuk.com']"
   ]
  },
  {
   "cell_type": "code",
   "execution_count": 47,
   "metadata": {},
   "outputs": [
    {
     "output_type": "execute_result",
     "data": {
      "text/plain": [
       "      experiment_id  run_number      policy         domain  \\\n",
       "8462           8649          26  us_control  khales.com.eg   \n",
       "\n",
       "                       url  experiment_count  experiment_code      timestamp  \\\n",
       "8462  http://khales.com.eg                 0  khales.com.eg_0  1616483200078   \n",
       "\n",
       "      timezone_offset             local_time default_dns_servers  \\\n",
       "8462              240  3/23/2021, 3:06:40 AM     [\"172.27.64.1\"]   \n",
       "\n",
       "     default_lookup_status  default_lookup_success default_lookup_ips  \\\n",
       "8462               success                       1   [\"196.46.22.61\"]   \n",
       "\n",
       "     cloudflare_lookup_status  cloudflare_lookup_success  \\\n",
       "8462                  success                          1   \n",
       "\n",
       "     cloudflare_lookup_ips           all_ips  page_load_success  \\\n",
       "8462      [\"196.46.22.61\"]  [\"196.46.22.61\"]                  0   \n",
       "\n",
       "                                       page_load_status  \n",
       "8462  net::ERR_CERT_COMMON_NAME_INVALID at http://kh...  "
      ],
      "text/html": "<div>\n<style scoped>\n    .dataframe tbody tr th:only-of-type {\n        vertical-align: middle;\n    }\n\n    .dataframe tbody tr th {\n        vertical-align: top;\n    }\n\n    .dataframe thead th {\n        text-align: right;\n    }\n</style>\n<table border=\"1\" class=\"dataframe\">\n  <thead>\n    <tr style=\"text-align: right;\">\n      <th></th>\n      <th>experiment_id</th>\n      <th>run_number</th>\n      <th>policy</th>\n      <th>domain</th>\n      <th>url</th>\n      <th>experiment_count</th>\n      <th>experiment_code</th>\n      <th>timestamp</th>\n      <th>timezone_offset</th>\n      <th>local_time</th>\n      <th>default_dns_servers</th>\n      <th>default_lookup_status</th>\n      <th>default_lookup_success</th>\n      <th>default_lookup_ips</th>\n      <th>cloudflare_lookup_status</th>\n      <th>cloudflare_lookup_success</th>\n      <th>cloudflare_lookup_ips</th>\n      <th>all_ips</th>\n      <th>page_load_success</th>\n      <th>page_load_status</th>\n    </tr>\n  </thead>\n  <tbody>\n    <tr>\n      <th>8462</th>\n      <td>8649</td>\n      <td>26</td>\n      <td>us_control</td>\n      <td>khales.com.eg</td>\n      <td>http://khales.com.eg</td>\n      <td>0</td>\n      <td>khales.com.eg_0</td>\n      <td>1616483200078</td>\n      <td>240</td>\n      <td>3/23/2021, 3:06:40 AM</td>\n      <td>[\"172.27.64.1\"]</td>\n      <td>success</td>\n      <td>1</td>\n      <td>[\"196.46.22.61\"]</td>\n      <td>success</td>\n      <td>1</td>\n      <td>[\"196.46.22.61\"]</td>\n      <td>[\"196.46.22.61\"]</td>\n      <td>0</td>\n      <td>net::ERR_CERT_COMMON_NAME_INVALID at http://kh...</td>\n    </tr>\n  </tbody>\n</table>\n</div>"
     },
     "metadata": {},
     "execution_count": 47
    }
   ],
   "source": [
    "cert_name_invalid = potential_blocked[potential_blocked.page_load_status.str.startswith('net::ERR_CERT_COMMON_NAME_INVALID')]\n",
    "us_control_clean[us_control_clean.domain == 'khales.com.eg']"
   ]
  },
  {
   "cell_type": "code",
   "execution_count": 81,
   "metadata": {},
   "outputs": [
    {
     "output_type": "execute_result",
     "data": {
      "text/plain": [
       "       experiment_id   run_number  experiment_count     timestamp  \\\n",
       "count    4853.000000  4853.000000       4853.000000  4.853000e+03   \n",
       "mean     3110.267257     2.369668         15.120956  1.616407e+12   \n",
       "std      1824.429394     0.865765          8.527295  7.464248e+07   \n",
       "min         2.000000     0.000000          0.000000  1.616234e+12   \n",
       "25%      1516.000000     2.000000         10.000000  1.616338e+12   \n",
       "50%      3171.000000     3.000000         20.000000  1.616443e+12   \n",
       "75%      4710.000000     3.000000         21.000000  1.616474e+12   \n",
       "max      6197.000000     3.000000         32.000000  1.616503e+12   \n",
       "\n",
       "       timezone_offset  default_lookup_success  cloudflare_lookup_success  \\\n",
       "count           4853.0                  4853.0                     4853.0   \n",
       "mean            -120.0                     1.0                        1.0   \n",
       "std                0.0                     0.0                        0.0   \n",
       "min             -120.0                     1.0                        1.0   \n",
       "25%             -120.0                     1.0                        1.0   \n",
       "50%             -120.0                     1.0                        1.0   \n",
       "75%             -120.0                     1.0                        1.0   \n",
       "max             -120.0                     1.0                        1.0   \n",
       "\n",
       "       page_load_success  \n",
       "count             4853.0  \n",
       "mean                 1.0  \n",
       "std                  0.0  \n",
       "min                  1.0  \n",
       "25%                  1.0  \n",
       "50%                  1.0  \n",
       "75%                  1.0  \n",
       "max                  1.0  "
      ],
      "text/html": "<div>\n<style scoped>\n    .dataframe tbody tr th:only-of-type {\n        vertical-align: middle;\n    }\n\n    .dataframe tbody tr th {\n        vertical-align: top;\n    }\n\n    .dataframe thead th {\n        text-align: right;\n    }\n</style>\n<table border=\"1\" class=\"dataframe\">\n  <thead>\n    <tr style=\"text-align: right;\">\n      <th></th>\n      <th>experiment_id</th>\n      <th>run_number</th>\n      <th>experiment_count</th>\n      <th>timestamp</th>\n      <th>timezone_offset</th>\n      <th>default_lookup_success</th>\n      <th>cloudflare_lookup_success</th>\n      <th>page_load_success</th>\n    </tr>\n  </thead>\n  <tbody>\n    <tr>\n      <th>count</th>\n      <td>4853.000000</td>\n      <td>4853.000000</td>\n      <td>4853.000000</td>\n      <td>4.853000e+03</td>\n      <td>4853.0</td>\n      <td>4853.0</td>\n      <td>4853.0</td>\n      <td>4853.0</td>\n    </tr>\n    <tr>\n      <th>mean</th>\n      <td>3110.267257</td>\n      <td>2.369668</td>\n      <td>15.120956</td>\n      <td>1.616407e+12</td>\n      <td>-120.0</td>\n      <td>1.0</td>\n      <td>1.0</td>\n      <td>1.0</td>\n    </tr>\n    <tr>\n      <th>std</th>\n      <td>1824.429394</td>\n      <td>0.865765</td>\n      <td>8.527295</td>\n      <td>7.464248e+07</td>\n      <td>0.0</td>\n      <td>0.0</td>\n      <td>0.0</td>\n      <td>0.0</td>\n    </tr>\n    <tr>\n      <th>min</th>\n      <td>2.000000</td>\n      <td>0.000000</td>\n      <td>0.000000</td>\n      <td>1.616234e+12</td>\n      <td>-120.0</td>\n      <td>1.0</td>\n      <td>1.0</td>\n      <td>1.0</td>\n    </tr>\n    <tr>\n      <th>25%</th>\n      <td>1516.000000</td>\n      <td>2.000000</td>\n      <td>10.000000</td>\n      <td>1.616338e+12</td>\n      <td>-120.0</td>\n      <td>1.0</td>\n      <td>1.0</td>\n      <td>1.0</td>\n    </tr>\n    <tr>\n      <th>50%</th>\n      <td>3171.000000</td>\n      <td>3.000000</td>\n      <td>20.000000</td>\n      <td>1.616443e+12</td>\n      <td>-120.0</td>\n      <td>1.0</td>\n      <td>1.0</td>\n      <td>1.0</td>\n    </tr>\n    <tr>\n      <th>75%</th>\n      <td>4710.000000</td>\n      <td>3.000000</td>\n      <td>21.000000</td>\n      <td>1.616474e+12</td>\n      <td>-120.0</td>\n      <td>1.0</td>\n      <td>1.0</td>\n      <td>1.0</td>\n    </tr>\n    <tr>\n      <th>max</th>\n      <td>6197.000000</td>\n      <td>3.000000</td>\n      <td>32.000000</td>\n      <td>1.616503e+12</td>\n      <td>-120.0</td>\n      <td>1.0</td>\n      <td>1.0</td>\n      <td>1.0</td>\n    </tr>\n  </tbody>\n</table>\n</div>"
     },
     "metadata": {},
     "execution_count": 81
    }
   ],
   "source": [
    "nonblocked_domains = egypt_control_clean[((egypt_control_clean.page_load_success == 1) & ~(egypt_control_clean.url.isin(potential_blocked.url)) & (egypt_control_clean.default_lookup_success == 1) & ~(egypt_control_clean.domain.isin(dns_poisoned_domains)))]\n",
    "nonblocked_domains.describe()"
   ]
  },
  {
   "cell_type": "code",
   "execution_count": 109,
   "metadata": {},
   "outputs": [],
   "source": [
    "# Generate list of domains\n",
    "normal_sample = list(nonblocked_domains.sample(n=30).url)\n",
    "dns_poisoned_sample = list(dns_poisoned.sample(n=30).url)\n",
    "rst_packet_sample = list(potential_rst.sample(n=30).url)\n",
    "empty_rsp_sample = list(empty_resp.sample(n=30).url)\n",
    "conn_closed_sample = list(connection_closed.sample(n=30).url)\n",
    "timed_out_sample = list(timeout.sample(n=30).url)\n",
    "conn_refused_urls = list(connection_refused.url)\n",
    "address_unreachable_urls = list(address_unreachable.url)\n",
    "cert_date_invalid_url = list(cert_date_invalid.url)\n",
    "too_many_redirects_url = list(too_many_redirects.url)\n",
    "sample_urls = list(set(normal_sample + dns_poisoned_sample + rst_packet_sample + empty_rsp_sample + conn_closed_sample + timed_out_sample + conn_refused_urls + address_unreachable_urls + cert_date_invalid_url + too_many_redirects_url))"
   ]
  },
  {
   "cell_type": "code",
   "execution_count": 117,
   "metadata": {},
   "outputs": [],
   "source": [
    "len(sample_urls)\n",
    "with open(\"./../data_collection/sample_urls.txt\", \"w\") as f:\n",
    "    f.write('\\n'.join(sample_urls))"
   ]
  },
  {
   "cell_type": "code",
   "execution_count": null,
   "metadata": {},
   "outputs": [],
   "source": []
  }
 ]
}