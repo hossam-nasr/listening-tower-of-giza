{
 "metadata": {
  "language_info": {
   "codemirror_mode": {
    "name": "ipython",
    "version": 3
   },
   "file_extension": ".py",
   "mimetype": "text/x-python",
   "name": "python",
   "nbconvert_exporter": "python",
   "pygments_lexer": "ipython3",
   "version": "3.8.2-final"
  },
  "orig_nbformat": 2,
  "kernelspec": {
   "name": "python3",
   "display_name": "Python 3.8.2 64-bit",
   "metadata": {
    "interpreter": {
     "hash": "31f2aee4e71d21fbe5cf8b01ff0e069b9275f58929596ceb00d14d90e3e16cd6"
    }
   }
  }
 },
 "nbformat": 4,
 "nbformat_minor": 2,
 "cells": [
  {
   "cell_type": "code",
   "execution_count": 1,
   "metadata": {},
   "outputs": [],
   "source": [
    "import pandas as pd"
   ]
  },
  {
   "cell_type": "code",
   "execution_count": 2,
   "metadata": {},
   "outputs": [],
   "source": [
    "egypt_control = pd.read_csv(\"../data/egypt_control/experiments.csv\")\n",
    "us_control = pd.read_csv(\"../data/us_control/experiments.csv\")\n",
    "clean_urls_csv = pd.read_csv(\"../data_collection/urls_to_test.txt\", header=None)\n",
    "clean_urls = list(clean_urls_csv[0])\n",
    "us_broken_indices = range(6753,6793)\n",
    "us_control_clean = us_control[(us_control.url.isin(clean_urls) & ~(us_control.experiment_id.isin(us_broken_indices)))]\n",
    "egypt_control_clean = egypt_control[(egypt_control.url.isin(clean_urls))]\n",
    "potential_dns_poisoning = egypt_control_clean[((egypt_control_clean.default_lookup_success == 0) & (egypt_control_clean.cloudflare_lookup_success == 1))]\n",
    "potential_dns_poisoning_domains = potential_dns_poisoning.domain.unique()\n",
    "broken_dns_us = us_control_clean[(us_control_clean.domain.isin(potential_dns_poisoning_domains) & (us_control_clean.default_lookup_success == 0))]\n",
    "dns_poisoned = potential_dns_poisoning[~(potential_dns_poisoning.domain.isin(broken_dns_us.domain))]\n",
    "dns_poisoned_domains = list(set(potential_dns_poisoning_domains) - set(broken_dns_us.domain))\n",
    "potential_blocked = egypt_control_clean[(egypt_control_clean.page_load_success == 0)]\n",
    "potential_rst = potential_blocked[(potential_blocked.page_load_status.str.startswith('net::ERR_CONNECTION_RESET'))]\n",
    "empty_resp = potential_blocked[potential_blocked.page_load_status.str.startswith('net::ERR_EMPTY_RESPONSE')]\n",
    "connection_refused = potential_blocked[potential_blocked.page_load_status.str.startswith('net::ERR_CONNECTION_REFUSED')]\n",
    "address_unreachable = potential_blocked[potential_blocked.page_load_status.str.startswith('net::ERR_ADDRESS_UNREACHABLE')]\n",
    "connection_closed = potential_blocked[potential_blocked.page_load_status.str.startswith('net::ERR_CONNECTION_CLOSED')]\n",
    "navigation_timeout_exceeded = potential_blocked[potential_blocked.page_load_status.str.startswith('Navigation timeout')]\n",
    "timeout = potential_blocked[potential_blocked.page_load_status.str.startswith('net::ERR_TIMED_OUT')]\n",
    "cert_date_invalid = potential_blocked[potential_blocked.page_load_status.str.startswith('net::ERR_CERT_DATE_INVALID')]\n",
    "too_many_redirects = potential_blocked[potential_blocked.page_load_status.str.startswith('net::ERR_TOO_MANY_REDIRECTS')]\n",
    "aborted = potential_blocked[potential_blocked.page_load_status.str.startswith('net::ERR_ABORTED')]\n",
    "cert_name_invalid = potential_blocked[potential_blocked.page_load_status.str.startswith('net::ERR_CERT_COMMON_NAME_INVALID')]\n",
    "nonblocked_domains = egypt_control_clean[((egypt_control_clean.page_load_success == 1) & ~(egypt_control_clean.url.isin(potential_blocked.url)) & (egypt_control_clean.default_lookup_success == 1) & ~(egypt_control_clean.domain.isin(dns_poisoned_domains)))]\n"
   ]
  },
  {
   "cell_type": "code",
   "execution_count": 3,
   "metadata": {},
   "outputs": [],
   "source": [
    "rst_urls = list(set(list(potential_rst.url) + list(connection_refused.url)))\n",
    "dropped_urls = list(set(list(address_unreachable.url) + list(address_unreachable.url) + list(connection_closed.url) + list(timeout.url) + list(navigation_timeout_exceeded.url) + list(empty_resp.url))) \n",
    "dns_poisoned_urls = list(set(dns_poisoned.url))\n",
    "blocked_urls = list(set(list(rst_urls) + list(dropped_urls) + list(dns_poisoned_urls)))"
   ]
  },
  {
   "cell_type": "code",
   "execution_count": 4,
   "metadata": {},
   "outputs": [],
   "source": [
    "egypt_control_sample_nat = pd.read_csv(\"../data/egypt_control_sample_nat/experiments.csv\")\n",
    "egypt_control_sample_bridged = pd.read_csv(\"../data/egypt_control_sample_bridged/experiments.csv\")\n",
    "egypt_mans_control = pd.read_csv(\"../data/egypt_mans_control/experiments.csv\")\n",
    "egypt_cloudflare = pd.read_csv(\"../data/egypt_cloudflare_new/experiments.csv\")\n",
    "egypt_geneva_def = pd.read_csv(\"../data/egypt_geneva_def/experiments.csv\")\n",
    "egypt_mans_geneva_def = pd.read_csv(\"../data/egypt_mans_geneva_def/experiments.csv\")\n",
    "egypt_geneva_evoled = pd.read_csv(\"../data/egypt_geneva_evolved/experiments.csv\")\n",
    "egypt_mans_geneva_evolved = pd.read_csv(\"../data/egypt_mans_geneva_evolved/experiments.csv\")\n",
    "egypt_intang_4 = pd.read_csv(\"../data/egypt_intang_4/experiments.csv\")\n",
    "egypt_intang_def = pd.read_csv(\"../data/egypt_intang_4/experiments.csv\")\n",
    "egypt_nordvpn = pd.read_csv(\"../data/egypt_nordvpn/experiments.csv\")\n",
    "egypt_nordvpn_obfs_bridged = pd.read_csv(\"../data/egypt_nordvpn_obfs_bridged/experiments.csv\")\n",
    "egypt_vpn_std_nat = pd.read_csv(\"../data/egypt_vpn_std_nat/experiments.csv\")\n",
    "egypt_tor = pd.read_csv(\"../data/egypt_tor/experiments.csv\")\n",
    "egypt_torbrowser = pd.read_csv(\"../data/egypt_torbrowser/experiments.csv\")\n",
    "\n"
   ]
  },
  {
   "cell_type": "code",
   "execution_count": 5,
   "metadata": {},
   "outputs": [],
   "source": [
    "results = {}"
   ]
  },
  {
   "cell_type": "code",
   "execution_count": 7,
   "metadata": {},
   "outputs": [
    {
     "output_type": "execute_result",
     "data": {
      "text/plain": [
       "       experiment_id  run_number  experiment_count     timestamp  \\\n",
       "count     251.000000  251.000000        251.000000  2.510000e+02   \n",
       "mean      125.000000    0.270916          0.505976  1.616671e+12   \n",
       "std        72.601653    0.445321          0.766136  1.265380e+06   \n",
       "min         0.000000    0.000000          0.000000  1.616668e+12   \n",
       "25%        62.500000    0.000000          0.000000  1.616670e+12   \n",
       "50%       125.000000    0.000000          0.000000  1.616671e+12   \n",
       "75%       187.500000    1.000000          1.000000  1.616672e+12   \n",
       "max       250.000000    1.000000          4.000000  1.616674e+12   \n",
       "\n",
       "       timezone_offset  default_lookup_success  cloudflare_lookup_success  \\\n",
       "count            251.0              251.000000                 251.000000   \n",
       "mean            -120.0                0.848606                   0.996016   \n",
       "std                0.0                0.359149                   0.063119   \n",
       "min             -120.0                0.000000                   0.000000   \n",
       "25%             -120.0                1.000000                   1.000000   \n",
       "50%             -120.0                1.000000                   1.000000   \n",
       "75%             -120.0                1.000000                   1.000000   \n",
       "max             -120.0                1.000000                   1.000000   \n",
       "\n",
       "       page_load_success  \n",
       "count         251.000000  \n",
       "mean            0.262948  \n",
       "std             0.441114  \n",
       "min             0.000000  \n",
       "25%             0.000000  \n",
       "50%             0.000000  \n",
       "75%             1.000000  \n",
       "max             1.000000  "
      ],
      "text/html": "<div>\n<style scoped>\n    .dataframe tbody tr th:only-of-type {\n        vertical-align: middle;\n    }\n\n    .dataframe tbody tr th {\n        vertical-align: top;\n    }\n\n    .dataframe thead th {\n        text-align: right;\n    }\n</style>\n<table border=\"1\" class=\"dataframe\">\n  <thead>\n    <tr style=\"text-align: right;\">\n      <th></th>\n      <th>experiment_id</th>\n      <th>run_number</th>\n      <th>experiment_count</th>\n      <th>timestamp</th>\n      <th>timezone_offset</th>\n      <th>default_lookup_success</th>\n      <th>cloudflare_lookup_success</th>\n      <th>page_load_success</th>\n    </tr>\n  </thead>\n  <tbody>\n    <tr>\n      <th>count</th>\n      <td>251.000000</td>\n      <td>251.000000</td>\n      <td>251.000000</td>\n      <td>2.510000e+02</td>\n      <td>251.0</td>\n      <td>251.000000</td>\n      <td>251.000000</td>\n      <td>251.000000</td>\n    </tr>\n    <tr>\n      <th>mean</th>\n      <td>125.000000</td>\n      <td>0.270916</td>\n      <td>0.505976</td>\n      <td>1.616671e+12</td>\n      <td>-120.0</td>\n      <td>0.848606</td>\n      <td>0.996016</td>\n      <td>0.262948</td>\n    </tr>\n    <tr>\n      <th>std</th>\n      <td>72.601653</td>\n      <td>0.445321</td>\n      <td>0.766136</td>\n      <td>1.265380e+06</td>\n      <td>0.0</td>\n      <td>0.359149</td>\n      <td>0.063119</td>\n      <td>0.441114</td>\n    </tr>\n    <tr>\n      <th>min</th>\n      <td>0.000000</td>\n      <td>0.000000</td>\n      <td>0.000000</td>\n      <td>1.616668e+12</td>\n      <td>-120.0</td>\n      <td>0.000000</td>\n      <td>0.000000</td>\n      <td>0.000000</td>\n    </tr>\n    <tr>\n      <th>25%</th>\n      <td>62.500000</td>\n      <td>0.000000</td>\n      <td>0.000000</td>\n      <td>1.616670e+12</td>\n      <td>-120.0</td>\n      <td>1.000000</td>\n      <td>1.000000</td>\n      <td>0.000000</td>\n    </tr>\n    <tr>\n      <th>50%</th>\n      <td>125.000000</td>\n      <td>0.000000</td>\n      <td>0.000000</td>\n      <td>1.616671e+12</td>\n      <td>-120.0</td>\n      <td>1.000000</td>\n      <td>1.000000</td>\n      <td>0.000000</td>\n    </tr>\n    <tr>\n      <th>75%</th>\n      <td>187.500000</td>\n      <td>1.000000</td>\n      <td>1.000000</td>\n      <td>1.616672e+12</td>\n      <td>-120.0</td>\n      <td>1.000000</td>\n      <td>1.000000</td>\n      <td>1.000000</td>\n    </tr>\n    <tr>\n      <th>max</th>\n      <td>250.000000</td>\n      <td>1.000000</td>\n      <td>4.000000</td>\n      <td>1.616674e+12</td>\n      <td>-120.0</td>\n      <td>1.000000</td>\n      <td>1.000000</td>\n      <td>1.000000</td>\n    </tr>\n  </tbody>\n</table>\n</div>"
     },
     "metadata": {},
     "execution_count": 7
    }
   ],
   "source": [
    "egypt_control_sample_nat.describe()"
   ]
  },
  {
   "cell_type": "code",
   "execution_count": 8,
   "metadata": {},
   "outputs": [
    {
     "output_type": "execute_result",
     "data": {
      "text/plain": [
       "       experiment_id  run_number  experiment_count     timestamp  \\\n",
       "count     211.000000  211.000000        211.000000  2.110000e+02   \n",
       "mean      123.810427    0.279621          0.559242  1.616671e+12   \n",
       "std        73.473883    0.449880          0.804776  1.278672e+06   \n",
       "min         0.000000    0.000000          0.000000  1.616668e+12   \n",
       "25%        60.000000    0.000000          0.000000  1.616669e+12   \n",
       "50%       120.000000    0.000000          0.000000  1.616670e+12   \n",
       "75%       190.500000    1.000000          1.000000  1.616672e+12   \n",
       "max       250.000000    1.000000          4.000000  1.616674e+12   \n",
       "\n",
       "       timezone_offset  default_lookup_success  cloudflare_lookup_success  \\\n",
       "count            211.0              211.000000                 211.000000   \n",
       "mean            -120.0                0.824645                   0.995261   \n",
       "std                0.0                0.381175                   0.068843   \n",
       "min             -120.0                0.000000                   0.000000   \n",
       "25%             -120.0                1.000000                   1.000000   \n",
       "50%             -120.0                1.000000                   1.000000   \n",
       "75%             -120.0                1.000000                   1.000000   \n",
       "max             -120.0                1.000000                   1.000000   \n",
       "\n",
       "       page_load_success  \n",
       "count         211.000000  \n",
       "mean            0.137441  \n",
       "std             0.345131  \n",
       "min             0.000000  \n",
       "25%             0.000000  \n",
       "50%             0.000000  \n",
       "75%             0.000000  \n",
       "max             1.000000  "
      ],
      "text/html": "<div>\n<style scoped>\n    .dataframe tbody tr th:only-of-type {\n        vertical-align: middle;\n    }\n\n    .dataframe tbody tr th {\n        vertical-align: top;\n    }\n\n    .dataframe thead th {\n        text-align: right;\n    }\n</style>\n<table border=\"1\" class=\"dataframe\">\n  <thead>\n    <tr style=\"text-align: right;\">\n      <th></th>\n      <th>experiment_id</th>\n      <th>run_number</th>\n      <th>experiment_count</th>\n      <th>timestamp</th>\n      <th>timezone_offset</th>\n      <th>default_lookup_success</th>\n      <th>cloudflare_lookup_success</th>\n      <th>page_load_success</th>\n    </tr>\n  </thead>\n  <tbody>\n    <tr>\n      <th>count</th>\n      <td>211.000000</td>\n      <td>211.000000</td>\n      <td>211.000000</td>\n      <td>2.110000e+02</td>\n      <td>211.0</td>\n      <td>211.000000</td>\n      <td>211.000000</td>\n      <td>211.000000</td>\n    </tr>\n    <tr>\n      <th>mean</th>\n      <td>123.810427</td>\n      <td>0.279621</td>\n      <td>0.559242</td>\n      <td>1.616671e+12</td>\n      <td>-120.0</td>\n      <td>0.824645</td>\n      <td>0.995261</td>\n      <td>0.137441</td>\n    </tr>\n    <tr>\n      <th>std</th>\n      <td>73.473883</td>\n      <td>0.449880</td>\n      <td>0.804776</td>\n      <td>1.278672e+06</td>\n      <td>0.0</td>\n      <td>0.381175</td>\n      <td>0.068843</td>\n      <td>0.345131</td>\n    </tr>\n    <tr>\n      <th>min</th>\n      <td>0.000000</td>\n      <td>0.000000</td>\n      <td>0.000000</td>\n      <td>1.616668e+12</td>\n      <td>-120.0</td>\n      <td>0.000000</td>\n      <td>0.000000</td>\n      <td>0.000000</td>\n    </tr>\n    <tr>\n      <th>25%</th>\n      <td>60.000000</td>\n      <td>0.000000</td>\n      <td>0.000000</td>\n      <td>1.616669e+12</td>\n      <td>-120.0</td>\n      <td>1.000000</td>\n      <td>1.000000</td>\n      <td>0.000000</td>\n    </tr>\n    <tr>\n      <th>50%</th>\n      <td>120.000000</td>\n      <td>0.000000</td>\n      <td>0.000000</td>\n      <td>1.616670e+12</td>\n      <td>-120.0</td>\n      <td>1.000000</td>\n      <td>1.000000</td>\n      <td>0.000000</td>\n    </tr>\n    <tr>\n      <th>75%</th>\n      <td>190.500000</td>\n      <td>1.000000</td>\n      <td>1.000000</td>\n      <td>1.616672e+12</td>\n      <td>-120.0</td>\n      <td>1.000000</td>\n      <td>1.000000</td>\n      <td>0.000000</td>\n    </tr>\n    <tr>\n      <th>max</th>\n      <td>250.000000</td>\n      <td>1.000000</td>\n      <td>4.000000</td>\n      <td>1.616674e+12</td>\n      <td>-120.0</td>\n      <td>1.000000</td>\n      <td>1.000000</td>\n      <td>1.000000</td>\n    </tr>\n  </tbody>\n</table>\n</div>"
     },
     "metadata": {},
     "execution_count": 8
    }
   ],
   "source": [
    "egypt_control_sample_nat[egypt_control_sample_nat.url.isin(blocked_urls)].describe()"
   ]
  },
  {
   "cell_type": "code",
   "execution_count": 9,
   "metadata": {},
   "outputs": [],
   "source": [
    "# sorted(list(egypt_control_sample_nat.page_load_status.unique()))"
   ]
  },
  {
   "cell_type": "code",
   "execution_count": 6,
   "metadata": {},
   "outputs": [
    {
     "output_type": "execute_result",
     "data": {
      "text/plain": [
       "       experiment_id  run_number  experiment_count     timestamp  \\\n",
       "count     251.000000  251.000000        251.000000  2.510000e+02   \n",
       "mean      125.000000    0.270916          0.505976  1.616671e+12   \n",
       "std        72.601653    0.445321          0.766136  1.265380e+06   \n",
       "min         0.000000    0.000000          0.000000  1.616668e+12   \n",
       "25%        62.500000    0.000000          0.000000  1.616670e+12   \n",
       "50%       125.000000    0.000000          0.000000  1.616671e+12   \n",
       "75%       187.500000    1.000000          1.000000  1.616672e+12   \n",
       "max       250.000000    1.000000          4.000000  1.616674e+12   \n",
       "\n",
       "       timezone_offset  default_lookup_success  cloudflare_lookup_success  \\\n",
       "count            251.0              251.000000                 251.000000   \n",
       "mean            -120.0                0.848606                   0.996016   \n",
       "std                0.0                0.359149                   0.063119   \n",
       "min             -120.0                0.000000                   0.000000   \n",
       "25%             -120.0                1.000000                   1.000000   \n",
       "50%             -120.0                1.000000                   1.000000   \n",
       "75%             -120.0                1.000000                   1.000000   \n",
       "max             -120.0                1.000000                   1.000000   \n",
       "\n",
       "       page_load_success    conn_rst  name_not_resolved  address_unreachable  \\\n",
       "count         251.000000  251.000000         251.000000           251.000000   \n",
       "mean            0.262948    0.430279           0.159363             0.019920   \n",
       "std             0.441114    0.496104           0.366745             0.140006   \n",
       "min             0.000000    0.000000           0.000000             0.000000   \n",
       "25%             0.000000    0.000000           0.000000             0.000000   \n",
       "50%             0.000000    0.000000           0.000000             0.000000   \n",
       "75%             1.000000    1.000000           0.000000             0.000000   \n",
       "max             1.000000    1.000000           1.000000             1.000000   \n",
       "\n",
       "        timed_out  navigation_timeout  connection_closed  connection_refused  \\\n",
       "count  251.000000          251.000000         251.000000          251.000000   \n",
       "mean     0.075697            0.019920           0.003984            0.019920   \n",
       "std      0.265042            0.140006           0.063119            0.140006   \n",
       "min      0.000000            0.000000           0.000000            0.000000   \n",
       "25%      0.000000            0.000000           0.000000            0.000000   \n",
       "50%      0.000000            0.000000           0.000000            0.000000   \n",
       "75%      0.000000            0.000000           0.000000            0.000000   \n",
       "max      1.000000            1.000000           1.000000            1.000000   \n",
       "\n",
       "              rst     dropped  dns_poison  \n",
       "count  251.000000  251.000000  251.000000  \n",
       "mean     0.450199    0.119522    0.159363  \n",
       "std      0.498508    0.325050    0.366745  \n",
       "min      0.000000    0.000000    0.000000  \n",
       "25%      0.000000    0.000000    0.000000  \n",
       "50%      0.000000    0.000000    0.000000  \n",
       "75%      1.000000    0.000000    0.000000  \n",
       "max      1.000000    1.000000    1.000000  "
      ],
      "text/html": "<div>\n<style scoped>\n    .dataframe tbody tr th:only-of-type {\n        vertical-align: middle;\n    }\n\n    .dataframe tbody tr th {\n        vertical-align: top;\n    }\n\n    .dataframe thead th {\n        text-align: right;\n    }\n</style>\n<table border=\"1\" class=\"dataframe\">\n  <thead>\n    <tr style=\"text-align: right;\">\n      <th></th>\n      <th>experiment_id</th>\n      <th>run_number</th>\n      <th>experiment_count</th>\n      <th>timestamp</th>\n      <th>timezone_offset</th>\n      <th>default_lookup_success</th>\n      <th>cloudflare_lookup_success</th>\n      <th>page_load_success</th>\n      <th>conn_rst</th>\n      <th>name_not_resolved</th>\n      <th>address_unreachable</th>\n      <th>timed_out</th>\n      <th>navigation_timeout</th>\n      <th>connection_closed</th>\n      <th>connection_refused</th>\n      <th>rst</th>\n      <th>dropped</th>\n      <th>dns_poison</th>\n    </tr>\n  </thead>\n  <tbody>\n    <tr>\n      <th>count</th>\n      <td>251.000000</td>\n      <td>251.000000</td>\n      <td>251.000000</td>\n      <td>2.510000e+02</td>\n      <td>251.0</td>\n      <td>251.000000</td>\n      <td>251.000000</td>\n      <td>251.000000</td>\n      <td>251.000000</td>\n      <td>251.000000</td>\n      <td>251.000000</td>\n      <td>251.000000</td>\n      <td>251.000000</td>\n      <td>251.000000</td>\n      <td>251.000000</td>\n      <td>251.000000</td>\n      <td>251.000000</td>\n      <td>251.000000</td>\n    </tr>\n    <tr>\n      <th>mean</th>\n      <td>125.000000</td>\n      <td>0.270916</td>\n      <td>0.505976</td>\n      <td>1.616671e+12</td>\n      <td>-120.0</td>\n      <td>0.848606</td>\n      <td>0.996016</td>\n      <td>0.262948</td>\n      <td>0.430279</td>\n      <td>0.159363</td>\n      <td>0.019920</td>\n      <td>0.075697</td>\n      <td>0.019920</td>\n      <td>0.003984</td>\n      <td>0.019920</td>\n      <td>0.450199</td>\n      <td>0.119522</td>\n      <td>0.159363</td>\n    </tr>\n    <tr>\n      <th>std</th>\n      <td>72.601653</td>\n      <td>0.445321</td>\n      <td>0.766136</td>\n      <td>1.265380e+06</td>\n      <td>0.0</td>\n      <td>0.359149</td>\n      <td>0.063119</td>\n      <td>0.441114</td>\n      <td>0.496104</td>\n      <td>0.366745</td>\n      <td>0.140006</td>\n      <td>0.265042</td>\n      <td>0.140006</td>\n      <td>0.063119</td>\n      <td>0.140006</td>\n      <td>0.498508</td>\n      <td>0.325050</td>\n      <td>0.366745</td>\n    </tr>\n    <tr>\n      <th>min</th>\n      <td>0.000000</td>\n      <td>0.000000</td>\n      <td>0.000000</td>\n      <td>1.616668e+12</td>\n      <td>-120.0</td>\n      <td>0.000000</td>\n      <td>0.000000</td>\n      <td>0.000000</td>\n      <td>0.000000</td>\n      <td>0.000000</td>\n      <td>0.000000</td>\n      <td>0.000000</td>\n      <td>0.000000</td>\n      <td>0.000000</td>\n      <td>0.000000</td>\n      <td>0.000000</td>\n      <td>0.000000</td>\n      <td>0.000000</td>\n    </tr>\n    <tr>\n      <th>25%</th>\n      <td>62.500000</td>\n      <td>0.000000</td>\n      <td>0.000000</td>\n      <td>1.616670e+12</td>\n      <td>-120.0</td>\n      <td>1.000000</td>\n      <td>1.000000</td>\n      <td>0.000000</td>\n      <td>0.000000</td>\n      <td>0.000000</td>\n      <td>0.000000</td>\n      <td>0.000000</td>\n      <td>0.000000</td>\n      <td>0.000000</td>\n      <td>0.000000</td>\n      <td>0.000000</td>\n      <td>0.000000</td>\n      <td>0.000000</td>\n    </tr>\n    <tr>\n      <th>50%</th>\n      <td>125.000000</td>\n      <td>0.000000</td>\n      <td>0.000000</td>\n      <td>1.616671e+12</td>\n      <td>-120.0</td>\n      <td>1.000000</td>\n      <td>1.000000</td>\n      <td>0.000000</td>\n      <td>0.000000</td>\n      <td>0.000000</td>\n      <td>0.000000</td>\n      <td>0.000000</td>\n      <td>0.000000</td>\n      <td>0.000000</td>\n      <td>0.000000</td>\n      <td>0.000000</td>\n      <td>0.000000</td>\n      <td>0.000000</td>\n    </tr>\n    <tr>\n      <th>75%</th>\n      <td>187.500000</td>\n      <td>1.000000</td>\n      <td>1.000000</td>\n      <td>1.616672e+12</td>\n      <td>-120.0</td>\n      <td>1.000000</td>\n      <td>1.000000</td>\n      <td>1.000000</td>\n      <td>1.000000</td>\n      <td>0.000000</td>\n      <td>0.000000</td>\n      <td>0.000000</td>\n      <td>0.000000</td>\n      <td>0.000000</td>\n      <td>0.000000</td>\n      <td>1.000000</td>\n      <td>0.000000</td>\n      <td>0.000000</td>\n    </tr>\n    <tr>\n      <th>max</th>\n      <td>250.000000</td>\n      <td>1.000000</td>\n      <td>4.000000</td>\n      <td>1.616674e+12</td>\n      <td>-120.0</td>\n      <td>1.000000</td>\n      <td>1.000000</td>\n      <td>1.000000</td>\n      <td>1.000000</td>\n      <td>1.000000</td>\n      <td>1.000000</td>\n      <td>1.000000</td>\n      <td>1.000000</td>\n      <td>1.000000</td>\n      <td>1.000000</td>\n      <td>1.000000</td>\n      <td>1.000000</td>\n      <td>1.000000</td>\n    </tr>\n  </tbody>\n</table>\n</div>"
     },
     "metadata": {},
     "execution_count": 6
    }
   ],
   "source": [
    "egypt_control_sample_nat[\"conn_rst\"] = (egypt_control_sample_nat[\"page_load_status\"].str.startswith('net::ERR_CONNECTION_RESET')).astype(int)\n",
    "egypt_control_sample_nat[\"name_not_resolved\"] = (egypt_control_sample_nat[\"page_load_status\"].str.startswith('net::ERR_NAME_NOT_RESOLVED')).astype(int)\n",
    "egypt_control_sample_nat[\"address_unreachable\"] = (egypt_control_sample_nat[\"page_load_status\"].str.startswith('net::ERR_ADDRESS_UNREACHABLE')).astype(int)\n",
    "egypt_control_sample_nat[\"timed_out\"] = (egypt_control_sample_nat[\"page_load_status\"].str.startswith('net::ERR_TIMED_OUT')).astype(int)\n",
    "egypt_control_sample_nat[\"navigation_timeout\"] = (egypt_control_sample_nat[\"page_load_status\"].str.startswith('Navigation timeout')).astype(int)\n",
    "egypt_control_sample_nat[\"connection_closed\"] = (egypt_control_sample_nat[\"page_load_status\"].str.startswith('net::ERR_CONNECTION_CLOSED')).astype(int)\n",
    "egypt_control_sample_nat[\"connection_refused\"] = (egypt_control_sample_nat[\"page_load_status\"].str.startswith('net::ERR_CONNECTION_REFUSED')).astype(int)\n",
    "egypt_control_sample_nat[\"rst\"] = (egypt_control_sample_nat[\"conn_rst\"] | egypt_control_sample_nat[\"connection_refused\"])\n",
    "egypt_control_sample_nat[\"dropped\"] = (egypt_control_sample_nat[\"address_unreachable\"] | egypt_control_sample_nat[\"connection_closed\"] | egypt_control_sample_nat[\"timed_out\"] | egypt_control_sample_nat[\"navigation_timeout\"])\n",
    "egypt_control_sample_nat[\"dns_poison\"] = (egypt_control_sample_nat[\"name_not_resolved\"])\n",
    "egypt_control_sample_nat.describe()\n"
   ]
  },
  {
   "cell_type": "code",
   "execution_count": 11,
   "metadata": {},
   "outputs": [
    {
     "output_type": "execute_result",
     "data": {
      "text/plain": [
       "{'overall_success': 0.13744075829383887,\n",
       " 'rst_pct': 0.450199203187251,\n",
       " 'drop_pct': 0.11952191235059761,\n",
       " 'dns_poison_pct': 0.1593625498007968,\n",
       " 'blocked_count': 211,\n",
       " 'dns_success': 0.14634146341463414,\n",
       " 'dns_poisoned_count': 41,\n",
       " 'rst_success': 0.2,\n",
       " 'rst_count': 70,\n",
       " 'drop_success': 0.0948905109489051,\n",
       " 'drop_count': 137}"
      ]
     },
     "metadata": {},
     "execution_count": 11
    }
   ],
   "source": [
    "results[\"control_nat\"] = {\n",
    "    \"overall_success\": egypt_control_sample_nat[egypt_control_sample_nat.url.isin(blocked_urls)].page_load_success.mean(),\n",
    "    \"rst_pct\": egypt_control_sample_nat.rst.mean(),\n",
    "    \"drop_pct\": egypt_control_sample_nat.dropped.mean(),\n",
    "    \"dns_poison_pct\": egypt_control_sample_nat.dns_poison.mean(),\n",
    "    \"blocked_count\": egypt_control_sample_nat[egypt_control_sample_nat.url.isin(blocked_urls)].page_load_success.count(),\n",
    "    \"dns_success\": egypt_control_sample_nat[egypt_control_sample_nat.url.isin(dns_poisoned_urls)].page_load_success.mean(),\n",
    "    \"dns_poisoned_count\": egypt_control_sample_nat[egypt_control_sample_nat.url.isin(dns_poisoned_urls)].page_load_success.count(),\n",
    "    \"rst_success\": egypt_control_sample_nat[egypt_control_sample_nat.url.isin(rst_urls)].page_load_success.mean(),\n",
    "    \"rst_count\": egypt_control_sample_nat[egypt_control_sample_nat.url.isin(rst_urls)].page_load_success.count(),\n",
    "    \"drop_success\": egypt_control_sample_nat[egypt_control_sample_nat.url.isin(dropped_urls)].page_load_success.mean(),\n",
    "    \"drop_count\": egypt_control_sample_nat[egypt_control_sample_nat.url.isin(dropped_urls)].page_load_success.count()   \n",
    "}\n",
    "results[\"control_nat\"]"
   ]
  },
  {
   "cell_type": "code",
   "execution_count": 12,
   "metadata": {},
   "outputs": [
    {
     "output_type": "execute_result",
     "data": {
      "text/plain": [
       "       experiment_id  run_number  experiment_count     timestamp  \\\n",
       "count     183.000000       183.0        183.000000  1.830000e+02   \n",
       "mean       91.000000         0.0          0.163934  1.616723e+12   \n",
       "std        52.971691         0.0          0.426344  7.882967e+05   \n",
       "min         0.000000         0.0          0.000000  1.616721e+12   \n",
       "25%        45.500000         0.0          0.000000  1.616722e+12   \n",
       "50%        91.000000         0.0          0.000000  1.616723e+12   \n",
       "75%       136.500000         0.0          0.000000  1.616723e+12   \n",
       "max       182.000000         0.0          2.000000  1.616724e+12   \n",
       "\n",
       "       timezone_offset  default_lookup_success  cloudflare_lookup_success  \\\n",
       "count            183.0              183.000000                 183.000000   \n",
       "mean            -120.0                0.863388                   0.994536   \n",
       "std                0.0                0.344380                   0.073922   \n",
       "min             -120.0                0.000000                   0.000000   \n",
       "25%             -120.0                1.000000                   1.000000   \n",
       "50%             -120.0                1.000000                   1.000000   \n",
       "75%             -120.0                1.000000                   1.000000   \n",
       "max             -120.0                1.000000                   1.000000   \n",
       "\n",
       "       page_load_success  \n",
       "count         183.000000  \n",
       "mean            0.256831  \n",
       "std             0.438084  \n",
       "min             0.000000  \n",
       "25%             0.000000  \n",
       "50%             0.000000  \n",
       "75%             1.000000  \n",
       "max             1.000000  "
      ],
      "text/html": "<div>\n<style scoped>\n    .dataframe tbody tr th:only-of-type {\n        vertical-align: middle;\n    }\n\n    .dataframe tbody tr th {\n        vertical-align: top;\n    }\n\n    .dataframe thead th {\n        text-align: right;\n    }\n</style>\n<table border=\"1\" class=\"dataframe\">\n  <thead>\n    <tr style=\"text-align: right;\">\n      <th></th>\n      <th>experiment_id</th>\n      <th>run_number</th>\n      <th>experiment_count</th>\n      <th>timestamp</th>\n      <th>timezone_offset</th>\n      <th>default_lookup_success</th>\n      <th>cloudflare_lookup_success</th>\n      <th>page_load_success</th>\n    </tr>\n  </thead>\n  <tbody>\n    <tr>\n      <th>count</th>\n      <td>183.000000</td>\n      <td>183.0</td>\n      <td>183.000000</td>\n      <td>1.830000e+02</td>\n      <td>183.0</td>\n      <td>183.000000</td>\n      <td>183.000000</td>\n      <td>183.000000</td>\n    </tr>\n    <tr>\n      <th>mean</th>\n      <td>91.000000</td>\n      <td>0.0</td>\n      <td>0.163934</td>\n      <td>1.616723e+12</td>\n      <td>-120.0</td>\n      <td>0.863388</td>\n      <td>0.994536</td>\n      <td>0.256831</td>\n    </tr>\n    <tr>\n      <th>std</th>\n      <td>52.971691</td>\n      <td>0.0</td>\n      <td>0.426344</td>\n      <td>7.882967e+05</td>\n      <td>0.0</td>\n      <td>0.344380</td>\n      <td>0.073922</td>\n      <td>0.438084</td>\n    </tr>\n    <tr>\n      <th>min</th>\n      <td>0.000000</td>\n      <td>0.0</td>\n      <td>0.000000</td>\n      <td>1.616721e+12</td>\n      <td>-120.0</td>\n      <td>0.000000</td>\n      <td>0.000000</td>\n      <td>0.000000</td>\n    </tr>\n    <tr>\n      <th>25%</th>\n      <td>45.500000</td>\n      <td>0.0</td>\n      <td>0.000000</td>\n      <td>1.616722e+12</td>\n      <td>-120.0</td>\n      <td>1.000000</td>\n      <td>1.000000</td>\n      <td>0.000000</td>\n    </tr>\n    <tr>\n      <th>50%</th>\n      <td>91.000000</td>\n      <td>0.0</td>\n      <td>0.000000</td>\n      <td>1.616723e+12</td>\n      <td>-120.0</td>\n      <td>1.000000</td>\n      <td>1.000000</td>\n      <td>0.000000</td>\n    </tr>\n    <tr>\n      <th>75%</th>\n      <td>136.500000</td>\n      <td>0.0</td>\n      <td>0.000000</td>\n      <td>1.616723e+12</td>\n      <td>-120.0</td>\n      <td>1.000000</td>\n      <td>1.000000</td>\n      <td>1.000000</td>\n    </tr>\n    <tr>\n      <th>max</th>\n      <td>182.000000</td>\n      <td>0.0</td>\n      <td>2.000000</td>\n      <td>1.616724e+12</td>\n      <td>-120.0</td>\n      <td>1.000000</td>\n      <td>1.000000</td>\n      <td>1.000000</td>\n    </tr>\n  </tbody>\n</table>\n</div>"
     },
     "metadata": {},
     "execution_count": 12
    }
   ],
   "source": [
    "egypt_control_sample_bridged.describe()"
   ]
  },
  {
   "cell_type": "code",
   "execution_count": 13,
   "metadata": {},
   "outputs": [
    {
     "output_type": "execute_result",
     "data": {
      "text/plain": [
       "       experiment_id  run_number  experiment_count     timestamp  \\\n",
       "count     183.000000       183.0        183.000000  1.830000e+02   \n",
       "mean       91.000000         0.0          0.163934  1.616723e+12   \n",
       "std        52.971691         0.0          0.426344  7.882967e+05   \n",
       "min         0.000000         0.0          0.000000  1.616721e+12   \n",
       "25%        45.500000         0.0          0.000000  1.616722e+12   \n",
       "50%        91.000000         0.0          0.000000  1.616723e+12   \n",
       "75%       136.500000         0.0          0.000000  1.616723e+12   \n",
       "max       182.000000         0.0          2.000000  1.616724e+12   \n",
       "\n",
       "       timezone_offset  default_lookup_success  cloudflare_lookup_success  \\\n",
       "count            183.0              183.000000                 183.000000   \n",
       "mean            -120.0                0.863388                   0.994536   \n",
       "std                0.0                0.344380                   0.073922   \n",
       "min             -120.0                0.000000                   0.000000   \n",
       "25%             -120.0                1.000000                   1.000000   \n",
       "50%             -120.0                1.000000                   1.000000   \n",
       "75%             -120.0                1.000000                   1.000000   \n",
       "max             -120.0                1.000000                   1.000000   \n",
       "\n",
       "       page_load_success    conn_rst  name_not_resolved  address_unreachable  \\\n",
       "count         183.000000  183.000000         183.000000           183.000000   \n",
       "mean            0.256831    0.475410           0.136612             0.016393   \n",
       "std             0.438084    0.500765           0.344380             0.127331   \n",
       "min             0.000000    0.000000           0.000000             0.000000   \n",
       "25%             0.000000    0.000000           0.000000             0.000000   \n",
       "50%             0.000000    0.000000           0.000000             0.000000   \n",
       "75%             1.000000    1.000000           0.000000             0.000000   \n",
       "max             1.000000    1.000000           1.000000             1.000000   \n",
       "\n",
       "        timed_out  navigation_timeout  connection_closed  connection_refused  \\\n",
       "count  183.000000          183.000000         183.000000          183.000000   \n",
       "mean     0.060109            0.021858           0.010929            0.021858   \n",
       "std      0.238341            0.146621           0.104254            0.146621   \n",
       "min      0.000000            0.000000           0.000000            0.000000   \n",
       "25%      0.000000            0.000000           0.000000            0.000000   \n",
       "50%      0.000000            0.000000           0.000000            0.000000   \n",
       "75%      0.000000            0.000000           0.000000            0.000000   \n",
       "max      1.000000            1.000000           1.000000            1.000000   \n",
       "\n",
       "              rst     dropped  dns_poison  \n",
       "count  183.000000  183.000000  183.000000  \n",
       "mean     0.497268    0.109290    0.136612  \n",
       "std      0.501364    0.312858    0.344380  \n",
       "min      0.000000    0.000000    0.000000  \n",
       "25%      0.000000    0.000000    0.000000  \n",
       "50%      0.000000    0.000000    0.000000  \n",
       "75%      1.000000    0.000000    0.000000  \n",
       "max      1.000000    1.000000    1.000000  "
      ],
      "text/html": "<div>\n<style scoped>\n    .dataframe tbody tr th:only-of-type {\n        vertical-align: middle;\n    }\n\n    .dataframe tbody tr th {\n        vertical-align: top;\n    }\n\n    .dataframe thead th {\n        text-align: right;\n    }\n</style>\n<table border=\"1\" class=\"dataframe\">\n  <thead>\n    <tr style=\"text-align: right;\">\n      <th></th>\n      <th>experiment_id</th>\n      <th>run_number</th>\n      <th>experiment_count</th>\n      <th>timestamp</th>\n      <th>timezone_offset</th>\n      <th>default_lookup_success</th>\n      <th>cloudflare_lookup_success</th>\n      <th>page_load_success</th>\n      <th>conn_rst</th>\n      <th>name_not_resolved</th>\n      <th>address_unreachable</th>\n      <th>timed_out</th>\n      <th>navigation_timeout</th>\n      <th>connection_closed</th>\n      <th>connection_refused</th>\n      <th>rst</th>\n      <th>dropped</th>\n      <th>dns_poison</th>\n    </tr>\n  </thead>\n  <tbody>\n    <tr>\n      <th>count</th>\n      <td>183.000000</td>\n      <td>183.0</td>\n      <td>183.000000</td>\n      <td>1.830000e+02</td>\n      <td>183.0</td>\n      <td>183.000000</td>\n      <td>183.000000</td>\n      <td>183.000000</td>\n      <td>183.000000</td>\n      <td>183.000000</td>\n      <td>183.000000</td>\n      <td>183.000000</td>\n      <td>183.000000</td>\n      <td>183.000000</td>\n      <td>183.000000</td>\n      <td>183.000000</td>\n      <td>183.000000</td>\n      <td>183.000000</td>\n    </tr>\n    <tr>\n      <th>mean</th>\n      <td>91.000000</td>\n      <td>0.0</td>\n      <td>0.163934</td>\n      <td>1.616723e+12</td>\n      <td>-120.0</td>\n      <td>0.863388</td>\n      <td>0.994536</td>\n      <td>0.256831</td>\n      <td>0.475410</td>\n      <td>0.136612</td>\n      <td>0.016393</td>\n      <td>0.060109</td>\n      <td>0.021858</td>\n      <td>0.010929</td>\n      <td>0.021858</td>\n      <td>0.497268</td>\n      <td>0.109290</td>\n      <td>0.136612</td>\n    </tr>\n    <tr>\n      <th>std</th>\n      <td>52.971691</td>\n      <td>0.0</td>\n      <td>0.426344</td>\n      <td>7.882967e+05</td>\n      <td>0.0</td>\n      <td>0.344380</td>\n      <td>0.073922</td>\n      <td>0.438084</td>\n      <td>0.500765</td>\n      <td>0.344380</td>\n      <td>0.127331</td>\n      <td>0.238341</td>\n      <td>0.146621</td>\n      <td>0.104254</td>\n      <td>0.146621</td>\n      <td>0.501364</td>\n      <td>0.312858</td>\n      <td>0.344380</td>\n    </tr>\n    <tr>\n      <th>min</th>\n      <td>0.000000</td>\n      <td>0.0</td>\n      <td>0.000000</td>\n      <td>1.616721e+12</td>\n      <td>-120.0</td>\n      <td>0.000000</td>\n      <td>0.000000</td>\n      <td>0.000000</td>\n      <td>0.000000</td>\n      <td>0.000000</td>\n      <td>0.000000</td>\n      <td>0.000000</td>\n      <td>0.000000</td>\n      <td>0.000000</td>\n      <td>0.000000</td>\n      <td>0.000000</td>\n      <td>0.000000</td>\n      <td>0.000000</td>\n    </tr>\n    <tr>\n      <th>25%</th>\n      <td>45.500000</td>\n      <td>0.0</td>\n      <td>0.000000</td>\n      <td>1.616722e+12</td>\n      <td>-120.0</td>\n      <td>1.000000</td>\n      <td>1.000000</td>\n      <td>0.000000</td>\n      <td>0.000000</td>\n      <td>0.000000</td>\n      <td>0.000000</td>\n      <td>0.000000</td>\n      <td>0.000000</td>\n      <td>0.000000</td>\n      <td>0.000000</td>\n      <td>0.000000</td>\n      <td>0.000000</td>\n      <td>0.000000</td>\n    </tr>\n    <tr>\n      <th>50%</th>\n      <td>91.000000</td>\n      <td>0.0</td>\n      <td>0.000000</td>\n      <td>1.616723e+12</td>\n      <td>-120.0</td>\n      <td>1.000000</td>\n      <td>1.000000</td>\n      <td>0.000000</td>\n      <td>0.000000</td>\n      <td>0.000000</td>\n      <td>0.000000</td>\n      <td>0.000000</td>\n      <td>0.000000</td>\n      <td>0.000000</td>\n      <td>0.000000</td>\n      <td>0.000000</td>\n      <td>0.000000</td>\n      <td>0.000000</td>\n    </tr>\n    <tr>\n      <th>75%</th>\n      <td>136.500000</td>\n      <td>0.0</td>\n      <td>0.000000</td>\n      <td>1.616723e+12</td>\n      <td>-120.0</td>\n      <td>1.000000</td>\n      <td>1.000000</td>\n      <td>1.000000</td>\n      <td>1.000000</td>\n      <td>0.000000</td>\n      <td>0.000000</td>\n      <td>0.000000</td>\n      <td>0.000000</td>\n      <td>0.000000</td>\n      <td>0.000000</td>\n      <td>1.000000</td>\n      <td>0.000000</td>\n      <td>0.000000</td>\n    </tr>\n    <tr>\n      <th>max</th>\n      <td>182.000000</td>\n      <td>0.0</td>\n      <td>2.000000</td>\n      <td>1.616724e+12</td>\n      <td>-120.0</td>\n      <td>1.000000</td>\n      <td>1.000000</td>\n      <td>1.000000</td>\n      <td>1.000000</td>\n      <td>1.000000</td>\n      <td>1.000000</td>\n      <td>1.000000</td>\n      <td>1.000000</td>\n      <td>1.000000</td>\n      <td>1.000000</td>\n      <td>1.000000</td>\n      <td>1.000000</td>\n      <td>1.000000</td>\n    </tr>\n  </tbody>\n</table>\n</div>"
     },
     "metadata": {},
     "execution_count": 13
    }
   ],
   "source": [
    "egypt_control_sample_bridged[\"conn_rst\"] = (egypt_control_sample_bridged[\"page_load_status\"].str.startswith('net::ERR_CONNECTION_RESET')).astype(int)\n",
    "egypt_control_sample_bridged[\"name_not_resolved\"] = (egypt_control_sample_bridged[\"page_load_status\"].str.startswith('net::ERR_NAME_NOT_RESOLVED')).astype(int)\n",
    "egypt_control_sample_bridged[\"address_unreachable\"] = (egypt_control_sample_bridged[\"page_load_status\"].str.startswith('net::ERR_ADDRESS_UNREACHABLE')).astype(int)\n",
    "egypt_control_sample_bridged[\"timed_out\"] = (egypt_control_sample_bridged[\"page_load_status\"].str.startswith('net::ERR_TIMED_OUT')).astype(int)\n",
    "egypt_control_sample_bridged[\"navigation_timeout\"] = (egypt_control_sample_bridged[\"page_load_status\"].str.startswith('Navigation timeout')).astype(int)\n",
    "egypt_control_sample_bridged[\"connection_closed\"] = (egypt_control_sample_bridged[\"page_load_status\"].str.startswith('net::ERR_CONNECTION_CLOSED')).astype(int)\n",
    "egypt_control_sample_bridged[\"connection_refused\"] = (egypt_control_sample_bridged[\"page_load_status\"].str.startswith('net::ERR_CONNECTION_REFUSED')).astype(int)\n",
    "egypt_control_sample_bridged[\"rst\"] = (egypt_control_sample_bridged[\"conn_rst\"] | egypt_control_sample_bridged[\"connection_refused\"])\n",
    "egypt_control_sample_bridged[\"dropped\"] = (egypt_control_sample_bridged[\"address_unreachable\"] | egypt_control_sample_bridged[\"connection_closed\"] | egypt_control_sample_bridged[\"timed_out\"] | egypt_control_sample_bridged[\"navigation_timeout\"])\n",
    "egypt_control_sample_bridged[\"dns_poison\"] = (egypt_control_sample_bridged[\"name_not_resolved\"])\n",
    "egypt_control_sample_bridged.describe()\n"
   ]
  },
  {
   "cell_type": "code",
   "execution_count": 14,
   "metadata": {},
   "outputs": [
    {
     "output_type": "execute_result",
     "data": {
      "text/plain": [
       "{'overall_success': 0.12418300653594772,\n",
       " 'rst_pct': 0.4972677595628415,\n",
       " 'drop_pct': 0.1092896174863388,\n",
       " 'dns_poison_pct': 0.1366120218579235,\n",
       " 'blocked_count': 152,\n",
       " 'dns_success': 0.1111111111111111,\n",
       " 'dns_poisoned_count': 27,\n",
       " 'rst_success': 0.14285714285714285,\n",
       " 'rst_count': 56,\n",
       " 'drop_success': 0.08080808080808081,\n",
       " 'drop_count': 99}"
      ]
     },
     "metadata": {},
     "execution_count": 14
    }
   ],
   "source": [
    "results[\"control_bridged\"] = {\n",
    "    \"overall_success\": egypt_control_sample_bridged[egypt_control_sample_bridged.url.isin(potential_blocked.url)].page_load_success.mean(),\n",
    "    \"rst_pct\": egypt_control_sample_bridged.rst.mean(),\n",
    "    \"drop_pct\": egypt_control_sample_bridged.dropped.mean(),\n",
    "    \"dns_poison_pct\": egypt_control_sample_bridged.dns_poison.mean(),\n",
    "    \"blocked_count\": egypt_control_sample_bridged[egypt_control_sample_bridged.url.isin(blocked_urls)].page_load_success.count(),\n",
    "    \"dns_success\": egypt_control_sample_bridged[egypt_control_sample_bridged.url.isin(dns_poisoned_urls)].page_load_success.mean(),\n",
    "    \"dns_poisoned_count\": egypt_control_sample_bridged[egypt_control_sample_bridged.url.isin(dns_poisoned_urls)].page_load_success.count(),\n",
    "    \"rst_success\": egypt_control_sample_bridged[egypt_control_sample_bridged.url.isin(rst_urls)].page_load_success.mean(),\n",
    "    \"rst_count\": egypt_control_sample_bridged[egypt_control_sample_bridged.url.isin(rst_urls)].page_load_success.count(),\n",
    "    \"drop_success\": egypt_control_sample_bridged[egypt_control_sample_bridged.url.isin(dropped_urls)].page_load_success.mean(),\n",
    "    \"drop_count\": egypt_control_sample_bridged[egypt_control_sample_bridged.url.isin(dropped_urls)].page_load_success.count()   \n",
    "}\n",
    "results[\"control_bridged\"]"
   ]
  },
  {
   "cell_type": "code",
   "execution_count": 15,
   "metadata": {},
   "outputs": [],
   "source": [
    "# egypt_geneva_def.page_load_status.unique()"
   ]
  },
  {
   "cell_type": "code",
   "execution_count": 10,
   "metadata": {},
   "outputs": [
    {
     "output_type": "stream",
     "name": "stdout",
     "text": [
      "control_sample_nat\ncontrol_sample_bridged\nmans_control\ngeneva_def\nmans_geneva_def\nmans_geneva_evolved\nintang_4\nintang_def\nnordvpn_obfs_bridged\nvpn_std_nat\ntor\ntorbrowser\ngeneva+cloudflare\ncloudflare_new\n"
     ]
    }
   ],
   "source": [
    "results = {}\n",
    "policies = [\"control_sample_bridged\", \n",
    "# \"mans_control\", \n",
    "\"geneva_def\", \n",
    "# \"mans_geneva_def\", \"mans_geneva_evolved\", \n",
    "\"intang_4\", \"intang_def\", \"nordvpn_obfs_bridged\", \"vpn_std_nat\", \"tor\", \"torbrowser\", \"geneva+cloudflare\", \"cloudflare_new\",\n",
    "# \"control_sample_nat\"\n",
    "]\n",
    "labels = {\n",
    "    \"control_sample_bridged\": \"Control\",\n",
    "    \"geneva_def\": \"Geneva\",\n",
    "    \"intang_4\": \"INTANG Policy 4\",\n",
    "    \"nordvpn_obfs_bridged\": \"NordVPN Obfuscated\",\n",
    "    \"vpn_std_nat\": \"Hotspot Shield\",\n",
    "    \"tor\": \"Tor\",\n",
    "    \"torbrowser\": \"Tor Browser\",\n",
    "    \"geneva+cloudflare\": \"Geneva + Cloudflare\",\n",
    "    \"cloudflare_new\": \"Cloudflare\"\n",
    "\n",
    "}\n",
    "for policy in policies:\n",
    "    print(policy)\n",
    "    df = pd.read_csv(f'../data/egypt_{policy}/experiments.csv')\n",
    "    df = df[~(df.page_load_status.str.startswith('net::ERR_SOCKS_CONNECTION_FAILED'))]\n",
    "    df[\"conn_rst\"] = (df[\"page_load_status\"].str.startswith('net::ERR_CONNECTION_RESET'))\n",
    "    df[\"name_not_resolved\"] = (df[\"page_load_status\"].str.startswith('net::ERR_NAME_NOT_RESOLVED'))\n",
    "    df[\"address_unreachable\"] = (df[\"page_load_status\"].str.startswith('net::ERR_ADDRESS_UNREACHABLE'))\n",
    "    df[\"timed_out\"] = (df[\"page_load_status\"].str.startswith('net::ERR_TIMED_OUT'))\n",
    "    df[\"navigation_timeout\"] = (df[\"page_load_status\"].str.startswith('Navigation timeout') | df[\"page_load_status\"].str.startswith('Timed out') | df['page_load_status'].str.startswith(\"Navigation failed\"))\n",
    "    df[\"connection_closed\"] = (df[\"page_load_status\"].str.startswith('net::ERR_CONNECTION_CLOSED'))\n",
    "    df[\"empty_response\"] = df[\"page_load_status\"].str.startswith('net::ERR_EMPTY_RESPONSE')\n",
    "    df[\"connection_refused\"] = (df[\"page_load_status\"].str.startswith('net::ERR_CONNECTION_REFUSED'))\n",
    "    df[\"too_many_redirects\"] = (df[\"page_load_status\"].str.startswith('net::ERR_TOO_MANY_REDIRECTS'))\n",
    "    df[\"rst\"] = (df[\"conn_rst\"] | df[\"connection_refused\"]).astype(int)\n",
    "    df[\"dropped\"] = (df[\"address_unreachable\"] | df[\"connection_closed\"] | df[\"timed_out\"] | df[\"navigation_timeout\"] | df['too_many_redirects']  | df[\"empty_response\"]).astype(int)\n",
    "    df[\"dns_poison\"] = (df[\"name_not_resolved\"]).astype(int)\n",
    "    results[policy] = {\n",
    "        \"overall_success\": df[df.url.isin(blocked_urls)].page_load_success.mean() * 100,\n",
    "        \"rst_pct\": df.rst.mean() * 100,\n",
    "        \"drop_pct\": df.dropped.mean() * 100,\n",
    "        \"dns_poison_pct\": df.dns_poison.mean() * 100,\n",
    "        \"success_pct\": df.page_load_success.mean() * 100,\n",
    "        \"total_pct\": df.rst.mean() + df.dropped.mean() + df.dns_poison.mean() + df.page_load_success.mean(),\n",
    "        \"blocked_count\": df[df.url.isin(blocked_urls)].page_load_success.count(),\n",
    "        \"success_in_original_dns\": df[df.url.isin(dns_poisoned_urls)].page_load_success.mean(),\n",
    "        \"original_dns_count\": df[df.url.isin(dns_poisoned_urls)].page_load_success.count(),\n",
    "        \"success_in_original_rst\": df[df.url.isin(rst_urls)].page_load_success.mean(),\n",
    "        \"original_rst_count\": df[df.url.isin(rst_urls)].page_load_success.count(),\n",
    "        \"success_in_original_drop\": df[df.url.isin(dropped_urls)].page_load_success.mean(),\n",
    "        \"original_drop_count\": df[df.url.isin(dropped_urls)].page_load_success.count(),\n",
    "        \"rst_success\": 1 - df[df.url.isin(rst_urls)].rst.mean(),\n",
    "        \"dns_success\": 1 - df[df.url.isin(dns_poisoned_urls)].dns_poison.mean(),\n",
    "        \"drop_success\": 1 - df[df.url.isin(dropped_urls)].dropped.mean()\n",
    "    }\n",
    "    # results[policy]['rst_success'] = 1 - results[policy][\"rst_pct\"]\n",
    "    # results[policy]['dns_success'] = 1 - results[policy][\"dns_poison_pct\"]\n",
    "    # results[policy]['drop_success'] = 1 - results[policy][\"drop_pct\"]\n",
    "results_data = pd.DataFrame.from_dict(results, orient='index')"
   ]
  },
  {
   "cell_type": "code",
   "execution_count": 11,
   "metadata": {},
   "outputs": [
    {
     "output_type": "execute_result",
     "data": {
      "text/plain": [
       "                        overall_success    rst_pct   drop_pct  dns_poison_pct  \\\n",
       "tor                           94.594595   0.000000   5.586592        0.000000   \n",
       "torbrowser                    93.288591   0.000000   5.555556        0.000000   \n",
       "vpn_std_nat                   92.105263   2.185792   2.732240        2.185792   \n",
       "nordvpn_obfs_bridged          90.131579   1.092896   6.010929        1.639344   \n",
       "geneva+cloudflare             84.868421   2.185792  10.382514        0.546448   \n",
       "geneva_def                    71.710526   1.639344   8.743169       13.114754   \n",
       "mans_geneva_def               58.898305   1.779359  33.451957        2.846975   \n",
       "mans_control                  14.473684  59.562842  11.475410        1.092896   \n",
       "control_sample_nat            13.744076  45.019920  12.749004       15.936255   \n",
       "cloudflare_new                13.157895  57.377049  14.754098        0.546448   \n",
       "intang_def                    12.828947  37.841530  24.590164       13.114754   \n",
       "control_sample_bridged        11.842105  49.726776  10.928962       13.661202   \n",
       "intang_4                       5.921053  48.087432  17.486339       13.114754   \n",
       "mans_geneva_evolved            0.000000   0.000000  99.193548        0.806452   \n",
       "\n",
       "                        success_pct  total_pct  blocked_count  \\\n",
       "tor                       94.413408        1.0            148   \n",
       "torbrowser                94.444444        1.0            149   \n",
       "vpn_std_nat               92.896175        1.0            152   \n",
       "nordvpn_obfs_bridged      91.256831        1.0            152   \n",
       "geneva+cloudflare         86.885246        1.0            152   \n",
       "geneva_def                76.502732        1.0            152   \n",
       "mans_geneva_def           61.921708        1.0            236   \n",
       "mans_control              27.868852        1.0            152   \n",
       "control_sample_nat        26.294821        1.0            211   \n",
       "cloudflare_new            27.322404        1.0            152   \n",
       "intang_def                24.453552        1.0            608   \n",
       "control_sample_bridged    25.683060        1.0            152   \n",
       "intang_4                  21.311475        1.0            152   \n",
       "mans_geneva_evolved        0.000000        1.0            109   \n",
       "\n",
       "                        success_in_original_dns  original_dns_count  \\\n",
       "tor                                    0.925926                  27   \n",
       "torbrowser                             0.962963                  27   \n",
       "vpn_std_nat                            1.000000                  27   \n",
       "nordvpn_obfs_bridged                   0.962963                  27   \n",
       "geneva+cloudflare                      0.740741                  27   \n",
       "geneva_def                             0.148148                  27   \n",
       "mans_geneva_def                        0.551020                  49   \n",
       "mans_control                           0.259259                  27   \n",
       "control_sample_nat                     0.146341                  41   \n",
       "cloudflare_new                         0.259259                  27   \n",
       "intang_def                             0.111111                 108   \n",
       "control_sample_bridged                 0.111111                  27   \n",
       "intang_4                               0.148148                  27   \n",
       "mans_geneva_evolved                    0.000000                  24   \n",
       "\n",
       "                        success_in_original_rst  original_rst_count  \\\n",
       "tor                                    0.924528                  53   \n",
       "torbrowser                             0.943396                  53   \n",
       "vpn_std_nat                            0.875000                  56   \n",
       "nordvpn_obfs_bridged                   0.875000                  56   \n",
       "geneva+cloudflare                      0.803571                  56   \n",
       "geneva_def                             0.785714                  56   \n",
       "mans_geneva_def                        0.662338                  77   \n",
       "mans_control                           0.071429                  56   \n",
       "control_sample_nat                     0.200000                  70   \n",
       "cloudflare_new                         0.089286                  56   \n",
       "intang_def                             0.080357                 224   \n",
       "control_sample_bridged                 0.142857                  56   \n",
       "intang_4                               0.071429                  56   \n",
       "mans_geneva_evolved                    0.000000                  31   \n",
       "\n",
       "                        success_in_original_drop  original_drop_count  \\\n",
       "tor                                     0.969388                   98   \n",
       "torbrowser                              0.929293                   99   \n",
       "vpn_std_nat                             0.939394                   99   \n",
       "nordvpn_obfs_bridged                    0.919192                   99   \n",
       "geneva+cloudflare                       0.898990                   99   \n",
       "geneva_def                              0.878788                   99   \n",
       "mans_geneva_def                         0.600000                  150   \n",
       "mans_control                            0.121212                   99   \n",
       "control_sample_nat                      0.094891                  137   \n",
       "cloudflare_new                          0.101010                   99   \n",
       "intang_def                              0.143939                  396   \n",
       "control_sample_bridged                  0.080808                   99   \n",
       "intang_4                                0.020202                   99   \n",
       "mans_geneva_evolved                     0.000000                   72   \n",
       "\n",
       "                        rst_success  dns_success  drop_success  \n",
       "tor                        1.000000     1.000000      0.969388  \n",
       "torbrowser                 1.000000     1.000000      0.929293  \n",
       "vpn_std_nat                0.946429     1.000000      0.969697  \n",
       "nordvpn_obfs_bridged       0.964286     0.962963      0.929293  \n",
       "geneva+cloudflare          0.946429     1.000000      0.909091  \n",
       "geneva_def                 0.964286     0.148148      0.888889  \n",
       "mans_geneva_def            0.961039     0.959184      0.620000  \n",
       "mans_control               0.178571     1.000000      0.848485  \n",
       "control_sample_nat         0.271429     0.170732      0.781022  \n",
       "cloudflare_new             0.267857     1.000000      0.818182  \n",
       "intang_def                 0.397321     0.148148      0.704545  \n",
       "control_sample_bridged     0.196429     0.148148      0.808081  \n",
       "intang_4                   0.285714     0.148148      0.757576  \n",
       "mans_geneva_evolved        1.000000     1.000000      0.000000  "
      ],
      "text/html": "<div>\n<style scoped>\n    .dataframe tbody tr th:only-of-type {\n        vertical-align: middle;\n    }\n\n    .dataframe tbody tr th {\n        vertical-align: top;\n    }\n\n    .dataframe thead th {\n        text-align: right;\n    }\n</style>\n<table border=\"1\" class=\"dataframe\">\n  <thead>\n    <tr style=\"text-align: right;\">\n      <th></th>\n      <th>overall_success</th>\n      <th>rst_pct</th>\n      <th>drop_pct</th>\n      <th>dns_poison_pct</th>\n      <th>success_pct</th>\n      <th>total_pct</th>\n      <th>blocked_count</th>\n      <th>success_in_original_dns</th>\n      <th>original_dns_count</th>\n      <th>success_in_original_rst</th>\n      <th>original_rst_count</th>\n      <th>success_in_original_drop</th>\n      <th>original_drop_count</th>\n      <th>rst_success</th>\n      <th>dns_success</th>\n      <th>drop_success</th>\n    </tr>\n  </thead>\n  <tbody>\n    <tr>\n      <th>tor</th>\n      <td>94.594595</td>\n      <td>0.000000</td>\n      <td>5.586592</td>\n      <td>0.000000</td>\n      <td>94.413408</td>\n      <td>1.0</td>\n      <td>148</td>\n      <td>0.925926</td>\n      <td>27</td>\n      <td>0.924528</td>\n      <td>53</td>\n      <td>0.969388</td>\n      <td>98</td>\n      <td>1.000000</td>\n      <td>1.000000</td>\n      <td>0.969388</td>\n    </tr>\n    <tr>\n      <th>torbrowser</th>\n      <td>93.288591</td>\n      <td>0.000000</td>\n      <td>5.555556</td>\n      <td>0.000000</td>\n      <td>94.444444</td>\n      <td>1.0</td>\n      <td>149</td>\n      <td>0.962963</td>\n      <td>27</td>\n      <td>0.943396</td>\n      <td>53</td>\n      <td>0.929293</td>\n      <td>99</td>\n      <td>1.000000</td>\n      <td>1.000000</td>\n      <td>0.929293</td>\n    </tr>\n    <tr>\n      <th>vpn_std_nat</th>\n      <td>92.105263</td>\n      <td>2.185792</td>\n      <td>2.732240</td>\n      <td>2.185792</td>\n      <td>92.896175</td>\n      <td>1.0</td>\n      <td>152</td>\n      <td>1.000000</td>\n      <td>27</td>\n      <td>0.875000</td>\n      <td>56</td>\n      <td>0.939394</td>\n      <td>99</td>\n      <td>0.946429</td>\n      <td>1.000000</td>\n      <td>0.969697</td>\n    </tr>\n    <tr>\n      <th>nordvpn_obfs_bridged</th>\n      <td>90.131579</td>\n      <td>1.092896</td>\n      <td>6.010929</td>\n      <td>1.639344</td>\n      <td>91.256831</td>\n      <td>1.0</td>\n      <td>152</td>\n      <td>0.962963</td>\n      <td>27</td>\n      <td>0.875000</td>\n      <td>56</td>\n      <td>0.919192</td>\n      <td>99</td>\n      <td>0.964286</td>\n      <td>0.962963</td>\n      <td>0.929293</td>\n    </tr>\n    <tr>\n      <th>geneva+cloudflare</th>\n      <td>84.868421</td>\n      <td>2.185792</td>\n      <td>10.382514</td>\n      <td>0.546448</td>\n      <td>86.885246</td>\n      <td>1.0</td>\n      <td>152</td>\n      <td>0.740741</td>\n      <td>27</td>\n      <td>0.803571</td>\n      <td>56</td>\n      <td>0.898990</td>\n      <td>99</td>\n      <td>0.946429</td>\n      <td>1.000000</td>\n      <td>0.909091</td>\n    </tr>\n    <tr>\n      <th>geneva_def</th>\n      <td>71.710526</td>\n      <td>1.639344</td>\n      <td>8.743169</td>\n      <td>13.114754</td>\n      <td>76.502732</td>\n      <td>1.0</td>\n      <td>152</td>\n      <td>0.148148</td>\n      <td>27</td>\n      <td>0.785714</td>\n      <td>56</td>\n      <td>0.878788</td>\n      <td>99</td>\n      <td>0.964286</td>\n      <td>0.148148</td>\n      <td>0.888889</td>\n    </tr>\n    <tr>\n      <th>mans_geneva_def</th>\n      <td>58.898305</td>\n      <td>1.779359</td>\n      <td>33.451957</td>\n      <td>2.846975</td>\n      <td>61.921708</td>\n      <td>1.0</td>\n      <td>236</td>\n      <td>0.551020</td>\n      <td>49</td>\n      <td>0.662338</td>\n      <td>77</td>\n      <td>0.600000</td>\n      <td>150</td>\n      <td>0.961039</td>\n      <td>0.959184</td>\n      <td>0.620000</td>\n    </tr>\n    <tr>\n      <th>mans_control</th>\n      <td>14.473684</td>\n      <td>59.562842</td>\n      <td>11.475410</td>\n      <td>1.092896</td>\n      <td>27.868852</td>\n      <td>1.0</td>\n      <td>152</td>\n      <td>0.259259</td>\n      <td>27</td>\n      <td>0.071429</td>\n      <td>56</td>\n      <td>0.121212</td>\n      <td>99</td>\n      <td>0.178571</td>\n      <td>1.000000</td>\n      <td>0.848485</td>\n    </tr>\n    <tr>\n      <th>control_sample_nat</th>\n      <td>13.744076</td>\n      <td>45.019920</td>\n      <td>12.749004</td>\n      <td>15.936255</td>\n      <td>26.294821</td>\n      <td>1.0</td>\n      <td>211</td>\n      <td>0.146341</td>\n      <td>41</td>\n      <td>0.200000</td>\n      <td>70</td>\n      <td>0.094891</td>\n      <td>137</td>\n      <td>0.271429</td>\n      <td>0.170732</td>\n      <td>0.781022</td>\n    </tr>\n    <tr>\n      <th>cloudflare_new</th>\n      <td>13.157895</td>\n      <td>57.377049</td>\n      <td>14.754098</td>\n      <td>0.546448</td>\n      <td>27.322404</td>\n      <td>1.0</td>\n      <td>152</td>\n      <td>0.259259</td>\n      <td>27</td>\n      <td>0.089286</td>\n      <td>56</td>\n      <td>0.101010</td>\n      <td>99</td>\n      <td>0.267857</td>\n      <td>1.000000</td>\n      <td>0.818182</td>\n    </tr>\n    <tr>\n      <th>intang_def</th>\n      <td>12.828947</td>\n      <td>37.841530</td>\n      <td>24.590164</td>\n      <td>13.114754</td>\n      <td>24.453552</td>\n      <td>1.0</td>\n      <td>608</td>\n      <td>0.111111</td>\n      <td>108</td>\n      <td>0.080357</td>\n      <td>224</td>\n      <td>0.143939</td>\n      <td>396</td>\n      <td>0.397321</td>\n      <td>0.148148</td>\n      <td>0.704545</td>\n    </tr>\n    <tr>\n      <th>control_sample_bridged</th>\n      <td>11.842105</td>\n      <td>49.726776</td>\n      <td>10.928962</td>\n      <td>13.661202</td>\n      <td>25.683060</td>\n      <td>1.0</td>\n      <td>152</td>\n      <td>0.111111</td>\n      <td>27</td>\n      <td>0.142857</td>\n      <td>56</td>\n      <td>0.080808</td>\n      <td>99</td>\n      <td>0.196429</td>\n      <td>0.148148</td>\n      <td>0.808081</td>\n    </tr>\n    <tr>\n      <th>intang_4</th>\n      <td>5.921053</td>\n      <td>48.087432</td>\n      <td>17.486339</td>\n      <td>13.114754</td>\n      <td>21.311475</td>\n      <td>1.0</td>\n      <td>152</td>\n      <td>0.148148</td>\n      <td>27</td>\n      <td>0.071429</td>\n      <td>56</td>\n      <td>0.020202</td>\n      <td>99</td>\n      <td>0.285714</td>\n      <td>0.148148</td>\n      <td>0.757576</td>\n    </tr>\n    <tr>\n      <th>mans_geneva_evolved</th>\n      <td>0.000000</td>\n      <td>0.000000</td>\n      <td>99.193548</td>\n      <td>0.806452</td>\n      <td>0.000000</td>\n      <td>1.0</td>\n      <td>109</td>\n      <td>0.000000</td>\n      <td>24</td>\n      <td>0.000000</td>\n      <td>31</td>\n      <td>0.000000</td>\n      <td>72</td>\n      <td>1.000000</td>\n      <td>1.000000</td>\n      <td>0.000000</td>\n    </tr>\n  </tbody>\n</table>\n</div>"
     },
     "metadata": {},
     "execution_count": 11
    }
   ],
   "source": [
    "results_data.sort_values('overall_success', ascending=False)"
   ]
  },
  {
   "cell_type": "code",
   "execution_count": 15,
   "metadata": {},
   "outputs": [
    {
     "output_type": "execute_result",
     "data": {
      "text/plain": [
       "       experiment_id  run_number  experiment_count     timestamp  \\\n",
       "count     183.000000       183.0        183.000000  1.830000e+02   \n",
       "mean       91.000000         0.0          0.163934  1.616813e+12   \n",
       "std        52.971691         0.0          0.426344  8.613968e+05   \n",
       "min         0.000000         0.0          0.000000  1.616811e+12   \n",
       "25%        45.500000         0.0          0.000000  1.616812e+12   \n",
       "50%        91.000000         0.0          0.000000  1.616813e+12   \n",
       "75%       136.500000         0.0          0.000000  1.616813e+12   \n",
       "max       182.000000         0.0          2.000000  1.616814e+12   \n",
       "\n",
       "       timezone_offset  default_lookup_success  cloudflare_lookup_success  \\\n",
       "count            183.0              183.000000                 183.000000   \n",
       "mean             420.0                0.994536                   0.989071   \n",
       "std                0.0                0.073922                   0.104254   \n",
       "min              420.0                0.000000                   0.000000   \n",
       "25%              420.0                1.000000                   1.000000   \n",
       "50%              420.0                1.000000                   1.000000   \n",
       "75%              420.0                1.000000                   1.000000   \n",
       "max              420.0                1.000000                   1.000000   \n",
       "\n",
       "       page_load_success  \n",
       "count         183.000000  \n",
       "mean            0.278689  \n",
       "std             0.449584  \n",
       "min             0.000000  \n",
       "25%             0.000000  \n",
       "50%             0.000000  \n",
       "75%             1.000000  \n",
       "max             1.000000  "
      ],
      "text/html": "<div>\n<style scoped>\n    .dataframe tbody tr th:only-of-type {\n        vertical-align: middle;\n    }\n\n    .dataframe tbody tr th {\n        vertical-align: top;\n    }\n\n    .dataframe thead th {\n        text-align: right;\n    }\n</style>\n<table border=\"1\" class=\"dataframe\">\n  <thead>\n    <tr style=\"text-align: right;\">\n      <th></th>\n      <th>experiment_id</th>\n      <th>run_number</th>\n      <th>experiment_count</th>\n      <th>timestamp</th>\n      <th>timezone_offset</th>\n      <th>default_lookup_success</th>\n      <th>cloudflare_lookup_success</th>\n      <th>page_load_success</th>\n    </tr>\n  </thead>\n  <tbody>\n    <tr>\n      <th>count</th>\n      <td>183.000000</td>\n      <td>183.0</td>\n      <td>183.000000</td>\n      <td>1.830000e+02</td>\n      <td>183.0</td>\n      <td>183.000000</td>\n      <td>183.000000</td>\n      <td>183.000000</td>\n    </tr>\n    <tr>\n      <th>mean</th>\n      <td>91.000000</td>\n      <td>0.0</td>\n      <td>0.163934</td>\n      <td>1.616813e+12</td>\n      <td>420.0</td>\n      <td>0.994536</td>\n      <td>0.989071</td>\n      <td>0.278689</td>\n    </tr>\n    <tr>\n      <th>std</th>\n      <td>52.971691</td>\n      <td>0.0</td>\n      <td>0.426344</td>\n      <td>8.613968e+05</td>\n      <td>0.0</td>\n      <td>0.073922</td>\n      <td>0.104254</td>\n      <td>0.449584</td>\n    </tr>\n    <tr>\n      <th>min</th>\n      <td>0.000000</td>\n      <td>0.0</td>\n      <td>0.000000</td>\n      <td>1.616811e+12</td>\n      <td>420.0</td>\n      <td>0.000000</td>\n      <td>0.000000</td>\n      <td>0.000000</td>\n    </tr>\n    <tr>\n      <th>25%</th>\n      <td>45.500000</td>\n      <td>0.0</td>\n      <td>0.000000</td>\n      <td>1.616812e+12</td>\n      <td>420.0</td>\n      <td>1.000000</td>\n      <td>1.000000</td>\n      <td>0.000000</td>\n    </tr>\n    <tr>\n      <th>50%</th>\n      <td>91.000000</td>\n      <td>0.0</td>\n      <td>0.000000</td>\n      <td>1.616813e+12</td>\n      <td>420.0</td>\n      <td>1.000000</td>\n      <td>1.000000</td>\n      <td>0.000000</td>\n    </tr>\n    <tr>\n      <th>75%</th>\n      <td>136.500000</td>\n      <td>0.0</td>\n      <td>0.000000</td>\n      <td>1.616813e+12</td>\n      <td>420.0</td>\n      <td>1.000000</td>\n      <td>1.000000</td>\n      <td>1.000000</td>\n    </tr>\n    <tr>\n      <th>max</th>\n      <td>182.000000</td>\n      <td>0.0</td>\n      <td>2.000000</td>\n      <td>1.616814e+12</td>\n      <td>420.0</td>\n      <td>1.000000</td>\n      <td>1.000000</td>\n      <td>1.000000</td>\n    </tr>\n  </tbody>\n</table>\n</div>"
     },
     "metadata": {},
     "execution_count": 15
    }
   ],
   "source": [
    "egypt_mans_control.describe()"
   ]
  },
  {
   "cell_type": "code",
   "execution_count": 25,
   "metadata": {},
   "outputs": [
    {
     "output_type": "execute_result",
     "data": {
      "text/plain": [
       "    experiment_id  run_number              policy      domain  \\\n",
       "52             52           0  egypt_mans_control   alalam.ir   \n",
       "81             81           0  egypt_mans_control  jatoeg.org   \n",
       "\n",
       "                      url  experiment_count experiment_code      timestamp  \\\n",
       "52   http://www.alalam.ir                 0     alalam.ir_0  1616811999922   \n",
       "81  http://www.jatoeg.org                 0    jatoeg.org_0  1616812445255   \n",
       "\n",
       "    timezone_offset             local_time default_dns_servers  \\\n",
       "52              420  3/26/2021, 7:26:39 PM      [\"127.0.0.53\"]   \n",
       "81              420  3/26/2021, 7:34:05 PM      [\"127.0.0.53\"]   \n",
       "\n",
       "          default_lookup_status  default_lookup_success default_lookup_ips  \\\n",
       "52                      success                       1  [\"142.54.186.50\"]   \n",
       "81  queryA ENOTFOUND jatoeg.org                       0                 []   \n",
       "\n",
       "       cloudflare_lookup_status  cloudflare_lookup_success  \\\n",
       "52     queryA ENODATA alalam.ir                          0   \n",
       "81  queryA ENOTFOUND jatoeg.org                          0   \n",
       "\n",
       "   cloudflare_lookup_ips            all_ips  page_load_success  \\\n",
       "52                    []  [\"142.54.186.50\"]                  0   \n",
       "81                    []                 []                  0   \n",
       "\n",
       "                                     page_load_status  \n",
       "52  net::ERR_CONNECTION_RESET at http://www.alalam.ir  \n",
       "81  net::ERR_NAME_NOT_RESOLVED at http://www.jatoe...  "
      ],
      "text/html": "<div>\n<style scoped>\n    .dataframe tbody tr th:only-of-type {\n        vertical-align: middle;\n    }\n\n    .dataframe tbody tr th {\n        vertical-align: top;\n    }\n\n    .dataframe thead th {\n        text-align: right;\n    }\n</style>\n<table border=\"1\" class=\"dataframe\">\n  <thead>\n    <tr style=\"text-align: right;\">\n      <th></th>\n      <th>experiment_id</th>\n      <th>run_number</th>\n      <th>policy</th>\n      <th>domain</th>\n      <th>url</th>\n      <th>experiment_count</th>\n      <th>experiment_code</th>\n      <th>timestamp</th>\n      <th>timezone_offset</th>\n      <th>local_time</th>\n      <th>default_dns_servers</th>\n      <th>default_lookup_status</th>\n      <th>default_lookup_success</th>\n      <th>default_lookup_ips</th>\n      <th>cloudflare_lookup_status</th>\n      <th>cloudflare_lookup_success</th>\n      <th>cloudflare_lookup_ips</th>\n      <th>all_ips</th>\n      <th>page_load_success</th>\n      <th>page_load_status</th>\n    </tr>\n  </thead>\n  <tbody>\n    <tr>\n      <th>52</th>\n      <td>52</td>\n      <td>0</td>\n      <td>egypt_mans_control</td>\n      <td>alalam.ir</td>\n      <td>http://www.alalam.ir</td>\n      <td>0</td>\n      <td>alalam.ir_0</td>\n      <td>1616811999922</td>\n      <td>420</td>\n      <td>3/26/2021, 7:26:39 PM</td>\n      <td>[\"127.0.0.53\"]</td>\n      <td>success</td>\n      <td>1</td>\n      <td>[\"142.54.186.50\"]</td>\n      <td>queryA ENODATA alalam.ir</td>\n      <td>0</td>\n      <td>[]</td>\n      <td>[\"142.54.186.50\"]</td>\n      <td>0</td>\n      <td>net::ERR_CONNECTION_RESET at http://www.alalam.ir</td>\n    </tr>\n    <tr>\n      <th>81</th>\n      <td>81</td>\n      <td>0</td>\n      <td>egypt_mans_control</td>\n      <td>jatoeg.org</td>\n      <td>http://www.jatoeg.org</td>\n      <td>0</td>\n      <td>jatoeg.org_0</td>\n      <td>1616812445255</td>\n      <td>420</td>\n      <td>3/26/2021, 7:34:05 PM</td>\n      <td>[\"127.0.0.53\"]</td>\n      <td>queryA ENOTFOUND jatoeg.org</td>\n      <td>0</td>\n      <td>[]</td>\n      <td>queryA ENOTFOUND jatoeg.org</td>\n      <td>0</td>\n      <td>[]</td>\n      <td>[]</td>\n      <td>0</td>\n      <td>net::ERR_NAME_NOT_RESOLVED at http://www.jatoe...</td>\n    </tr>\n  </tbody>\n</table>\n</div>"
     },
     "metadata": {},
     "execution_count": 25
    }
   ],
   "source": [
    "egypt_mans_control.cloudflare_lookup_success\n",
    "egypt_mans_control[(egypt_mans_control.cloudflare_lookup_success == 0)]"
   ]
  },
  {
   "cell_type": "code",
   "execution_count": null,
   "metadata": {},
   "outputs": [],
   "source": []
  },
  {
   "cell_type": "code",
   "execution_count": 20,
   "metadata": {},
   "outputs": [
    {
     "output_type": "execute_result",
     "data": {
      "text/plain": [
       "       experiment_id  run_number  experiment_count     timestamp  \\\n",
       "count     183.000000       183.0        183.000000  1.830000e+02   \n",
       "mean       91.000000         0.0          0.163934  1.616884e+12   \n",
       "std        52.971691         0.0          0.426344  1.061284e+06   \n",
       "min         0.000000         0.0          0.000000  1.616882e+12   \n",
       "25%        45.500000         0.0          0.000000  1.616883e+12   \n",
       "50%        91.000000         0.0          0.000000  1.616884e+12   \n",
       "75%       136.500000         0.0          0.000000  1.616885e+12   \n",
       "max       182.000000         0.0          2.000000  1.616886e+12   \n",
       "\n",
       "       timezone_offset  default_lookup_success  cloudflare_lookup_success  \\\n",
       "count            183.0              183.000000                 183.000000   \n",
       "mean             420.0                0.868852                   0.994536   \n",
       "std                0.0                0.338488                   0.073922   \n",
       "min              420.0                0.000000                   0.000000   \n",
       "25%              420.0                1.000000                   1.000000   \n",
       "50%              420.0                1.000000                   1.000000   \n",
       "75%              420.0                1.000000                   1.000000   \n",
       "max              420.0                1.000000                   1.000000   \n",
       "\n",
       "       page_load_success  \n",
       "count         183.000000  \n",
       "mean            0.765027  \n",
       "std             0.425145  \n",
       "min             0.000000  \n",
       "25%             1.000000  \n",
       "50%             1.000000  \n",
       "75%             1.000000  \n",
       "max             1.000000  "
      ],
      "text/html": "<div>\n<style scoped>\n    .dataframe tbody tr th:only-of-type {\n        vertical-align: middle;\n    }\n\n    .dataframe tbody tr th {\n        vertical-align: top;\n    }\n\n    .dataframe thead th {\n        text-align: right;\n    }\n</style>\n<table border=\"1\" class=\"dataframe\">\n  <thead>\n    <tr style=\"text-align: right;\">\n      <th></th>\n      <th>experiment_id</th>\n      <th>run_number</th>\n      <th>experiment_count</th>\n      <th>timestamp</th>\n      <th>timezone_offset</th>\n      <th>default_lookup_success</th>\n      <th>cloudflare_lookup_success</th>\n      <th>page_load_success</th>\n    </tr>\n  </thead>\n  <tbody>\n    <tr>\n      <th>count</th>\n      <td>183.000000</td>\n      <td>183.0</td>\n      <td>183.000000</td>\n      <td>1.830000e+02</td>\n      <td>183.0</td>\n      <td>183.000000</td>\n      <td>183.000000</td>\n      <td>183.000000</td>\n    </tr>\n    <tr>\n      <th>mean</th>\n      <td>91.000000</td>\n      <td>0.0</td>\n      <td>0.163934</td>\n      <td>1.616884e+12</td>\n      <td>420.0</td>\n      <td>0.868852</td>\n      <td>0.994536</td>\n      <td>0.765027</td>\n    </tr>\n    <tr>\n      <th>std</th>\n      <td>52.971691</td>\n      <td>0.0</td>\n      <td>0.426344</td>\n      <td>1.061284e+06</td>\n      <td>0.0</td>\n      <td>0.338488</td>\n      <td>0.073922</td>\n      <td>0.425145</td>\n    </tr>\n    <tr>\n      <th>min</th>\n      <td>0.000000</td>\n      <td>0.0</td>\n      <td>0.000000</td>\n      <td>1.616882e+12</td>\n      <td>420.0</td>\n      <td>0.000000</td>\n      <td>0.000000</td>\n      <td>0.000000</td>\n    </tr>\n    <tr>\n      <th>25%</th>\n      <td>45.500000</td>\n      <td>0.0</td>\n      <td>0.000000</td>\n      <td>1.616883e+12</td>\n      <td>420.0</td>\n      <td>1.000000</td>\n      <td>1.000000</td>\n      <td>1.000000</td>\n    </tr>\n    <tr>\n      <th>50%</th>\n      <td>91.000000</td>\n      <td>0.0</td>\n      <td>0.000000</td>\n      <td>1.616884e+12</td>\n      <td>420.0</td>\n      <td>1.000000</td>\n      <td>1.000000</td>\n      <td>1.000000</td>\n    </tr>\n    <tr>\n      <th>75%</th>\n      <td>136.500000</td>\n      <td>0.0</td>\n      <td>0.000000</td>\n      <td>1.616885e+12</td>\n      <td>420.0</td>\n      <td>1.000000</td>\n      <td>1.000000</td>\n      <td>1.000000</td>\n    </tr>\n    <tr>\n      <th>max</th>\n      <td>182.000000</td>\n      <td>0.0</td>\n      <td>2.000000</td>\n      <td>1.616886e+12</td>\n      <td>420.0</td>\n      <td>1.000000</td>\n      <td>1.000000</td>\n      <td>1.000000</td>\n    </tr>\n  </tbody>\n</table>\n</div>"
     },
     "metadata": {},
     "execution_count": 20
    }
   ],
   "source": [
    "egypt_geneva_def.describe()"
   ]
  },
  {
   "cell_type": "code",
   "execution_count": 38,
   "metadata": {},
   "outputs": [
    {
     "output_type": "execute_result",
     "data": {
      "text/plain": [
       "       experiment_id  run_number  experiment_count     timestamp  \\\n",
       "count     281.000000  281.000000        281.000000  2.810000e+02   \n",
       "mean      140.000000    2.085409          0.718861  1.616858e+12   \n",
       "std        81.261922    1.333564          1.026071  2.838348e+07   \n",
       "min         0.000000    0.000000          0.000000  1.616816e+12   \n",
       "25%        70.000000    0.000000          0.000000  1.616820e+12   \n",
       "50%       140.000000    3.000000          0.000000  1.616878e+12   \n",
       "75%       210.000000    3.000000          1.000000  1.616879e+12   \n",
       "max       280.000000    3.000000          6.000000  1.616881e+12   \n",
       "\n",
       "       timezone_offset  default_lookup_success  cloudflare_lookup_success  \\\n",
       "count            281.0              281.000000                 281.000000   \n",
       "mean             420.0                0.978648                   0.978648   \n",
       "std                0.0                0.144814                   0.144814   \n",
       "min              420.0                0.000000                   0.000000   \n",
       "25%              420.0                1.000000                   1.000000   \n",
       "50%              420.0                1.000000                   1.000000   \n",
       "75%              420.0                1.000000                   1.000000   \n",
       "max              420.0                1.000000                   1.000000   \n",
       "\n",
       "       page_load_success  \n",
       "count         281.000000  \n",
       "mean            0.619217  \n",
       "std             0.486446  \n",
       "min             0.000000  \n",
       "25%             0.000000  \n",
       "50%             1.000000  \n",
       "75%             1.000000  \n",
       "max             1.000000  "
      ],
      "text/html": "<div>\n<style scoped>\n    .dataframe tbody tr th:only-of-type {\n        vertical-align: middle;\n    }\n\n    .dataframe tbody tr th {\n        vertical-align: top;\n    }\n\n    .dataframe thead th {\n        text-align: right;\n    }\n</style>\n<table border=\"1\" class=\"dataframe\">\n  <thead>\n    <tr style=\"text-align: right;\">\n      <th></th>\n      <th>experiment_id</th>\n      <th>run_number</th>\n      <th>experiment_count</th>\n      <th>timestamp</th>\n      <th>timezone_offset</th>\n      <th>default_lookup_success</th>\n      <th>cloudflare_lookup_success</th>\n      <th>page_load_success</th>\n    </tr>\n  </thead>\n  <tbody>\n    <tr>\n      <th>count</th>\n      <td>281.000000</td>\n      <td>281.000000</td>\n      <td>281.000000</td>\n      <td>2.810000e+02</td>\n      <td>281.0</td>\n      <td>281.000000</td>\n      <td>281.000000</td>\n      <td>281.000000</td>\n    </tr>\n    <tr>\n      <th>mean</th>\n      <td>140.000000</td>\n      <td>2.085409</td>\n      <td>0.718861</td>\n      <td>1.616858e+12</td>\n      <td>420.0</td>\n      <td>0.978648</td>\n      <td>0.978648</td>\n      <td>0.619217</td>\n    </tr>\n    <tr>\n      <th>std</th>\n      <td>81.261922</td>\n      <td>1.333564</td>\n      <td>1.026071</td>\n      <td>2.838348e+07</td>\n      <td>0.0</td>\n      <td>0.144814</td>\n      <td>0.144814</td>\n      <td>0.486446</td>\n    </tr>\n    <tr>\n      <th>min</th>\n      <td>0.000000</td>\n      <td>0.000000</td>\n      <td>0.000000</td>\n      <td>1.616816e+12</td>\n      <td>420.0</td>\n      <td>0.000000</td>\n      <td>0.000000</td>\n      <td>0.000000</td>\n    </tr>\n    <tr>\n      <th>25%</th>\n      <td>70.000000</td>\n      <td>0.000000</td>\n      <td>0.000000</td>\n      <td>1.616820e+12</td>\n      <td>420.0</td>\n      <td>1.000000</td>\n      <td>1.000000</td>\n      <td>0.000000</td>\n    </tr>\n    <tr>\n      <th>50%</th>\n      <td>140.000000</td>\n      <td>3.000000</td>\n      <td>0.000000</td>\n      <td>1.616878e+12</td>\n      <td>420.0</td>\n      <td>1.000000</td>\n      <td>1.000000</td>\n      <td>1.000000</td>\n    </tr>\n    <tr>\n      <th>75%</th>\n      <td>210.000000</td>\n      <td>3.000000</td>\n      <td>1.000000</td>\n      <td>1.616879e+12</td>\n      <td>420.0</td>\n      <td>1.000000</td>\n      <td>1.000000</td>\n      <td>1.000000</td>\n    </tr>\n    <tr>\n      <th>max</th>\n      <td>280.000000</td>\n      <td>3.000000</td>\n      <td>6.000000</td>\n      <td>1.616881e+12</td>\n      <td>420.0</td>\n      <td>1.000000</td>\n      <td>1.000000</td>\n      <td>1.000000</td>\n    </tr>\n  </tbody>\n</table>\n</div>"
     },
     "metadata": {},
     "execution_count": 38
    }
   ],
   "source": [
    "egypt_mans_geneva_def.describe()"
   ]
  },
  {
   "cell_type": "code",
   "execution_count": 46,
   "metadata": {},
   "outputs": [
    {
     "output_type": "execute_result",
     "data": {
      "text/plain": [
       "       experiment_id  run_number  experiment_count     timestamp  \\\n",
       "count     183.000000       183.0        183.000000  1.830000e+02   \n",
       "mean      189.000000         3.0          0.912568  1.616879e+12   \n",
       "std        52.971691         0.0          1.140178  1.080779e+06   \n",
       "min        98.000000         3.0          0.000000  1.616877e+12   \n",
       "25%       143.500000         3.0          0.000000  1.616878e+12   \n",
       "50%       189.000000         3.0          1.000000  1.616879e+12   \n",
       "75%       234.500000         3.0          1.000000  1.616880e+12   \n",
       "max       280.000000         3.0          6.000000  1.616881e+12   \n",
       "\n",
       "       timezone_offset  default_lookup_success  cloudflare_lookup_success  \\\n",
       "count            183.0              183.000000                 183.000000   \n",
       "mean             420.0                0.994536                   0.994536   \n",
       "std                0.0                0.073922                   0.073922   \n",
       "min              420.0                0.000000                   0.000000   \n",
       "25%              420.0                1.000000                   1.000000   \n",
       "50%              420.0                1.000000                   1.000000   \n",
       "75%              420.0                1.000000                   1.000000   \n",
       "max              420.0                1.000000                   1.000000   \n",
       "\n",
       "       page_load_success  \n",
       "count         183.000000  \n",
       "mean            0.830601  \n",
       "std             0.376133  \n",
       "min             0.000000  \n",
       "25%             1.000000  \n",
       "50%             1.000000  \n",
       "75%             1.000000  \n",
       "max             1.000000  "
      ],
      "text/html": "<div>\n<style scoped>\n    .dataframe tbody tr th:only-of-type {\n        vertical-align: middle;\n    }\n\n    .dataframe tbody tr th {\n        vertical-align: top;\n    }\n\n    .dataframe thead th {\n        text-align: right;\n    }\n</style>\n<table border=\"1\" class=\"dataframe\">\n  <thead>\n    <tr style=\"text-align: right;\">\n      <th></th>\n      <th>experiment_id</th>\n      <th>run_number</th>\n      <th>experiment_count</th>\n      <th>timestamp</th>\n      <th>timezone_offset</th>\n      <th>default_lookup_success</th>\n      <th>cloudflare_lookup_success</th>\n      <th>page_load_success</th>\n    </tr>\n  </thead>\n  <tbody>\n    <tr>\n      <th>count</th>\n      <td>183.000000</td>\n      <td>183.0</td>\n      <td>183.000000</td>\n      <td>1.830000e+02</td>\n      <td>183.0</td>\n      <td>183.000000</td>\n      <td>183.000000</td>\n      <td>183.000000</td>\n    </tr>\n    <tr>\n      <th>mean</th>\n      <td>189.000000</td>\n      <td>3.0</td>\n      <td>0.912568</td>\n      <td>1.616879e+12</td>\n      <td>420.0</td>\n      <td>0.994536</td>\n      <td>0.994536</td>\n      <td>0.830601</td>\n    </tr>\n    <tr>\n      <th>std</th>\n      <td>52.971691</td>\n      <td>0.0</td>\n      <td>1.140178</td>\n      <td>1.080779e+06</td>\n      <td>0.0</td>\n      <td>0.073922</td>\n      <td>0.073922</td>\n      <td>0.376133</td>\n    </tr>\n    <tr>\n      <th>min</th>\n      <td>98.000000</td>\n      <td>3.0</td>\n      <td>0.000000</td>\n      <td>1.616877e+12</td>\n      <td>420.0</td>\n      <td>0.000000</td>\n      <td>0.000000</td>\n      <td>0.000000</td>\n    </tr>\n    <tr>\n      <th>25%</th>\n      <td>143.500000</td>\n      <td>3.0</td>\n      <td>0.000000</td>\n      <td>1.616878e+12</td>\n      <td>420.0</td>\n      <td>1.000000</td>\n      <td>1.000000</td>\n      <td>1.000000</td>\n    </tr>\n    <tr>\n      <th>50%</th>\n      <td>189.000000</td>\n      <td>3.0</td>\n      <td>1.000000</td>\n      <td>1.616879e+12</td>\n      <td>420.0</td>\n      <td>1.000000</td>\n      <td>1.000000</td>\n      <td>1.000000</td>\n    </tr>\n    <tr>\n      <th>75%</th>\n      <td>234.500000</td>\n      <td>3.0</td>\n      <td>1.000000</td>\n      <td>1.616880e+12</td>\n      <td>420.0</td>\n      <td>1.000000</td>\n      <td>1.000000</td>\n      <td>1.000000</td>\n    </tr>\n    <tr>\n      <th>max</th>\n      <td>280.000000</td>\n      <td>3.0</td>\n      <td>6.000000</td>\n      <td>1.616881e+12</td>\n      <td>420.0</td>\n      <td>1.000000</td>\n      <td>1.000000</td>\n      <td>1.000000</td>\n    </tr>\n  </tbody>\n</table>\n</div>"
     },
     "metadata": {},
     "execution_count": 46
    }
   ],
   "source": [
    "egypt_mans_geneva_def[egypt_mans_geneva_def.run_number == 0].describe()\n",
    "egypt_mans_geneva_def[egypt_mans_geneva_def.run_number == 3].describe()"
   ]
  },
  {
   "cell_type": "code",
   "execution_count": 49,
   "metadata": {},
   "outputs": [
    {
     "output_type": "execute_result",
     "data": {
      "text/plain": [
       "       experiment_id  run_number  experiment_count     timestamp  \\\n",
       "count     124.000000  124.000000        124.000000  1.240000e+02   \n",
       "mean       61.500000    0.975806          0.153226  1.616890e+12   \n",
       "std        35.939764    0.154273          0.383488  2.756516e+06   \n",
       "min         0.000000    0.000000          0.000000  1.616885e+12   \n",
       "25%        30.750000    1.000000          0.000000  1.616888e+12   \n",
       "50%        61.500000    1.000000          0.000000  1.616890e+12   \n",
       "75%        92.250000    1.000000          0.000000  1.616893e+12   \n",
       "max       123.000000    1.000000          2.000000  1.616895e+12   \n",
       "\n",
       "       timezone_offset  default_lookup_success  cloudflare_lookup_success  \\\n",
       "count            124.0              124.000000                 124.000000   \n",
       "mean             420.0                0.983871                   0.991935   \n",
       "std                0.0                0.126483                   0.089803   \n",
       "min              420.0                0.000000                   0.000000   \n",
       "25%              420.0                1.000000                   1.000000   \n",
       "50%              420.0                1.000000                   1.000000   \n",
       "75%              420.0                1.000000                   1.000000   \n",
       "max              420.0                1.000000                   1.000000   \n",
       "\n",
       "       page_load_success  \n",
       "count              124.0  \n",
       "mean                 0.0  \n",
       "std                  0.0  \n",
       "min                  0.0  \n",
       "25%                  0.0  \n",
       "50%                  0.0  \n",
       "75%                  0.0  \n",
       "max                  0.0  "
      ],
      "text/html": "<div>\n<style scoped>\n    .dataframe tbody tr th:only-of-type {\n        vertical-align: middle;\n    }\n\n    .dataframe tbody tr th {\n        vertical-align: top;\n    }\n\n    .dataframe thead th {\n        text-align: right;\n    }\n</style>\n<table border=\"1\" class=\"dataframe\">\n  <thead>\n    <tr style=\"text-align: right;\">\n      <th></th>\n      <th>experiment_id</th>\n      <th>run_number</th>\n      <th>experiment_count</th>\n      <th>timestamp</th>\n      <th>timezone_offset</th>\n      <th>default_lookup_success</th>\n      <th>cloudflare_lookup_success</th>\n      <th>page_load_success</th>\n    </tr>\n  </thead>\n  <tbody>\n    <tr>\n      <th>count</th>\n      <td>124.000000</td>\n      <td>124.000000</td>\n      <td>124.000000</td>\n      <td>1.240000e+02</td>\n      <td>124.0</td>\n      <td>124.000000</td>\n      <td>124.000000</td>\n      <td>124.0</td>\n    </tr>\n    <tr>\n      <th>mean</th>\n      <td>61.500000</td>\n      <td>0.975806</td>\n      <td>0.153226</td>\n      <td>1.616890e+12</td>\n      <td>420.0</td>\n      <td>0.983871</td>\n      <td>0.991935</td>\n      <td>0.0</td>\n    </tr>\n    <tr>\n      <th>std</th>\n      <td>35.939764</td>\n      <td>0.154273</td>\n      <td>0.383488</td>\n      <td>2.756516e+06</td>\n      <td>0.0</td>\n      <td>0.126483</td>\n      <td>0.089803</td>\n      <td>0.0</td>\n    </tr>\n    <tr>\n      <th>min</th>\n      <td>0.000000</td>\n      <td>0.000000</td>\n      <td>0.000000</td>\n      <td>1.616885e+12</td>\n      <td>420.0</td>\n      <td>0.000000</td>\n      <td>0.000000</td>\n      <td>0.0</td>\n    </tr>\n    <tr>\n      <th>25%</th>\n      <td>30.750000</td>\n      <td>1.000000</td>\n      <td>0.000000</td>\n      <td>1.616888e+12</td>\n      <td>420.0</td>\n      <td>1.000000</td>\n      <td>1.000000</td>\n      <td>0.0</td>\n    </tr>\n    <tr>\n      <th>50%</th>\n      <td>61.500000</td>\n      <td>1.000000</td>\n      <td>0.000000</td>\n      <td>1.616890e+12</td>\n      <td>420.0</td>\n      <td>1.000000</td>\n      <td>1.000000</td>\n      <td>0.0</td>\n    </tr>\n    <tr>\n      <th>75%</th>\n      <td>92.250000</td>\n      <td>1.000000</td>\n      <td>0.000000</td>\n      <td>1.616893e+12</td>\n      <td>420.0</td>\n      <td>1.000000</td>\n      <td>1.000000</td>\n      <td>0.0</td>\n    </tr>\n    <tr>\n      <th>max</th>\n      <td>123.000000</td>\n      <td>1.000000</td>\n      <td>2.000000</td>\n      <td>1.616895e+12</td>\n      <td>420.0</td>\n      <td>1.000000</td>\n      <td>1.000000</td>\n      <td>0.0</td>\n    </tr>\n  </tbody>\n</table>\n</div>"
     },
     "metadata": {},
     "execution_count": 49
    }
   ],
   "source": [
    "egypt_mans_geneva_evolved.describe()"
   ]
  },
  {
   "cell_type": "code",
   "execution_count": 50,
   "metadata": {},
   "outputs": [
    {
     "output_type": "execute_result",
     "data": {
      "text/plain": [
       "       experiment_id  run_number  experiment_count     timestamp  \\\n",
       "count     183.000000       183.0        183.000000  1.830000e+02   \n",
       "mean       91.000000         0.0          0.163934  1.616888e+12   \n",
       "std        52.971691         0.0          0.426344  9.632141e+05   \n",
       "min         0.000000         0.0          0.000000  1.616886e+12   \n",
       "25%        45.500000         0.0          0.000000  1.616887e+12   \n",
       "50%        91.000000         0.0          0.000000  1.616888e+12   \n",
       "75%       136.500000         0.0          0.000000  1.616889e+12   \n",
       "max       182.000000         0.0          2.000000  1.616889e+12   \n",
       "\n",
       "       timezone_offset  default_lookup_success  cloudflare_lookup_success  \\\n",
       "count            183.0              183.000000                 183.000000   \n",
       "mean             420.0                0.868852                   0.994536   \n",
       "std                0.0                0.338488                   0.073922   \n",
       "min              420.0                0.000000                   0.000000   \n",
       "25%              420.0                1.000000                   1.000000   \n",
       "50%              420.0                1.000000                   1.000000   \n",
       "75%              420.0                1.000000                   1.000000   \n",
       "max              420.0                1.000000                   1.000000   \n",
       "\n",
       "       page_load_success  \n",
       "count         183.000000  \n",
       "mean            0.213115  \n",
       "std             0.410632  \n",
       "min             0.000000  \n",
       "25%             0.000000  \n",
       "50%             0.000000  \n",
       "75%             0.000000  \n",
       "max             1.000000  "
      ],
      "text/html": "<div>\n<style scoped>\n    .dataframe tbody tr th:only-of-type {\n        vertical-align: middle;\n    }\n\n    .dataframe tbody tr th {\n        vertical-align: top;\n    }\n\n    .dataframe thead th {\n        text-align: right;\n    }\n</style>\n<table border=\"1\" class=\"dataframe\">\n  <thead>\n    <tr style=\"text-align: right;\">\n      <th></th>\n      <th>experiment_id</th>\n      <th>run_number</th>\n      <th>experiment_count</th>\n      <th>timestamp</th>\n      <th>timezone_offset</th>\n      <th>default_lookup_success</th>\n      <th>cloudflare_lookup_success</th>\n      <th>page_load_success</th>\n    </tr>\n  </thead>\n  <tbody>\n    <tr>\n      <th>count</th>\n      <td>183.000000</td>\n      <td>183.0</td>\n      <td>183.000000</td>\n      <td>1.830000e+02</td>\n      <td>183.0</td>\n      <td>183.000000</td>\n      <td>183.000000</td>\n      <td>183.000000</td>\n    </tr>\n    <tr>\n      <th>mean</th>\n      <td>91.000000</td>\n      <td>0.0</td>\n      <td>0.163934</td>\n      <td>1.616888e+12</td>\n      <td>420.0</td>\n      <td>0.868852</td>\n      <td>0.994536</td>\n      <td>0.213115</td>\n    </tr>\n    <tr>\n      <th>std</th>\n      <td>52.971691</td>\n      <td>0.0</td>\n      <td>0.426344</td>\n      <td>9.632141e+05</td>\n      <td>0.0</td>\n      <td>0.338488</td>\n      <td>0.073922</td>\n      <td>0.410632</td>\n    </tr>\n    <tr>\n      <th>min</th>\n      <td>0.000000</td>\n      <td>0.0</td>\n      <td>0.000000</td>\n      <td>1.616886e+12</td>\n      <td>420.0</td>\n      <td>0.000000</td>\n      <td>0.000000</td>\n      <td>0.000000</td>\n    </tr>\n    <tr>\n      <th>25%</th>\n      <td>45.500000</td>\n      <td>0.0</td>\n      <td>0.000000</td>\n      <td>1.616887e+12</td>\n      <td>420.0</td>\n      <td>1.000000</td>\n      <td>1.000000</td>\n      <td>0.000000</td>\n    </tr>\n    <tr>\n      <th>50%</th>\n      <td>91.000000</td>\n      <td>0.0</td>\n      <td>0.000000</td>\n      <td>1.616888e+12</td>\n      <td>420.0</td>\n      <td>1.000000</td>\n      <td>1.000000</td>\n      <td>0.000000</td>\n    </tr>\n    <tr>\n      <th>75%</th>\n      <td>136.500000</td>\n      <td>0.0</td>\n      <td>0.000000</td>\n      <td>1.616889e+12</td>\n      <td>420.0</td>\n      <td>1.000000</td>\n      <td>1.000000</td>\n      <td>0.000000</td>\n    </tr>\n    <tr>\n      <th>max</th>\n      <td>182.000000</td>\n      <td>0.0</td>\n      <td>2.000000</td>\n      <td>1.616889e+12</td>\n      <td>420.0</td>\n      <td>1.000000</td>\n      <td>1.000000</td>\n      <td>1.000000</td>\n    </tr>\n  </tbody>\n</table>\n</div>"
     },
     "metadata": {},
     "execution_count": 50
    }
   ],
   "source": [
    "egypt_intang_4.describe()"
   ]
  },
  {
   "cell_type": "code",
   "execution_count": 51,
   "metadata": {},
   "outputs": [
    {
     "output_type": "execute_result",
     "data": {
      "text/plain": [
       "       experiment_id  run_number  experiment_count     timestamp  \\\n",
       "count     183.000000       183.0        183.000000  1.830000e+02   \n",
       "mean       91.000000         0.0          0.163934  1.616888e+12   \n",
       "std        52.971691         0.0          0.426344  9.632141e+05   \n",
       "min         0.000000         0.0          0.000000  1.616886e+12   \n",
       "25%        45.500000         0.0          0.000000  1.616887e+12   \n",
       "50%        91.000000         0.0          0.000000  1.616888e+12   \n",
       "75%       136.500000         0.0          0.000000  1.616889e+12   \n",
       "max       182.000000         0.0          2.000000  1.616889e+12   \n",
       "\n",
       "       timezone_offset  default_lookup_success  cloudflare_lookup_success  \\\n",
       "count            183.0              183.000000                 183.000000   \n",
       "mean             420.0                0.868852                   0.994536   \n",
       "std                0.0                0.338488                   0.073922   \n",
       "min              420.0                0.000000                   0.000000   \n",
       "25%              420.0                1.000000                   1.000000   \n",
       "50%              420.0                1.000000                   1.000000   \n",
       "75%              420.0                1.000000                   1.000000   \n",
       "max              420.0                1.000000                   1.000000   \n",
       "\n",
       "       page_load_success  \n",
       "count         183.000000  \n",
       "mean            0.213115  \n",
       "std             0.410632  \n",
       "min             0.000000  \n",
       "25%             0.000000  \n",
       "50%             0.000000  \n",
       "75%             0.000000  \n",
       "max             1.000000  "
      ],
      "text/html": "<div>\n<style scoped>\n    .dataframe tbody tr th:only-of-type {\n        vertical-align: middle;\n    }\n\n    .dataframe tbody tr th {\n        vertical-align: top;\n    }\n\n    .dataframe thead th {\n        text-align: right;\n    }\n</style>\n<table border=\"1\" class=\"dataframe\">\n  <thead>\n    <tr style=\"text-align: right;\">\n      <th></th>\n      <th>experiment_id</th>\n      <th>run_number</th>\n      <th>experiment_count</th>\n      <th>timestamp</th>\n      <th>timezone_offset</th>\n      <th>default_lookup_success</th>\n      <th>cloudflare_lookup_success</th>\n      <th>page_load_success</th>\n    </tr>\n  </thead>\n  <tbody>\n    <tr>\n      <th>count</th>\n      <td>183.000000</td>\n      <td>183.0</td>\n      <td>183.000000</td>\n      <td>1.830000e+02</td>\n      <td>183.0</td>\n      <td>183.000000</td>\n      <td>183.000000</td>\n      <td>183.000000</td>\n    </tr>\n    <tr>\n      <th>mean</th>\n      <td>91.000000</td>\n      <td>0.0</td>\n      <td>0.163934</td>\n      <td>1.616888e+12</td>\n      <td>420.0</td>\n      <td>0.868852</td>\n      <td>0.994536</td>\n      <td>0.213115</td>\n    </tr>\n    <tr>\n      <th>std</th>\n      <td>52.971691</td>\n      <td>0.0</td>\n      <td>0.426344</td>\n      <td>9.632141e+05</td>\n      <td>0.0</td>\n      <td>0.338488</td>\n      <td>0.073922</td>\n      <td>0.410632</td>\n    </tr>\n    <tr>\n      <th>min</th>\n      <td>0.000000</td>\n      <td>0.0</td>\n      <td>0.000000</td>\n      <td>1.616886e+12</td>\n      <td>420.0</td>\n      <td>0.000000</td>\n      <td>0.000000</td>\n      <td>0.000000</td>\n    </tr>\n    <tr>\n      <th>25%</th>\n      <td>45.500000</td>\n      <td>0.0</td>\n      <td>0.000000</td>\n      <td>1.616887e+12</td>\n      <td>420.0</td>\n      <td>1.000000</td>\n      <td>1.000000</td>\n      <td>0.000000</td>\n    </tr>\n    <tr>\n      <th>50%</th>\n      <td>91.000000</td>\n      <td>0.0</td>\n      <td>0.000000</td>\n      <td>1.616888e+12</td>\n      <td>420.0</td>\n      <td>1.000000</td>\n      <td>1.000000</td>\n      <td>0.000000</td>\n    </tr>\n    <tr>\n      <th>75%</th>\n      <td>136.500000</td>\n      <td>0.0</td>\n      <td>0.000000</td>\n      <td>1.616889e+12</td>\n      <td>420.0</td>\n      <td>1.000000</td>\n      <td>1.000000</td>\n      <td>0.000000</td>\n    </tr>\n    <tr>\n      <th>max</th>\n      <td>182.000000</td>\n      <td>0.0</td>\n      <td>2.000000</td>\n      <td>1.616889e+12</td>\n      <td>420.0</td>\n      <td>1.000000</td>\n      <td>1.000000</td>\n      <td>1.000000</td>\n    </tr>\n  </tbody>\n</table>\n</div>"
     },
     "metadata": {},
     "execution_count": 51
    }
   ],
   "source": [
    "egypt_intang_def.describe()"
   ]
  },
  {
   "cell_type": "code",
   "execution_count": 53,
   "metadata": {},
   "outputs": [
    {
     "output_type": "execute_result",
     "data": {
      "text/plain": [
       "       experiment_id  run_number  experiment_count     timestamp  \\\n",
       "count     183.000000       183.0        183.000000  1.830000e+02   \n",
       "mean       91.000000         0.0          0.163934  1.616774e+12   \n",
       "std        52.971691         0.0          0.426344  1.004823e+06   \n",
       "min         0.000000         0.0          0.000000  1.616772e+12   \n",
       "25%        45.500000         0.0          0.000000  1.616773e+12   \n",
       "50%        91.000000         0.0          0.000000  1.616774e+12   \n",
       "75%       136.500000         0.0          0.000000  1.616775e+12   \n",
       "max       182.000000         0.0          2.000000  1.616776e+12   \n",
       "\n",
       "       timezone_offset  default_lookup_success  cloudflare_lookup_success  \\\n",
       "count            183.0              183.000000                 183.000000   \n",
       "mean            -120.0                0.972678                   0.978142   \n",
       "std                0.0                0.163468                   0.146621   \n",
       "min             -120.0                0.000000                   0.000000   \n",
       "25%             -120.0                1.000000                   1.000000   \n",
       "50%             -120.0                1.000000                   1.000000   \n",
       "75%             -120.0                1.000000                   1.000000   \n",
       "max             -120.0                1.000000                   1.000000   \n",
       "\n",
       "       page_load_success  \n",
       "count         183.000000  \n",
       "mean            0.912568  \n",
       "std             0.283242  \n",
       "min             0.000000  \n",
       "25%             1.000000  \n",
       "50%             1.000000  \n",
       "75%             1.000000  \n",
       "max             1.000000  "
      ],
      "text/html": "<div>\n<style scoped>\n    .dataframe tbody tr th:only-of-type {\n        vertical-align: middle;\n    }\n\n    .dataframe tbody tr th {\n        vertical-align: top;\n    }\n\n    .dataframe thead th {\n        text-align: right;\n    }\n</style>\n<table border=\"1\" class=\"dataframe\">\n  <thead>\n    <tr style=\"text-align: right;\">\n      <th></th>\n      <th>experiment_id</th>\n      <th>run_number</th>\n      <th>experiment_count</th>\n      <th>timestamp</th>\n      <th>timezone_offset</th>\n      <th>default_lookup_success</th>\n      <th>cloudflare_lookup_success</th>\n      <th>page_load_success</th>\n    </tr>\n  </thead>\n  <tbody>\n    <tr>\n      <th>count</th>\n      <td>183.000000</td>\n      <td>183.0</td>\n      <td>183.000000</td>\n      <td>1.830000e+02</td>\n      <td>183.0</td>\n      <td>183.000000</td>\n      <td>183.000000</td>\n      <td>183.000000</td>\n    </tr>\n    <tr>\n      <th>mean</th>\n      <td>91.000000</td>\n      <td>0.0</td>\n      <td>0.163934</td>\n      <td>1.616774e+12</td>\n      <td>-120.0</td>\n      <td>0.972678</td>\n      <td>0.978142</td>\n      <td>0.912568</td>\n    </tr>\n    <tr>\n      <th>std</th>\n      <td>52.971691</td>\n      <td>0.0</td>\n      <td>0.426344</td>\n      <td>1.004823e+06</td>\n      <td>0.0</td>\n      <td>0.163468</td>\n      <td>0.146621</td>\n      <td>0.283242</td>\n    </tr>\n    <tr>\n      <th>min</th>\n      <td>0.000000</td>\n      <td>0.0</td>\n      <td>0.000000</td>\n      <td>1.616772e+12</td>\n      <td>-120.0</td>\n      <td>0.000000</td>\n      <td>0.000000</td>\n      <td>0.000000</td>\n    </tr>\n    <tr>\n      <th>25%</th>\n      <td>45.500000</td>\n      <td>0.0</td>\n      <td>0.000000</td>\n      <td>1.616773e+12</td>\n      <td>-120.0</td>\n      <td>1.000000</td>\n      <td>1.000000</td>\n      <td>1.000000</td>\n    </tr>\n    <tr>\n      <th>50%</th>\n      <td>91.000000</td>\n      <td>0.0</td>\n      <td>0.000000</td>\n      <td>1.616774e+12</td>\n      <td>-120.0</td>\n      <td>1.000000</td>\n      <td>1.000000</td>\n      <td>1.000000</td>\n    </tr>\n    <tr>\n      <th>75%</th>\n      <td>136.500000</td>\n      <td>0.0</td>\n      <td>0.000000</td>\n      <td>1.616775e+12</td>\n      <td>-120.0</td>\n      <td>1.000000</td>\n      <td>1.000000</td>\n      <td>1.000000</td>\n    </tr>\n    <tr>\n      <th>max</th>\n      <td>182.000000</td>\n      <td>0.0</td>\n      <td>2.000000</td>\n      <td>1.616776e+12</td>\n      <td>-120.0</td>\n      <td>1.000000</td>\n      <td>1.000000</td>\n      <td>1.000000</td>\n    </tr>\n  </tbody>\n</table>\n</div>"
     },
     "metadata": {},
     "execution_count": 53
    }
   ],
   "source": [
    "egypt_nordvpn_obfs_bridged.describe()"
   ]
  },
  {
   "cell_type": "code",
   "execution_count": 54,
   "metadata": {},
   "outputs": [
    {
     "output_type": "execute_result",
     "data": {
      "text/plain": [
       "       experiment_id  run_number  experiment_count     timestamp  \\\n",
       "count     183.000000       183.0        183.000000  1.830000e+02   \n",
       "mean       91.000000         0.0          0.163934  1.616780e+12   \n",
       "std        52.971691         0.0          0.426344  8.820006e+05   \n",
       "min         0.000000         0.0          0.000000  1.616778e+12   \n",
       "25%        45.500000         0.0          0.000000  1.616779e+12   \n",
       "50%        91.000000         0.0          0.000000  1.616780e+12   \n",
       "75%       136.500000         0.0          0.000000  1.616780e+12   \n",
       "max       182.000000         0.0          2.000000  1.616781e+12   \n",
       "\n",
       "       timezone_offset  default_lookup_success  cloudflare_lookup_success  \\\n",
       "count            183.0              183.000000                 183.000000   \n",
       "mean            -120.0                0.978142                   0.983607   \n",
       "std                0.0                0.146621                   0.127331   \n",
       "min             -120.0                0.000000                   0.000000   \n",
       "25%             -120.0                1.000000                   1.000000   \n",
       "50%             -120.0                1.000000                   1.000000   \n",
       "75%             -120.0                1.000000                   1.000000   \n",
       "max             -120.0                1.000000                   1.000000   \n",
       "\n",
       "       page_load_success  \n",
       "count         183.000000  \n",
       "mean            0.928962  \n",
       "std             0.257593  \n",
       "min             0.000000  \n",
       "25%             1.000000  \n",
       "50%             1.000000  \n",
       "75%             1.000000  \n",
       "max             1.000000  "
      ],
      "text/html": "<div>\n<style scoped>\n    .dataframe tbody tr th:only-of-type {\n        vertical-align: middle;\n    }\n\n    .dataframe tbody tr th {\n        vertical-align: top;\n    }\n\n    .dataframe thead th {\n        text-align: right;\n    }\n</style>\n<table border=\"1\" class=\"dataframe\">\n  <thead>\n    <tr style=\"text-align: right;\">\n      <th></th>\n      <th>experiment_id</th>\n      <th>run_number</th>\n      <th>experiment_count</th>\n      <th>timestamp</th>\n      <th>timezone_offset</th>\n      <th>default_lookup_success</th>\n      <th>cloudflare_lookup_success</th>\n      <th>page_load_success</th>\n    </tr>\n  </thead>\n  <tbody>\n    <tr>\n      <th>count</th>\n      <td>183.000000</td>\n      <td>183.0</td>\n      <td>183.000000</td>\n      <td>1.830000e+02</td>\n      <td>183.0</td>\n      <td>183.000000</td>\n      <td>183.000000</td>\n      <td>183.000000</td>\n    </tr>\n    <tr>\n      <th>mean</th>\n      <td>91.000000</td>\n      <td>0.0</td>\n      <td>0.163934</td>\n      <td>1.616780e+12</td>\n      <td>-120.0</td>\n      <td>0.978142</td>\n      <td>0.983607</td>\n      <td>0.928962</td>\n    </tr>\n    <tr>\n      <th>std</th>\n      <td>52.971691</td>\n      <td>0.0</td>\n      <td>0.426344</td>\n      <td>8.820006e+05</td>\n      <td>0.0</td>\n      <td>0.146621</td>\n      <td>0.127331</td>\n      <td>0.257593</td>\n    </tr>\n    <tr>\n      <th>min</th>\n      <td>0.000000</td>\n      <td>0.0</td>\n      <td>0.000000</td>\n      <td>1.616778e+12</td>\n      <td>-120.0</td>\n      <td>0.000000</td>\n      <td>0.000000</td>\n      <td>0.000000</td>\n    </tr>\n    <tr>\n      <th>25%</th>\n      <td>45.500000</td>\n      <td>0.0</td>\n      <td>0.000000</td>\n      <td>1.616779e+12</td>\n      <td>-120.0</td>\n      <td>1.000000</td>\n      <td>1.000000</td>\n      <td>1.000000</td>\n    </tr>\n    <tr>\n      <th>50%</th>\n      <td>91.000000</td>\n      <td>0.0</td>\n      <td>0.000000</td>\n      <td>1.616780e+12</td>\n      <td>-120.0</td>\n      <td>1.000000</td>\n      <td>1.000000</td>\n      <td>1.000000</td>\n    </tr>\n    <tr>\n      <th>75%</th>\n      <td>136.500000</td>\n      <td>0.0</td>\n      <td>0.000000</td>\n      <td>1.616780e+12</td>\n      <td>-120.0</td>\n      <td>1.000000</td>\n      <td>1.000000</td>\n      <td>1.000000</td>\n    </tr>\n    <tr>\n      <th>max</th>\n      <td>182.000000</td>\n      <td>0.0</td>\n      <td>2.000000</td>\n      <td>1.616781e+12</td>\n      <td>-120.0</td>\n      <td>1.000000</td>\n      <td>1.000000</td>\n      <td>1.000000</td>\n    </tr>\n  </tbody>\n</table>\n</div>"
     },
     "metadata": {},
     "execution_count": 54
    }
   ],
   "source": [
    "egypt_vpn_std_nat.describe()"
   ]
  },
  {
   "cell_type": "code",
   "execution_count": 55,
   "metadata": {},
   "outputs": [
    {
     "output_type": "execute_result",
     "data": {
      "text/plain": [
       "       experiment_id  run_number  experiment_count     timestamp  \\\n",
       "count     183.000000       183.0        183.000000  1.830000e+02   \n",
       "mean       91.000000         0.0          0.163934  1.616788e+12   \n",
       "std        52.971691         0.0          0.426344  1.179544e+06   \n",
       "min         0.000000         0.0          0.000000  1.616785e+12   \n",
       "25%        45.500000         0.0          0.000000  1.616787e+12   \n",
       "50%        91.000000         0.0          0.000000  1.616788e+12   \n",
       "75%       136.500000         0.0          0.000000  1.616789e+12   \n",
       "max       182.000000         0.0          2.000000  1.616790e+12   \n",
       "\n",
       "       timezone_offset  default_lookup_success  cloudflare_lookup_success  \\\n",
       "count            183.0              183.000000                 183.000000   \n",
       "mean            -120.0                0.857923                   0.994536   \n",
       "std                0.0                0.350086                   0.073922   \n",
       "min             -120.0                0.000000                   0.000000   \n",
       "25%             -120.0                1.000000                   1.000000   \n",
       "50%             -120.0                1.000000                   1.000000   \n",
       "75%             -120.0                1.000000                   1.000000   \n",
       "max             -120.0                1.000000                   1.000000   \n",
       "\n",
       "       page_load_success  \n",
       "count         183.000000  \n",
       "mean            0.923497  \n",
       "std             0.266530  \n",
       "min             0.000000  \n",
       "25%             1.000000  \n",
       "50%             1.000000  \n",
       "75%             1.000000  \n",
       "max             1.000000  "
      ],
      "text/html": "<div>\n<style scoped>\n    .dataframe tbody tr th:only-of-type {\n        vertical-align: middle;\n    }\n\n    .dataframe tbody tr th {\n        vertical-align: top;\n    }\n\n    .dataframe thead th {\n        text-align: right;\n    }\n</style>\n<table border=\"1\" class=\"dataframe\">\n  <thead>\n    <tr style=\"text-align: right;\">\n      <th></th>\n      <th>experiment_id</th>\n      <th>run_number</th>\n      <th>experiment_count</th>\n      <th>timestamp</th>\n      <th>timezone_offset</th>\n      <th>default_lookup_success</th>\n      <th>cloudflare_lookup_success</th>\n      <th>page_load_success</th>\n    </tr>\n  </thead>\n  <tbody>\n    <tr>\n      <th>count</th>\n      <td>183.000000</td>\n      <td>183.0</td>\n      <td>183.000000</td>\n      <td>1.830000e+02</td>\n      <td>183.0</td>\n      <td>183.000000</td>\n      <td>183.000000</td>\n      <td>183.000000</td>\n    </tr>\n    <tr>\n      <th>mean</th>\n      <td>91.000000</td>\n      <td>0.0</td>\n      <td>0.163934</td>\n      <td>1.616788e+12</td>\n      <td>-120.0</td>\n      <td>0.857923</td>\n      <td>0.994536</td>\n      <td>0.923497</td>\n    </tr>\n    <tr>\n      <th>std</th>\n      <td>52.971691</td>\n      <td>0.0</td>\n      <td>0.426344</td>\n      <td>1.179544e+06</td>\n      <td>0.0</td>\n      <td>0.350086</td>\n      <td>0.073922</td>\n      <td>0.266530</td>\n    </tr>\n    <tr>\n      <th>min</th>\n      <td>0.000000</td>\n      <td>0.0</td>\n      <td>0.000000</td>\n      <td>1.616785e+12</td>\n      <td>-120.0</td>\n      <td>0.000000</td>\n      <td>0.000000</td>\n      <td>0.000000</td>\n    </tr>\n    <tr>\n      <th>25%</th>\n      <td>45.500000</td>\n      <td>0.0</td>\n      <td>0.000000</td>\n      <td>1.616787e+12</td>\n      <td>-120.0</td>\n      <td>1.000000</td>\n      <td>1.000000</td>\n      <td>1.000000</td>\n    </tr>\n    <tr>\n      <th>50%</th>\n      <td>91.000000</td>\n      <td>0.0</td>\n      <td>0.000000</td>\n      <td>1.616788e+12</td>\n      <td>-120.0</td>\n      <td>1.000000</td>\n      <td>1.000000</td>\n      <td>1.000000</td>\n    </tr>\n    <tr>\n      <th>75%</th>\n      <td>136.500000</td>\n      <td>0.0</td>\n      <td>0.000000</td>\n      <td>1.616789e+12</td>\n      <td>-120.0</td>\n      <td>1.000000</td>\n      <td>1.000000</td>\n      <td>1.000000</td>\n    </tr>\n    <tr>\n      <th>max</th>\n      <td>182.000000</td>\n      <td>0.0</td>\n      <td>2.000000</td>\n      <td>1.616790e+12</td>\n      <td>-120.0</td>\n      <td>1.000000</td>\n      <td>1.000000</td>\n      <td>1.000000</td>\n    </tr>\n  </tbody>\n</table>\n</div>"
     },
     "metadata": {},
     "execution_count": 55
    }
   ],
   "source": [
    "egypt_tor.describe()"
   ]
  },
  {
   "cell_type": "code",
   "execution_count": 56,
   "metadata": {},
   "outputs": [
    {
     "output_type": "execute_result",
     "data": {
      "text/plain": [
       "       experiment_id  run_number  experiment_count     timestamp  \\\n",
       "count     183.000000       183.0        183.000000  1.830000e+02   \n",
       "mean       91.000000         0.0          0.163934  1.616802e+12   \n",
       "std        52.971691         0.0          0.426344  1.497113e+06   \n",
       "min         0.000000         0.0          0.000000  1.616799e+12   \n",
       "25%        45.500000         0.0          0.000000  1.616801e+12   \n",
       "50%        91.000000         0.0          0.000000  1.616802e+12   \n",
       "75%       136.500000         0.0          0.000000  1.616803e+12   \n",
       "max       182.000000         0.0          2.000000  1.616804e+12   \n",
       "\n",
       "       timezone_offset  default_lookup_success  cloudflare_lookup_success  \\\n",
       "count            183.0              183.000000                 183.000000   \n",
       "mean            -120.0                0.863388                   0.972678   \n",
       "std                0.0                0.344380                   0.163468   \n",
       "min             -120.0                0.000000                   0.000000   \n",
       "25%             -120.0                1.000000                   1.000000   \n",
       "50%             -120.0                1.000000                   1.000000   \n",
       "75%             -120.0                1.000000                   1.000000   \n",
       "max             -120.0                1.000000                   1.000000   \n",
       "\n",
       "       page_load_success  \n",
       "count         183.000000  \n",
       "mean            0.928962  \n",
       "std             0.257593  \n",
       "min             0.000000  \n",
       "25%             1.000000  \n",
       "50%             1.000000  \n",
       "75%             1.000000  \n",
       "max             1.000000  "
      ],
      "text/html": "<div>\n<style scoped>\n    .dataframe tbody tr th:only-of-type {\n        vertical-align: middle;\n    }\n\n    .dataframe tbody tr th {\n        vertical-align: top;\n    }\n\n    .dataframe thead th {\n        text-align: right;\n    }\n</style>\n<table border=\"1\" class=\"dataframe\">\n  <thead>\n    <tr style=\"text-align: right;\">\n      <th></th>\n      <th>experiment_id</th>\n      <th>run_number</th>\n      <th>experiment_count</th>\n      <th>timestamp</th>\n      <th>timezone_offset</th>\n      <th>default_lookup_success</th>\n      <th>cloudflare_lookup_success</th>\n      <th>page_load_success</th>\n    </tr>\n  </thead>\n  <tbody>\n    <tr>\n      <th>count</th>\n      <td>183.000000</td>\n      <td>183.0</td>\n      <td>183.000000</td>\n      <td>1.830000e+02</td>\n      <td>183.0</td>\n      <td>183.000000</td>\n      <td>183.000000</td>\n      <td>183.000000</td>\n    </tr>\n    <tr>\n      <th>mean</th>\n      <td>91.000000</td>\n      <td>0.0</td>\n      <td>0.163934</td>\n      <td>1.616802e+12</td>\n      <td>-120.0</td>\n      <td>0.863388</td>\n      <td>0.972678</td>\n      <td>0.928962</td>\n    </tr>\n    <tr>\n      <th>std</th>\n      <td>52.971691</td>\n      <td>0.0</td>\n      <td>0.426344</td>\n      <td>1.497113e+06</td>\n      <td>0.0</td>\n      <td>0.344380</td>\n      <td>0.163468</td>\n      <td>0.257593</td>\n    </tr>\n    <tr>\n      <th>min</th>\n      <td>0.000000</td>\n      <td>0.0</td>\n      <td>0.000000</td>\n      <td>1.616799e+12</td>\n      <td>-120.0</td>\n      <td>0.000000</td>\n      <td>0.000000</td>\n      <td>0.000000</td>\n    </tr>\n    <tr>\n      <th>25%</th>\n      <td>45.500000</td>\n      <td>0.0</td>\n      <td>0.000000</td>\n      <td>1.616801e+12</td>\n      <td>-120.0</td>\n      <td>1.000000</td>\n      <td>1.000000</td>\n      <td>1.000000</td>\n    </tr>\n    <tr>\n      <th>50%</th>\n      <td>91.000000</td>\n      <td>0.0</td>\n      <td>0.000000</td>\n      <td>1.616802e+12</td>\n      <td>-120.0</td>\n      <td>1.000000</td>\n      <td>1.000000</td>\n      <td>1.000000</td>\n    </tr>\n    <tr>\n      <th>75%</th>\n      <td>136.500000</td>\n      <td>0.0</td>\n      <td>0.000000</td>\n      <td>1.616803e+12</td>\n      <td>-120.0</td>\n      <td>1.000000</td>\n      <td>1.000000</td>\n      <td>1.000000</td>\n    </tr>\n    <tr>\n      <th>max</th>\n      <td>182.000000</td>\n      <td>0.0</td>\n      <td>2.000000</td>\n      <td>1.616804e+12</td>\n      <td>-120.0</td>\n      <td>1.000000</td>\n      <td>1.000000</td>\n      <td>1.000000</td>\n    </tr>\n  </tbody>\n</table>\n</div>"
     },
     "metadata": {},
     "execution_count": 56
    }
   ],
   "source": [
    "egypt_torbrowser.describe()"
   ]
  }
 ]
}